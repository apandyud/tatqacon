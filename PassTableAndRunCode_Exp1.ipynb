{
 "cells": [
  {
   "cell_type": "code",
   "execution_count": 3,
   "id": "4e1fa450-bd86-4fe0-aa63-a1148b1a7a5e",
   "metadata": {},
   "outputs": [],
   "source": [
    "import tatqa_utils\n",
    "import pandas as pd"
   ]
  },
  {
   "cell_type": "code",
   "execution_count": 4,
   "id": "a3db33cd-4f26-47b9-84ca-dcc09f429ab3",
   "metadata": {},
   "outputs": [],
   "source": [
    "devdf = pd.read_json('dataset_raw/tatqa_dataset_dev.json')"
   ]
  },
  {
   "cell_type": "code",
   "execution_count": 5,
   "id": "71f8dd6b-5aef-4ba7-a9c3-ff5aac337242",
   "metadata": {},
   "outputs": [],
   "source": [
    "import pandas as pd\n",
    "import pyreadstat\n",
    "from langchain_chroma import Chroma\n",
    "from langchain_openai import OpenAIEmbeddings\n",
    "import utils\n",
    "from langchain_community.vectorstores import FAISS\n",
    "from langchain_core.documents import Document\n",
    "import numpy as np\n",
    "from progress.bar import Bar\n",
    "%load_ext autoreload\n",
    "%autoreload 2"
   ]
  },
  {
   "cell_type": "code",
   "execution_count": 6,
   "id": "cbf10b98-b80b-47ad-ad92-2918f2b7155c",
   "metadata": {},
   "outputs": [],
   "source": [
    "import os\n",
    "with open('dataset_raw/openai.api.key', 'r') as filek: \n",
    "    openai_key = filek.read()\n",
    "os.environ[\"OPENAI_API_KEY\"] =  openai_key "
   ]
  },
  {
   "cell_type": "code",
   "execution_count": 7,
   "id": "b93c3123-f900-44a1-af36-0aeac544b78d",
   "metadata": {},
   "outputs": [],
   "source": [
    "from langchain.globals import set_llm_cache\n",
    "from langchain_openai import ChatOpenAI\n",
    "from langchain_community.cache import SQLiteCache\n",
    "\n",
    "llm = ChatOpenAI(temperature=0)\n",
    "set_llm_cache(SQLiteCache(database_path=\".langchain.db\"))"
   ]
  },
  {
   "cell_type": "code",
   "execution_count": 8,
   "id": "76a048c8-6eae-42c3-a240-012aa5e50f92",
   "metadata": {},
   "outputs": [
    {
     "data": {
      "text/plain": [
       "AIMessage(content='def run():\\n    return 1', additional_kwargs={'refusal': None}, response_metadata={'token_usage': {'completion_tokens': 7, 'prompt_tokens': 72, 'total_tokens': 79, 'completion_tokens_details': {'audio_tokens': None, 'reasoning_tokens': 0}, 'prompt_tokens_details': {'audio_tokens': None, 'cached_tokens': 0}}, 'model_name': 'gpt-3.5-turbo-0125', 'system_fingerprint': None, 'finish_reason': 'stop', 'logprobs': None}, id='run-119f123f-4923-41e1-b801-f856de8b359e-0', usage_metadata={'input_tokens': 72, 'output_tokens': 7, 'total_tokens': 79, 'input_token_details': {'cache_read': 0}, 'output_token_details': {'reasoning': 0}})"
      ]
     },
     "execution_count": 8,
     "metadata": {},
     "output_type": "execute_result"
    }
   ],
   "source": [
    "def gen_code_A(llm, question, table):\n",
    "    prompt = f\"Given the following table, can you generate a python code, without sample data, which can answer the following question? the code must contain only one function called 'run', and no wrapping class. The function would return numeric results. Do not write explanation, just code.\\nQuestion: {question} \\n Table: {table}\"\n",
    "    return llm.invoke(prompt)\n",
    "gen_code_A(llm, 'What is 1?', '[]')    "
   ]
  },
  {
   "cell_type": "code",
   "execution_count": 13,
   "id": "3e9eb3f7-6e35-4b30-abc4-8dd5a5ee19f3",
   "metadata": {},
   "outputs": [
    {
     "data": {
      "text/plain": [
       "-12.600000000000001"
      ]
     },
     "execution_count": 13,
     "metadata": {},
     "output_type": "execute_result"
    }
   ],
   "source": [
    "def gen_code(llm, question, table):\n",
    "    prompt = f\"Given the following table, can you generate a python code, without sample data, which can answer the following question? the code must contain only one function called 'run', and no wrapping class. The function would return numeric results. Do not write explanation, just code.\\nQuestion: {question} \\n Table: {table}\"\n",
    "    res = llm.invoke(prompt)\n",
    "    code = res.content.replace('```python','').replace('```','')\n",
    "    return code\n",
    "\n",
    "def exec_code(code, table):  \n",
    "    try: \n",
    "        loc = locals()   \n",
    "        if not \"run()\" in code:\n",
    "            exec(code + f\"\\nr = run({table})\\n\", globals(), loc)\n",
    "        else: \n",
    "            exec(code + \"\\nr = run()\\n\", globals(), loc)\n",
    "        return loc['r']\n",
    "    except Exception as e:\n",
    "            s = str(e)\n",
    "            print('[Error] ' + s)\n",
    "            return None\n",
    "table = \"[['', '', 'Years Ended September 30,', ''], ['', '2019', '2018', '2017'], ['Fixed Price', '$  1,452.4', '$  1,146.2', '$  1,036.9'], ['Other', '44.1', '56.7', '70.8'], ['Total sales', '$1,496.5', '$1,202.9', '$1,107.7']]\"\n",
    "code = gen_code(llm, 'What is the change in Other in 2019 from 2018?', table)\n",
    "exec_code(code, table)"
   ]
  },
  {
   "cell_type": "code",
   "execution_count": 23,
   "id": "04df9965-ab3b-40de-a762-f10d6c8718a0",
   "metadata": {
    "scrolled": true
   },
   "outputs": [
    {
     "data": {
      "application/vnd.jupyter.widget-view+json": {
       "model_id": "0ced18e5972340659eae03f6078d5b5c",
       "version_major": 2,
       "version_minor": 0
      },
      "text/plain": [
       "0it [00:00, ?it/s]"
      ]
     },
     "metadata": {},
     "output_type": "display_data"
    },
    {
     "name": "stdout",
     "output_type": "stream",
     "text": [
      "[Error] could not convert string to float: ''\n",
      "178.66666666666666\n",
      "[Error] '2019 €m' is not in list\n",
      "[Error] invalid literal for int() with base 10: '(19911)'\n",
      "73\n",
      "[Error] could not convert string to float: 'Dividend yiel'\n",
      "[Error] could not convert string to float: '1,372.3'\n",
      "[Error] invalid literal for int() with base 10: ''\n",
      "-14212\n",
      "[Error] could not convert string to float: '1,073.3'\n",
      "[Error] invalid literal for int() with base 10: '1,050'\n",
      "[Error] invalid literal for int() with base 10: ''\n",
      "[Error] '(' was never closed (<string>, line 3)\n",
      "[Error] list index out of range\n",
      "[Error] '(' was never closed (<string>, line 2)\n",
      "[Error] invalid literal for int() with base 10: ''\n",
      "[Error] invalid literal for int() with base 10: '(9)'\n",
      "[Error] invalid literal for int() with base 10: '$(3990'\n",
      "[Error] invalid literal for int() with base 10: '(1149550)'\n",
      "2849050\n",
      "[Error] '(' was never closed (<string>, line 5)\n",
      "[Error] invalid syntax. Perhaps you forgot a comma? (<string>, line 3)\n",
      "[Error] invalid literal for int() with base 10: '—'\n",
      "424.0\n",
      "[Error] '(' was never closed (<string>, line 3)\n",
      "[Error] '(' was never closed (<string>, line 4)\n",
      "-7\n",
      "[Error] 'F19' is not in list\n",
      "[Error] could not convert string to float: '2,450.8'\n",
      "[Error] closing parenthesis '}' does not match opening parenthesis '(' (<string>, line 4)\n",
      "[Error] '(' was never closed (<string>, line 3)\n",
      "-43\n",
      "[Error] invalid literal for int() with base 10: '—'\n",
      "[Error] unterminated string literal (detected at line 5) (<string>, line 5)\n",
      "[Error] unterminated string literal (detected at line 3) (<string>, line 3)\n",
      "-0.10000000000000009\n",
      "[Error] could not convert string to float: '—'\n",
      "[Error] invalid literal for int() with base 10: '(9)'\n",
      "[Error] could not convert string to float: '—'\n",
      "[Error] invalid literal for int() with base 10: '—'\n",
      "77395\n",
      "[Error] could not convert string to float: ''\n",
      "91.6\n",
      "[Error] invalid literal for int() with base 10: 'Cash-settled awards'\n",
      "251.3\n",
      "[Error] invalid literal for int() with base 10: '—'\n",
      "6.100000000000001\n",
      "[Error] '(' was never closed (<string>, line 10)\n",
      "90494\n",
      "1454.5\n",
      "[Error] invalid literal for int() with base 10: '(5062)'\n",
      "[Error] list index out of range\n",
      "[Error] '(' was never closed (<string>, line 3)\n",
      "2053.5\n",
      "57\n",
      "[Error] '(' was never closed (<string>, line 5)\n",
      "[Error] division by zero\n",
      "622908\n",
      "58442\n",
      "[Error] could not convert string to float: '(0.1)'\n",
      "1541.5\n",
      "[Error] could not convert string to float: ''\n",
      "[Error] invalid literal for int() with base 10: '(5625)'\n",
      "[Error] could not convert string to float: '(5625)'\n",
      "[Error] float division by zero\n",
      "[Error] invalid literal for int() with base 10: '(238)'\n",
      "[Error] invalid literal for int() with base 10: '32,137'\n",
      "[Error] invalid literal for int() with base 10: '9%'\n",
      "[Error] '(' was never closed (<string>, line 3)\n",
      "[Error] '(' was never closed (<string>, line 3)\n",
      "[Error] invalid literal for int() with base 10: '(9)%'\n",
      "[Error] '(' was never closed (<string>, line 3)\n",
      "75.2\n",
      "[Error] invalid literal for int() with base 10: '$ 64.77'\n",
      "[Error] could not convert string to float: ''\n",
      "[Error] could not convert string to float: '1,779'\n",
      "[Error] invalid literal for int() with base 10: '(2129)'\n",
      "[Error] invalid literal for int() with base 10: '$8620'\n",
      "[Error] list index out of range\n",
      "[Error] invalid literal for int() with base 10: '(18)'\n",
      "[Error] invalid literal for int() with base 10: 'Regional films (excluding Tamil films)'\n",
      "[Error] invalid literal for int() with base 10: ''\n",
      "[Error] invalid literal for int() with base 10: '3,538'\n",
      "17842\n",
      "33534\n",
      "[Error] could not convert string to float: '3.27)'\n",
      "[Error] '(' was never closed (<string>, line 3)\n",
      "[Error] invalid literal for int() with base 10: '1,310'\n",
      "[Error] could not convert string to float: '9,538.4'\n",
      "[Error] invalid literal for int() with base 10: '(1108)'\n",
      "0.004544817325476754\n",
      "0.40000000000000013\n",
      "[Error] unterminated string literal (detected at line 3) (<string>, line 3)\n",
      "[Error] 'April 28, 2018 (2)' is not in list\n",
      "-1\n",
      "-236.0\n",
      "[Error] unterminated string literal (detected at line 10) (<string>, line 10)\n",
      "[Error] could not convert string to float: '$1758'\n",
      "[Error] '(' was never closed (<string>, line 3)\n",
      "0\n",
      "1400.0\n",
      "[Error] invalid literal for int() with base 10: '(365162)'\n",
      "9754\n",
      "[Error] '2019' is not in list\n",
      "8325.0\n",
      "27923\n",
      "[Error] invalid literal for int() with base 10: '1,001'\n",
      "[Error] invalid literal for int() with base 10: '6,736'\n",
      "[Error] invalid literal for int() with base 10: 'Restructuring charges (2)'\n",
      "[Error] invalid literal for int() with base 10: '$2266'\n",
      "[Error] '(' was never closed (<string>, line 3)\n",
      "1183.9999999999998\n",
      "[Error] invalid literal for int() with base 10: '7,658'\n",
      "[Error] '(' was never closed (<string>, line 3)\n",
      "[Error] '(' was never closed (<string>, line 3)\n",
      "[Error] '(' was never closed (<string>, line 3)\n",
      "2.1000000000000085\n",
      "[Error] '(' was never closed (<string>, line 3)\n",
      "[Error] could not convert string to float: '1,308.4'\n",
      "[Error] 'April 27, 2018' is not in list\n",
      "[Error] invalid literal for int() with base 10: '22,989'\n",
      "[Error] '(' was never closed (<string>, line 3)\n",
      "[Error] unterminated string literal (detected at line 4) (<string>, line 4)\n",
      "[Error] invalid literal for int() with base 10: '$30303'\n",
      "[Error] invalid literal for int() with base 10: 'Non-Swiss'\n",
      "[Error] invalid literal for int() with base 10: '$1046'\n",
      "[Error] 'July 27, 2019' is not in list\n",
      "[Error] invalid literal for int() with base 10: '$2822'\n",
      "[Error] invalid literal for int() with base 10: '(1,709)'\n",
      "[Error] invalid literal for int() with base 10: '1,951'\n",
      "[Error] invalid literal for int() with base 10: '—'\n",
      "[Error] invalid literal for int() with base 10: '1,116'\n",
      "[Error] unsupported operand type(s) for -: 'tuple' and 'tuple'\n",
      "[Error] '(' was never closed (<string>, line 3)\n",
      "[Error] '(' was never closed (<string>, line 3)\n",
      "462.0\n",
      "-0.20000000000000018\n",
      "[Error] invalid literal for int() with base 10: '(1,074)'\n",
      "2140.0\n",
      "[Error] invalid literal for int() with base 10: '—'\n",
      "[Error] '(' was never closed (<string>, line 3)\n",
      "[Error] list index out of range\n",
      "[Error] invalid literal for int() with base 10: '2,321'\n",
      "[Error] invalid literal for int() with base 10: '9,196'\n",
      "[Error] invalid literal for int() with base 10: '1,429'\n",
      "[Error] invalid literal for int() with base 10: '(7125)'\n",
      "[Error] unsupported operand type(s) for /: 'tuple' and 'int'\n",
      "21244\n",
      "140\n",
      "[Error] invalid literal for int() with base 10: '1,663'\n",
      "[Error] invalid literal for int() with base 10: '29,423'\n",
      "0.5\n",
      "[Error] invalid literal for int() with base 10: 'Cost of revenue'\n",
      "[Error] could not convert string to float: 'Total'\n",
      "9865\n",
      "11749\n",
      "[Error] invalid literal for int() with base 10: '(12632)'\n",
      "[Error] could not convert string to float: 'Net income per basic share (1)'\n"
     ]
    }
   ],
   "source": [
    "from tqdm.notebook import tqdm as log_progress\n",
    "\n",
    "res = []\n",
    "for i, item in log_progress(devdf.iterrows()):\n",
    "    table = item['table']['table']\n",
    "    for q in item['questions']:        \n",
    "        if q['answer_type'] == 'arithmetic' and 'table' in q['answer_from']: \n",
    "            code = gen_code(llm, q, table)\n",
    "            pred = exec_code(code, table)\n",
    "            #res.append({\"table\":table, \"q\":q, \"pred\":pred, \"code\": code})\n",
    "            res.append(({\"answer_type\":q[\"answer_type\"], \"answer\": q[\"answer\"], 'scale': ''}, pred, '', q, code))\n"
   ]
  },
  {
   "cell_type": "code",
   "execution_count": 26,
   "id": "50e3f692-0c4b-431b-95ee-0744f95d4c52",
   "metadata": {},
   "outputs": [
    {
     "name": "stdout",
     "output_type": "stream",
     "text": [
      "0.6054131054131054 0.6054131054131054 0.8190883190883191\n"
     ]
    }
   ],
   "source": [
    "metrics = TaTQAEmAndF1()\n",
    "\n",
    "for ans, pred, pred_scale, _,_ in res:\n",
    "    metrics(ans, pred, pred_scale)\n",
    "pred_em, pred_f1, scale_score, op_score = metrics.get_overall_metric(reset=True)\n",
    "print( pred_em, pred_f1, scale_score)"
   ]
  },
  {
   "cell_type": "code",
   "execution_count": 30,
   "id": "b6379c6a-e85a-4cdc-bf32-55e0744d03fe",
   "metadata": {},
   "outputs": [],
   "source": [
    "import pickle\n",
    "with open('res_p1_noscale.pickle', 'wb') as f:\n",
    "    pickle.dump(res,f)"
   ]
  },
  {
   "cell_type": "code",
   "execution_count": null,
   "id": "a0dfc63f-d795-47cc-9875-e63411ee4e3b",
   "metadata": {},
   "outputs": [],
   "source": []
  }
 ],
 "metadata": {
  "kernelspec": {
   "display_name": "Python [conda env:arpad_tab]",
   "language": "python",
   "name": "conda-env-arpad_tab-py"
  },
  "language_info": {
   "codemirror_mode": {
    "name": "ipython",
    "version": 3
   },
   "file_extension": ".py",
   "mimetype": "text/x-python",
   "name": "python",
   "nbconvert_exporter": "python",
   "pygments_lexer": "ipython3",
   "version": "3.10.15"
  }
 },
 "nbformat": 4,
 "nbformat_minor": 5
}
