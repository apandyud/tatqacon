{
 "cells": [
  {
   "cell_type": "code",
   "execution_count": 1,
   "id": "af672ef1-12cb-43d3-9bc3-f600cc96fffc",
   "metadata": {},
   "outputs": [
    {
     "ename": "ValueError",
     "evalue": "could not convert string to float: '—'",
     "output_type": "error",
     "traceback": [
      "\u001b[0;31m---------------------------------------------------------------------------\u001b[0m",
      "\u001b[0;31mValueError\u001b[0m                                Traceback (most recent call last)",
      "Cell \u001b[0;32mIn[1], line 85\u001b[0m\n\u001b[1;32m     82\u001b[0m     \u001b[38;5;28;01mreturn\u001b[39;00m results\n\u001b[1;32m     84\u001b[0m \u001b[38;5;66;03m# Extract the data\u001b[39;00m\n\u001b[0;32m---> 85\u001b[0m data_extracted \u001b[38;5;241m=\u001b[39m \u001b[43mextract_data_general\u001b[49m\u001b[43m(\u001b[49m\u001b[43mtables\u001b[49m\u001b[43m)\u001b[49m\n\u001b[1;32m     87\u001b[0m \u001b[38;5;66;03m# Print the extracted data\u001b[39;00m\n\u001b[1;32m     88\u001b[0m \u001b[38;5;28;01mimport\u001b[39;00m \u001b[38;5;21;01mpprint\u001b[39;00m\n",
      "Cell \u001b[0;32mIn[1], line 72\u001b[0m, in \u001b[0;36mextract_data_general\u001b[0;34m(tables)\u001b[0m\n\u001b[1;32m     69\u001b[0m value \u001b[38;5;241m=\u001b[39m row[i]\u001b[38;5;241m.\u001b[39mstrip()\n\u001b[1;32m     70\u001b[0m \u001b[38;5;28;01mif\u001b[39;00m value \u001b[38;5;129;01mand\u001b[39;00m value \u001b[38;5;241m!=\u001b[39m \u001b[38;5;124m'\u001b[39m\u001b[38;5;124m—\u001b[39m\u001b[38;5;124m'\u001b[39m:\n\u001b[1;32m     71\u001b[0m     \u001b[38;5;66;03m# Clean and convert the value\u001b[39;00m\n\u001b[0;32m---> 72\u001b[0m     numeric_value \u001b[38;5;241m=\u001b[39m \u001b[38;5;28;43mfloat\u001b[39;49m\u001b[43m(\u001b[49m\u001b[43mvalue\u001b[49m\u001b[38;5;241;43m.\u001b[39;49m\u001b[43mreplace\u001b[49m\u001b[43m(\u001b[49m\u001b[38;5;124;43m'\u001b[39;49m\u001b[38;5;124;43m$\u001b[39;49m\u001b[38;5;124;43m'\u001b[39;49m\u001b[43m,\u001b[49m\u001b[43m \u001b[49m\u001b[38;5;124;43m'\u001b[39;49m\u001b[38;5;124;43m'\u001b[39;49m\u001b[43m)\u001b[49m\u001b[38;5;241;43m.\u001b[39;49m\u001b[43mreplace\u001b[49m\u001b[43m(\u001b[49m\u001b[38;5;124;43m'\u001b[39;49m\u001b[38;5;124;43m,\u001b[39;49m\u001b[38;5;124;43m'\u001b[39;49m\u001b[43m,\u001b[49m\u001b[43m \u001b[49m\u001b[38;5;124;43m'\u001b[39;49m\u001b[38;5;124;43m'\u001b[39;49m\u001b[43m)\u001b[49m\u001b[38;5;241;43m.\u001b[39;49m\u001b[43mreplace\u001b[49m\u001b[43m(\u001b[49m\u001b[38;5;124;43m'\u001b[39;49m\u001b[38;5;124;43m(\u001b[39;49m\u001b[38;5;124;43m'\u001b[39;49m\u001b[43m,\u001b[49m\u001b[43m \u001b[49m\u001b[38;5;124;43m'\u001b[39;49m\u001b[38;5;124;43m-\u001b[39;49m\u001b[38;5;124;43m'\u001b[39;49m\u001b[43m)\u001b[49m\u001b[38;5;241;43m.\u001b[39;49m\u001b[43mreplace\u001b[49m\u001b[43m(\u001b[49m\u001b[38;5;124;43m'\u001b[39;49m\u001b[38;5;124;43m)\u001b[39;49m\u001b[38;5;124;43m'\u001b[39;49m\u001b[43m,\u001b[49m\u001b[43m \u001b[49m\u001b[38;5;124;43m'\u001b[39;49m\u001b[38;5;124;43m'\u001b[39;49m\u001b[43m)\u001b[49m\u001b[43m)\u001b[49m\n\u001b[1;32m     74\u001b[0m     \u001b[38;5;66;03m# Gather contextual information\u001b[39;00m\n\u001b[1;32m     75\u001b[0m     info \u001b[38;5;241m=\u001b[39m context_stack \u001b[38;5;241m+\u001b[39m [headers[i]]\n",
      "\u001b[0;31mValueError\u001b[0m: could not convert string to float: '—'"
     ]
    }
   ],
   "source": [
    "import re\n",
    "\n",
    "# List of tables to process\n",
    "tables = [\n",
    "    [['(In Millions)', 'Dec 29, 2018', 'Acquisitions', 'Transfers', 'Other', 'Dec 28, 2019'],\n",
    "     ['Data Center Group', '$5,424', '$1,758', '$—', '$—', '$7,155'],\n",
    "     ['Internet of Things Group', '1,579', '—', '—', '—', '1,579'],\n",
    "     ['Mobileye', '10,290', '—', '—', '—', '10,290'],\n",
    "     ['Programmable Solutions Group', '2,579', '67', '—', '8', '2,681'],\n",
    "     ['Client Computing Group', '4,403', '—', '—', '(70)', '4,333'],\n",
    "     ['All other', '238', '—', '—', '—', '238'],\n",
    "     ['Total', '$24,513', '$1,825', '$—', '$(62)', '$26,276']],\n",
    "\n",
    "    [['(In Millions)', 'Dec 30, 2017', 'Acquisitions', 'Transfers', 'Other', 'Dec 29, 2018'],\n",
    "     ['Data Center Group', '$5,421', '$3', '$—', '$—', '$5,424'],\n",
    "     ['Internet of Things Group', '1,126', '16', '480', '(43)', '1,579'],\n",
    "     ['Mobileye', '10,278', '7', '—', '5', '10,290'],\n",
    "     ['Programmable Solutions Group', '2,490', '89', '—', '—', '2,579'],\n",
    "     ['Client Computing Group', '4,356', '47', '—', '—', '4,403'],\n",
    "     ['All other', '718', '—', '(480)', '—', '238'],\n",
    "     ['Total', '$24,389', '$162', '$—', '$(38)', '$24,513']],\n",
    "\n",
    "    [['', 'December 31,', ''],\n",
    "     ['', '2019', '2018'],\n",
    "     ['Trade accounts receivable, net, noncurrent (Note 2)', '$26,496', '$15,948'],\n",
    "     ['Equity method investments (Note 1)', '9,254', '9,702'],\n",
    "     ['Net deferred tax assets, noncurrent (Note 20)', '6,774', '5,797'],\n",
    "     ['Rent and other deposits', '6,106', '5,687'],\n",
    "     ['Value added tax receivables, net, noncurrent', '592', '519'],\n",
    "     ['Other', '6,723', '5,711'],\n",
    "     ['', '$55,945', '$43,364']],\n",
    "\n",
    "    [['As of', '2019', '2018'],\n",
    "     ['Assets', '', ''],\n",
    "     ['Cash and equivalents', '$130', '$91'],\n",
    "     ['Receivables', '128', '126'],\n",
    "     ['Inventories', '124', '114'],\n",
    "     ['Other current assets', '9', '8'],\n",
    "     ['Total current assets', '391', '339'],\n",
    "     ['Property, plant, and equipment', '2,235', '2,641'],\n",
    "     ['Other noncurrent assets', '38', '45'],\n",
    "     ['Total assets', '$2,664', '$3,025'],\n",
    "     ['Liabilities', '', ''],\n",
    "     ['Accounts payable and accrued expenses', '$118', '$138'],\n",
    "     ['Current debt', '696', '20'],\n",
    "     ['Other current liabilities', '37', '9'],\n",
    "     ['Total current liabilities', '851', '167'],\n",
    "     ['Long-term debt', '53', '1,064'],\n",
    "     ['Other noncurrent liabilities', '5', '74'],\n",
    "     ['Total liabilities', '$909', '$1,305']]\n",
    "]\n",
    "\n",
    "# Function to extract data with contextual information from tables\n",
    "def extract_data_general(tables):\n",
    "    results = []\n",
    "\n",
    "    for table in tables:\n",
    "        headers = table[0]\n",
    "        context_stack = []\n",
    "\n",
    "        for row in table[1:]:\n",
    "            # Use the first cell of the row as a label if it's not empty\n",
    "            label = row[0].strip()\n",
    "            if label:\n",
    "                context_stack = [label]\n",
    "\n",
    "            # Iterate through the row's values (skipping the first label cell)\n",
    "            for i in range(1, len(row)):\n",
    "                value = row[i].strip()\n",
    "                if value and value != '—':\n",
    "                    # Clean and convert the value\n",
    "                    numeric_value = float(value.replace('$', '').replace(',', '').replace('(', '-').replace(')', ''))\n",
    "\n",
    "                    # Gather contextual information\n",
    "                    info = context_stack + [headers[i]]\n",
    "\n",
    "                    results.append({\n",
    "                        \"value\": numeric_value,\n",
    "                        \"info\": [item for item in info if item]  # Exclude empty strings\n",
    "                    })\n",
    "\n",
    "    return results\n",
    "\n",
    "# Extract the data\n",
    "data_extracted = extract_data_general(tables)\n",
    "\n",
    "# Print the extracted data\n",
    "import pprint\n",
    "pprint.pprint(data_extracted)\n"
   ]
  },
  {
   "cell_type": "code",
   "execution_count": 5,
   "id": "2aa9488f-53d5-4a3b-964f-fc4aef00d58e",
   "metadata": {},
   "outputs": [
    {
     "data": {
      "text/plain": [
       "False"
      ]
     },
     "execution_count": 5,
     "metadata": {},
     "output_type": "execute_result"
    }
   ],
   "source": [
    "input_str = '21 December 198 212121'\n",
    "\n",
    "def s(input_str):\n",
    "    pattern = r\"\\b\\d{4}\\b\"\n",
    "    regex = re.compile(pattern, re.VERBOSE)\n",
    "    match = regex.search(input_str)\n",
    "    if not match:\n",
    "        return False\n",
    "    return True\n",
    "s(input_str)\n",
    "\n",
    "    "
   ]
  },
  {
   "cell_type": "code",
   "execution_count": null,
   "id": "a2279eff-d0c3-4e80-bad1-0c065810e88d",
   "metadata": {},
   "outputs": [],
   "source": []
  }
 ],
 "metadata": {
  "kernelspec": {
   "display_name": "Python [conda env:arpad_tab]",
   "language": "python",
   "name": "conda-env-arpad_tab-py"
  },
  "language_info": {
   "codemirror_mode": {
    "name": "ipython",
    "version": 3
   },
   "file_extension": ".py",
   "mimetype": "text/x-python",
   "name": "python",
   "nbconvert_exporter": "python",
   "pygments_lexer": "ipython3",
   "version": "3.10.15"
  }
 },
 "nbformat": 4,
 "nbformat_minor": 5
}
