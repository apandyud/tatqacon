{
 "cells": [
  {
   "cell_type": "code",
   "execution_count": 1,
   "id": "4e1fa450-bd86-4fe0-aa63-a1148b1a7a5e",
   "metadata": {},
   "outputs": [],
   "source": [
    "import tatqa_utils\n",
    "import pandas as pd"
   ]
  },
  {
   "cell_type": "code",
   "execution_count": 2,
   "id": "a3db33cd-4f26-47b9-84ca-dcc09f429ab3",
   "metadata": {},
   "outputs": [],
   "source": [
    "devdf = pd.read_json('dataset_raw/tatqa_dataset_test.json')"
   ]
  },
  {
   "cell_type": "code",
   "execution_count": 8,
   "id": "df0c6b4f-7095-409c-818e-9452c866b255",
   "metadata": {},
   "outputs": [
    {
     "data": {
      "text/html": [
       "<div>\n",
       "<style scoped>\n",
       "    .dataframe tbody tr th:only-of-type {\n",
       "        vertical-align: middle;\n",
       "    }\n",
       "\n",
       "    .dataframe tbody tr th {\n",
       "        vertical-align: top;\n",
       "    }\n",
       "\n",
       "    .dataframe thead th {\n",
       "        text-align: right;\n",
       "    }\n",
       "</style>\n",
       "<table border=\"1\" class=\"dataframe\">\n",
       "  <thead>\n",
       "    <tr style=\"text-align: right;\">\n",
       "      <th></th>\n",
       "      <th>table</th>\n",
       "      <th>paragraphs</th>\n",
       "      <th>questions</th>\n",
       "    </tr>\n",
       "  </thead>\n",
       "  <tbody>\n",
       "    <tr>\n",
       "      <th>0</th>\n",
       "      <td>{'uid': 'c4b92833-5c85-4bf4-b493-bc7741d759df'...</td>\n",
       "      <td>[{'uid': '04bfbe1d-235b-4036-95c2-e49983eb9cef...</td>\n",
       "      <td>[{'uid': '7c884c23-7774-4414-b817-d41dd797319b...</td>\n",
       "    </tr>\n",
       "    <tr>\n",
       "      <th>1</th>\n",
       "      <td>{'uid': '72342eec-d7d7-4ebd-ac45-5cf6cea20854'...</td>\n",
       "      <td>[{'uid': 'dec01fcd-5413-4c65-b6d9-bb133a964061...</td>\n",
       "      <td>[{'uid': 'f4137452-abf1-4a6b-a01b-52f9fda838b5...</td>\n",
       "    </tr>\n",
       "    <tr>\n",
       "      <th>2</th>\n",
       "      <td>{'uid': 'a66ccdd8-f680-45f5-958c-d086dbdb7a6f'...</td>\n",
       "      <td>[{'uid': '9d804915-eaa8-41ec-a46f-d115374f004e...</td>\n",
       "      <td>[{'uid': '070d313b-246b-4c42-9778-19c4423c4fcc...</td>\n",
       "    </tr>\n",
       "    <tr>\n",
       "      <th>3</th>\n",
       "      <td>{'uid': '88f81628-8b8b-4c7a-b0be-0fb1c0e3adbd'...</td>\n",
       "      <td>[{'uid': 'b36063e3-363f-4253-9b1c-482ef698012f...</td>\n",
       "      <td>[{'uid': 'ecda9a78-ff19-487e-953e-1827044fc0eb...</td>\n",
       "    </tr>\n",
       "    <tr>\n",
       "      <th>4</th>\n",
       "      <td>{'uid': '8c3c2602-da6e-4ff2-b9b5-fe720103aeed'...</td>\n",
       "      <td>[{'uid': '1cdf34e4-4681-47e8-94b0-2c8bf85b8dd8...</td>\n",
       "      <td>[{'uid': '90c1760e-25a7-42c9-86fa-cb4d674d9ae0...</td>\n",
       "    </tr>\n",
       "    <tr>\n",
       "      <th>...</th>\n",
       "      <td>...</td>\n",
       "      <td>...</td>\n",
       "      <td>...</td>\n",
       "    </tr>\n",
       "    <tr>\n",
       "      <th>273</th>\n",
       "      <td>{'uid': 'f093d959-5d51-4e09-9306-7e4dafe3e035'...</td>\n",
       "      <td>[{'uid': 'a7549455-bc82-4494-98fa-9e02bb0a129c...</td>\n",
       "      <td>[{'uid': '693401db-958c-4375-82de-44a9d21b385f...</td>\n",
       "    </tr>\n",
       "    <tr>\n",
       "      <th>274</th>\n",
       "      <td>{'uid': '8fc0b998-4631-426a-8006-7b2b4942768b'...</td>\n",
       "      <td>[{'uid': '444a3b80-d7b8-4bfd-8860-fcc111d0aa19...</td>\n",
       "      <td>[{'uid': 'b3ed5e20-92b9-4f99-9f06-956bfe669dba...</td>\n",
       "    </tr>\n",
       "    <tr>\n",
       "      <th>275</th>\n",
       "      <td>{'uid': '947aacd0-79b2-4daa-9a62-930c36896e10'...</td>\n",
       "      <td>[{'uid': '3dbbd54c-452c-43d0-8f1e-b43e9a0e464d...</td>\n",
       "      <td>[{'uid': '307dc920-4111-4823-bda8-7d3929196715...</td>\n",
       "    </tr>\n",
       "    <tr>\n",
       "      <th>276</th>\n",
       "      <td>{'uid': '1aaecafd-b535-41b6-9f50-66a7e29b30f7'...</td>\n",
       "      <td>[{'uid': 'd353e1ca-aecc-4fe0-a338-7fa5800ff623...</td>\n",
       "      <td>[{'uid': '61620b97-fea0-4a40-aa48-31ff0f42a880...</td>\n",
       "    </tr>\n",
       "    <tr>\n",
       "      <th>277</th>\n",
       "      <td>{'uid': '0b52e13f-7268-46db-86bd-a26e1a8f5a99'...</td>\n",
       "      <td>[{'uid': '6146c135-f166-458f-a9b1-ded56459032a...</td>\n",
       "      <td>[{'uid': 'c4170232-e89c-487a-97c5-afad45e9d702...</td>\n",
       "    </tr>\n",
       "  </tbody>\n",
       "</table>\n",
       "<p>278 rows × 3 columns</p>\n",
       "</div>"
      ],
      "text/plain": [
       "                                                 table  \\\n",
       "0    {'uid': 'c4b92833-5c85-4bf4-b493-bc7741d759df'...   \n",
       "1    {'uid': '72342eec-d7d7-4ebd-ac45-5cf6cea20854'...   \n",
       "2    {'uid': 'a66ccdd8-f680-45f5-958c-d086dbdb7a6f'...   \n",
       "3    {'uid': '88f81628-8b8b-4c7a-b0be-0fb1c0e3adbd'...   \n",
       "4    {'uid': '8c3c2602-da6e-4ff2-b9b5-fe720103aeed'...   \n",
       "..                                                 ...   \n",
       "273  {'uid': 'f093d959-5d51-4e09-9306-7e4dafe3e035'...   \n",
       "274  {'uid': '8fc0b998-4631-426a-8006-7b2b4942768b'...   \n",
       "275  {'uid': '947aacd0-79b2-4daa-9a62-930c36896e10'...   \n",
       "276  {'uid': '1aaecafd-b535-41b6-9f50-66a7e29b30f7'...   \n",
       "277  {'uid': '0b52e13f-7268-46db-86bd-a26e1a8f5a99'...   \n",
       "\n",
       "                                            paragraphs  \\\n",
       "0    [{'uid': '04bfbe1d-235b-4036-95c2-e49983eb9cef...   \n",
       "1    [{'uid': 'dec01fcd-5413-4c65-b6d9-bb133a964061...   \n",
       "2    [{'uid': '9d804915-eaa8-41ec-a46f-d115374f004e...   \n",
       "3    [{'uid': 'b36063e3-363f-4253-9b1c-482ef698012f...   \n",
       "4    [{'uid': '1cdf34e4-4681-47e8-94b0-2c8bf85b8dd8...   \n",
       "..                                                 ...   \n",
       "273  [{'uid': 'a7549455-bc82-4494-98fa-9e02bb0a129c...   \n",
       "274  [{'uid': '444a3b80-d7b8-4bfd-8860-fcc111d0aa19...   \n",
       "275  [{'uid': '3dbbd54c-452c-43d0-8f1e-b43e9a0e464d...   \n",
       "276  [{'uid': 'd353e1ca-aecc-4fe0-a338-7fa5800ff623...   \n",
       "277  [{'uid': '6146c135-f166-458f-a9b1-ded56459032a...   \n",
       "\n",
       "                                             questions  \n",
       "0    [{'uid': '7c884c23-7774-4414-b817-d41dd797319b...  \n",
       "1    [{'uid': 'f4137452-abf1-4a6b-a01b-52f9fda838b5...  \n",
       "2    [{'uid': '070d313b-246b-4c42-9778-19c4423c4fcc...  \n",
       "3    [{'uid': 'ecda9a78-ff19-487e-953e-1827044fc0eb...  \n",
       "4    [{'uid': '90c1760e-25a7-42c9-86fa-cb4d674d9ae0...  \n",
       "..                                                 ...  \n",
       "273  [{'uid': '693401db-958c-4375-82de-44a9d21b385f...  \n",
       "274  [{'uid': 'b3ed5e20-92b9-4f99-9f06-956bfe669dba...  \n",
       "275  [{'uid': '307dc920-4111-4823-bda8-7d3929196715...  \n",
       "276  [{'uid': '61620b97-fea0-4a40-aa48-31ff0f42a880...  \n",
       "277  [{'uid': 'c4170232-e89c-487a-97c5-afad45e9d702...  \n",
       "\n",
       "[278 rows x 3 columns]"
      ]
     },
     "execution_count": 8,
     "metadata": {},
     "output_type": "execute_result"
    }
   ],
   "source": [
    "devdf"
   ]
  },
  {
   "cell_type": "code",
   "execution_count": 3,
   "id": "71f8dd6b-5aef-4ba7-a9c3-ff5aac337242",
   "metadata": {},
   "outputs": [],
   "source": [
    "import pandas as pd\n",
    "import pyreadstat\n",
    "from langchain_chroma import Chroma\n",
    "from langchain_openai import OpenAIEmbeddings\n",
    "import utils\n",
    "from langchain_community.vectorstores import FAISS\n",
    "from langchain_core.documents import Document\n",
    "import numpy as np\n",
    "from progress.bar import Bar\n",
    "%load_ext autoreload\n",
    "%autoreload 2"
   ]
  },
  {
   "cell_type": "code",
   "execution_count": 4,
   "id": "cbf10b98-b80b-47ad-ad92-2918f2b7155c",
   "metadata": {},
   "outputs": [],
   "source": [
    "import os\n",
    "with open('dataset_raw/openai.api.key', 'r') as filek: \n",
    "    openai_key = filek.read()\n",
    "os.environ[\"OPENAI_API_KEY\"] =  openai_key "
   ]
  },
  {
   "cell_type": "code",
   "execution_count": 5,
   "id": "b93c3123-f900-44a1-af36-0aeac544b78d",
   "metadata": {},
   "outputs": [],
   "source": [
    "from langchain.globals import set_llm_cache\n",
    "from langchain_openai import ChatOpenAI\n",
    "from langchain_community.cache import SQLiteCache\n",
    "\n",
    "llm = ChatOpenAI(temperature=0)\n",
    "set_llm_cache(SQLiteCache(database_path=\".langchain.db\"))"
   ]
  },
  {
   "cell_type": "code",
   "execution_count": null,
   "id": "76a048c8-6eae-42c3-a240-012aa5e50f92",
   "metadata": {},
   "outputs": [],
   "source": []
  },
  {
   "cell_type": "code",
   "execution_count": 6,
   "id": "3e9eb3f7-6e35-4b30-abc4-8dd5a5ee19f3",
   "metadata": {},
   "outputs": [
    {
     "data": {
      "text/plain": [
       "(14.065510597302506, '%')"
      ]
     },
     "execution_count": 6,
     "metadata": {},
     "output_type": "execute_result"
    }
   ],
   "source": [
    "def gen_code(llm, question, table):\n",
    "    prompt = f\"Given the following table, can you generate a python code, without sample data, which can answer the following question? the code must contain only one function called 'run', and no wrapping class. The function would return results with format (value, scale). Do not write explanation, just code.\\nQuestion: {question} \\n Table: {table}\"\n",
    "    res = llm.invoke(prompt)\n",
    "    code = res.content.replace('```python','').replace('```','')\n",
    "    return code\n",
    "\n",
    "def exec_code(code, table):  \n",
    "    try: \n",
    "        loc = locals()   \n",
    "        if not \"run()\" in code:\n",
    "            exec(code + f\"\\nr = run({table})\\n\", globals(), loc)\n",
    "        else: \n",
    "            exec(code + \"\\nr = run()\\n\", globals(), loc)\n",
    "        return loc['r']\n",
    "    except Exception as e:\n",
    "            s = '[Error]'+ str(e)\n",
    "            print(s)\n",
    "            return (s,'')\n",
    "#table = \"[['', '', 'Years Ended September 30,', ''], ['', '2019', '2018', '2017'], ['Fixed Price', '$  1,452.4', '$  1,146.2', '$  1,036.9'], ['Other', '44.1', '56.7', '70.8'], ['Total sales', '$1,496.5', '$1,202.9', '$1,107.7']]\"\n",
    "#question = 'What is the change in Fixed Price in 2019 from 2018?'\n",
    "table = \"[['', 'December 31,', ''], ['', '2019', '2018'], ['Trade accounts receivable, net, noncurrent (Note 2)', '$26,496', '$15,948'], ['Equity method investments (Note 1)', '9,254', '9,702'], ['Net deferred tax assets, noncurrent (Note 20)', '6,774', '5,797'], ['Rent and other deposits', '6,106', '5,687'], ['Value added tax receivables, net, noncurrent', '592', '519'], ['Other', '6,723', '5,711'], ['', '$55,945', '$43,364']]\"\n",
    "question = 'What was the percentage change in Value added tax receivables, net, noncurrent in 2019 from 2018?'\n",
    "code = gen_code(llm, question, table)\n",
    "exec_code(code, table)"
   ]
  },
  {
   "cell_type": "code",
   "execution_count": 7,
   "id": "04df9965-ab3b-40de-a762-f10d6c8718a0",
   "metadata": {
    "scrolled": true
   },
   "outputs": [
    {
     "data": {
      "application/vnd.jupyter.widget-view+json": {
       "model_id": "d28b7209e397428495147e1f2a1be2f4",
       "version_major": 2,
       "version_minor": 0
      },
      "text/plain": [
       "0it [00:00, ?it/s]"
      ]
     },
     "metadata": {},
     "output_type": "display_data"
    },
    {
     "ename": "KeyError",
     "evalue": "'answer_type'",
     "output_type": "error",
     "traceback": [
      "\u001b[0;31m---------------------------------------------------------------------------\u001b[0m",
      "\u001b[0;31mKeyError\u001b[0m                                  Traceback (most recent call last)",
      "Cell \u001b[0;32mIn[7], line 29\u001b[0m\n\u001b[1;32m     26\u001b[0m         (pred_value, pred_unit) \u001b[38;5;241m=\u001b[39m (\u001b[38;5;28;01mNone\u001b[39;00m, \u001b[38;5;28;01mNone\u001b[39;00m)        \n\u001b[1;32m     28\u001b[0m \u001b[38;5;66;03m#res.append({\"table\":table, \"q\":q, \"pred\":pred, \"code\": code})\u001b[39;00m\n\u001b[0;32m---> 29\u001b[0m res\u001b[38;5;241m.\u001b[39mappend(({\u001b[38;5;124m\"\u001b[39m\u001b[38;5;124manswer_type\u001b[39m\u001b[38;5;124m\"\u001b[39m:\u001b[43mq\u001b[49m\u001b[43m[\u001b[49m\u001b[38;5;124;43m\"\u001b[39;49m\u001b[38;5;124;43manswer_type\u001b[39;49m\u001b[38;5;124;43m\"\u001b[39;49m\u001b[43m]\u001b[49m, \u001b[38;5;124m\"\u001b[39m\u001b[38;5;124manswer\u001b[39m\u001b[38;5;124m\"\u001b[39m: q[\u001b[38;5;124m\"\u001b[39m\u001b[38;5;124manswer\u001b[39m\u001b[38;5;124m\"\u001b[39m], \u001b[38;5;124m'\u001b[39m\u001b[38;5;124mscale\u001b[39m\u001b[38;5;124m'\u001b[39m: q[\u001b[38;5;124m\"\u001b[39m\u001b[38;5;124mscale\u001b[39m\u001b[38;5;124m\"\u001b[39m]}, pred_value, pred_unit, q, code, item[\u001b[38;5;124m'\u001b[39m\u001b[38;5;124mtable\u001b[39m\u001b[38;5;124m'\u001b[39m], err))\n",
      "\u001b[0;31mKeyError\u001b[0m: 'answer_type'"
     ]
    }
   ],
   "source": [
    "from tqdm.notebook import tqdm as log_progress\n",
    "\n",
    "res = []\n",
    "for i, item in log_progress(devdf.iterrows()):\n",
    "    table = item['table']['table']\n",
    "    #print (i)\n",
    "    for q in item['questions']:        \n",
    "        #if q['answer_type'] == 'arithmetic' and 'table' in q['answer_from'] : \n",
    "        if True: \n",
    "            code = gen_code(llm, q, table)\n",
    "            r = exec_code(code, table)\n",
    "            err =  None\n",
    "            if r is None:\n",
    "                (pred_value, pred_unit) = (None, None)\n",
    "            else:                \n",
    "                if len(r) == 2:\n",
    "                    (pred_value, pred_unit) = r                    \n",
    "                    #print(pred_value, type(pred_value))\n",
    "                    if isinstance(pred_value, str) and  pred_value.startswith('[Error]'):\n",
    "                        (pred_value, pred_unit) = (None, None)\n",
    "                        err,_ = r                                                        \n",
    "                        \n",
    "                elif len(r) == 1:\n",
    "                    pred_value = r                \n",
    "                else:\n",
    "                    (pred_value, pred_unit) = (None, None)        \n",
    "                \n",
    "            #res.append({\"table\":table, \"q\":q, \"pred\":pred, \"code\": code})\n",
    "            res.append(({\"answer_type\":q[\"answer_type\"], \"answer\": q[\"answer\"], 'scale': q[\"scale\"]}, pred_value, pred_unit, q, code, item['table'], err))\n"
   ]
  },
  {
   "cell_type": "code",
   "execution_count": 9,
   "id": "50e3f692-0c4b-431b-95ee-0744f95d4c52",
   "metadata": {},
   "outputs": [
    {
     "name": "stdout",
     "output_type": "stream",
     "text": [
      "special case\n",
      "special case\n",
      "special case\n",
      "special case\n",
      "special case\n",
      "special case\n",
      "special case\n",
      "special case\n",
      "special case\n",
      "special case\n",
      "special case\n",
      "special case\n",
      "special case\n",
      "special case\n",
      "special case\n",
      "special case\n",
      "special case\n",
      "special case\n",
      "special case\n",
      "special case\n",
      "special case\n",
      "special case\n",
      "special case\n",
      "special case\n",
      "special case\n",
      "special case\n",
      "special case\n",
      "special case\n",
      "special case\n",
      "special case\n",
      "special case\n",
      "special case\n",
      "special case\n",
      "special case\n",
      "special case\n",
      "special case\n",
      "special case\n",
      "special case\n",
      "special case\n",
      "special case\n",
      "special case\n",
      "special case\n",
      "special case\n",
      "special case\n",
      "special case\n",
      "0.6098514464425332 0.6340891321344798 0.6974198592650508\n"
     ]
    }
   ],
   "source": [
    "from tatqa_metric import TaTQAEmAndF1\n",
    "\n",
    "metrics = TaTQAEmAndF1()\n",
    "\n",
    "for ans, pred, pred_scale, _,_, _,_ in res:\n",
    "    metrics(ans, pred, pred_scale)\n",
    "pred_em, pred_f1, scale_score, op_score = metrics.get_overall_metric(reset=True)\n",
    "print( pred_em, pred_f1, scale_score)"
   ]
  },
  {
   "cell_type": "code",
   "execution_count": 28,
   "id": "b6379c6a-e85a-4cdc-bf32-55e0744d03fe",
   "metadata": {},
   "outputs": [],
   "source": [
    "import pickle\n",
    "with open('res_p8_unit.pickle', 'wb') as f:\n",
    "    pickle.dump(res,f)"
   ]
  },
  {
   "cell_type": "code",
   "execution_count": 18,
   "id": "a0dfc63f-d795-47cc-9875-e63411ee4e3b",
   "metadata": {
    "scrolled": true
   },
   "outputs": [
    {
     "name": "stdout",
     "output_type": "stream",
     "text": [
      "({'answer_type': 'arithmetic', 'answer': 14.07, 'scale': 'percent'}, None, None, {'uid': 'a4f782f1-de3b-47a3-87af-1cb33c112b39', 'order': 6, 'question': 'What was the percentage change in Value added tax receivables, net, noncurrent in 2019 from 2018?', 'answer': 14.07, 'derivation': '(592-519)/519', 'answer_type': 'arithmetic', 'answer_from': 'table', 'rel_paragraphs': [], 'req_comparison': False, 'scale': 'percent'}, \"def run():\\n    table = [['', 'December 31,', ''], ['', '2019', '2018'], ['Trade accounts receivable, net, noncurrent (Note 2)', '$26,496', '$15,948'], ['Equity method investments (Note 1)', '9,254', '9,702'], ['Net deferred tax assets, noncurrent (Note 20)', '6,774', '5,797'], ['Rent and other deposits', '6,106', '5,687'], ['Value added tax receivables, net, noncurrent', '592', '519'], ['Other', '6,723', '5,711'], ['', '$55,945', '$43,364']]\\n    \\n    value_2019 = int(table[5][1])\\n    value_2018 = int(table[5][2])\\n    \\n    percentage_change = ((value_2019 - value_2018) / value_2018) * 100\\n    \\n    return (round(percentage_change, 2), 'percent')\", {'uid': '789efd09-04a2-45c7-84e5-47d3543695d1', 'table': [['', 'December 31,', ''], ['', '2019', '2018'], ['Trade accounts receivable, net, noncurrent (Note 2)', '$26,496', '$15,948'], ['Equity method investments (Note 1)', '9,254', '9,702'], ['Net deferred tax assets, noncurrent (Note 20)', '6,774', '5,797'], ['Rent and other deposits', '6,106', '5,687'], ['Value added tax receivables, net, noncurrent', '592', '519'], ['Other', '6,723', '5,711'], ['', '$55,945', '$43,364']]}, \"[Error]invalid literal for int() with base 10: '6,106'\")\n"
     ]
    }
   ],
   "source": [
    "print([i for i in res if i[-1]  is not None][0])\n"
   ]
  },
  {
   "cell_type": "code",
   "execution_count": 20,
   "id": "753c089a-d866-45e1-a5b2-3a943c5a6f5f",
   "metadata": {},
   "outputs": [
    {
     "data": {
      "text/plain": [
       "2"
      ]
     },
     "execution_count": 20,
     "metadata": {},
     "output_type": "execute_result"
    }
   ],
   "source": [
    "len((1,2))"
   ]
  },
  {
   "cell_type": "code",
   "execution_count": 32,
   "id": "cfc151f2-b408-4005-9fff-f3c8c78dadaa",
   "metadata": {},
   "outputs": [],
   "source": [
    "res[0][-1]"
   ]
  },
  {
   "cell_type": "code",
   "execution_count": 16,
   "id": "40845cbb-166c-4062-9e5a-7cfe8b35b639",
   "metadata": {},
   "outputs": [
    {
     "ename": "ValueError",
     "evalue": "invalid literal for int() with base 10: '6,106'",
     "output_type": "error",
     "traceback": [
      "\u001b[0;31m---------------------------------------------------------------------------\u001b[0m",
      "\u001b[0;31mValueError\u001b[0m                                Traceback (most recent call last)",
      "Cell \u001b[0;32mIn[16], line 10\u001b[0m\n\u001b[1;32m      7\u001b[0m     percentage_change \u001b[38;5;241m=\u001b[39m ((value_2019 \u001b[38;5;241m-\u001b[39m value_2018) \u001b[38;5;241m/\u001b[39m value_2018) \u001b[38;5;241m*\u001b[39m \u001b[38;5;241m100\u001b[39m\n\u001b[1;32m      9\u001b[0m     \u001b[38;5;28;01mreturn\u001b[39;00m (\u001b[38;5;28mround\u001b[39m(percentage_change, \u001b[38;5;241m2\u001b[39m), \u001b[38;5;124m'\u001b[39m\u001b[38;5;124mpercent\u001b[39m\u001b[38;5;124m'\u001b[39m)\n\u001b[0;32m---> 10\u001b[0m \u001b[43mrun\u001b[49m\u001b[43m(\u001b[49m\u001b[43m)\u001b[49m\n",
      "Cell \u001b[0;32mIn[16], line 4\u001b[0m, in \u001b[0;36mrun\u001b[0;34m()\u001b[0m\n\u001b[1;32m      1\u001b[0m \u001b[38;5;28;01mdef\u001b[39;00m \u001b[38;5;21mrun\u001b[39m():\n\u001b[1;32m      2\u001b[0m     table \u001b[38;5;241m=\u001b[39m [[\u001b[38;5;124m'\u001b[39m\u001b[38;5;124m'\u001b[39m, \u001b[38;5;124m'\u001b[39m\u001b[38;5;124mDecember 31,\u001b[39m\u001b[38;5;124m'\u001b[39m, \u001b[38;5;124m'\u001b[39m\u001b[38;5;124m'\u001b[39m], [\u001b[38;5;124m'\u001b[39m\u001b[38;5;124m'\u001b[39m, \u001b[38;5;124m'\u001b[39m\u001b[38;5;124m2019\u001b[39m\u001b[38;5;124m'\u001b[39m, \u001b[38;5;124m'\u001b[39m\u001b[38;5;124m2018\u001b[39m\u001b[38;5;124m'\u001b[39m], [\u001b[38;5;124m'\u001b[39m\u001b[38;5;124mTrade accounts receivable, net, noncurrent (Note 2)\u001b[39m\u001b[38;5;124m'\u001b[39m, \u001b[38;5;124m'\u001b[39m\u001b[38;5;124m$26,496\u001b[39m\u001b[38;5;124m'\u001b[39m, \u001b[38;5;124m'\u001b[39m\u001b[38;5;124m$15,948\u001b[39m\u001b[38;5;124m'\u001b[39m], [\u001b[38;5;124m'\u001b[39m\u001b[38;5;124mEquity method investments (Note 1)\u001b[39m\u001b[38;5;124m'\u001b[39m, \u001b[38;5;124m'\u001b[39m\u001b[38;5;124m9,254\u001b[39m\u001b[38;5;124m'\u001b[39m, \u001b[38;5;124m'\u001b[39m\u001b[38;5;124m9,702\u001b[39m\u001b[38;5;124m'\u001b[39m], [\u001b[38;5;124m'\u001b[39m\u001b[38;5;124mNet deferred tax assets, noncurrent (Note 20)\u001b[39m\u001b[38;5;124m'\u001b[39m, \u001b[38;5;124m'\u001b[39m\u001b[38;5;124m6,774\u001b[39m\u001b[38;5;124m'\u001b[39m, \u001b[38;5;124m'\u001b[39m\u001b[38;5;124m5,797\u001b[39m\u001b[38;5;124m'\u001b[39m], [\u001b[38;5;124m'\u001b[39m\u001b[38;5;124mRent and other deposits\u001b[39m\u001b[38;5;124m'\u001b[39m, \u001b[38;5;124m'\u001b[39m\u001b[38;5;124m6,106\u001b[39m\u001b[38;5;124m'\u001b[39m, \u001b[38;5;124m'\u001b[39m\u001b[38;5;124m5,687\u001b[39m\u001b[38;5;124m'\u001b[39m], [\u001b[38;5;124m'\u001b[39m\u001b[38;5;124mValue added tax receivables, net, noncurrent\u001b[39m\u001b[38;5;124m'\u001b[39m, \u001b[38;5;124m'\u001b[39m\u001b[38;5;124m592\u001b[39m\u001b[38;5;124m'\u001b[39m, \u001b[38;5;124m'\u001b[39m\u001b[38;5;124m519\u001b[39m\u001b[38;5;124m'\u001b[39m], [\u001b[38;5;124m'\u001b[39m\u001b[38;5;124mOther\u001b[39m\u001b[38;5;124m'\u001b[39m, \u001b[38;5;124m'\u001b[39m\u001b[38;5;124m6,723\u001b[39m\u001b[38;5;124m'\u001b[39m, \u001b[38;5;124m'\u001b[39m\u001b[38;5;124m5,711\u001b[39m\u001b[38;5;124m'\u001b[39m], [\u001b[38;5;124m'\u001b[39m\u001b[38;5;124m'\u001b[39m, \u001b[38;5;124m'\u001b[39m\u001b[38;5;124m$55,945\u001b[39m\u001b[38;5;124m'\u001b[39m, \u001b[38;5;124m'\u001b[39m\u001b[38;5;124m$43,364\u001b[39m\u001b[38;5;124m'\u001b[39m]]\n\u001b[0;32m----> 4\u001b[0m     value_2019 \u001b[38;5;241m=\u001b[39m \u001b[38;5;28;43mint\u001b[39;49m\u001b[43m(\u001b[49m\u001b[43mtable\u001b[49m\u001b[43m[\u001b[49m\u001b[38;5;241;43m5\u001b[39;49m\u001b[43m]\u001b[49m\u001b[43m[\u001b[49m\u001b[38;5;241;43m1\u001b[39;49m\u001b[43m]\u001b[49m\u001b[43m)\u001b[49m\n\u001b[1;32m      5\u001b[0m     value_2018 \u001b[38;5;241m=\u001b[39m \u001b[38;5;28mint\u001b[39m(table[\u001b[38;5;241m5\u001b[39m][\u001b[38;5;241m2\u001b[39m])\n\u001b[1;32m      7\u001b[0m     percentage_change \u001b[38;5;241m=\u001b[39m ((value_2019 \u001b[38;5;241m-\u001b[39m value_2018) \u001b[38;5;241m/\u001b[39m value_2018) \u001b[38;5;241m*\u001b[39m \u001b[38;5;241m100\u001b[39m\n",
      "\u001b[0;31mValueError\u001b[0m: invalid literal for int() with base 10: '6,106'"
     ]
    }
   ],
   "source": [
    "def run():\n",
    "    table = [['', 'December 31,', ''], ['', '2019', '2018'], ['Trade accounts receivable, net, noncurrent (Note 2)', '$26,496', '$15,948'], ['Equity method investments (Note 1)', '9,254', '9,702'], ['Net deferred tax assets, noncurrent (Note 20)', '6,774', '5,797'], ['Rent and other deposits', '6,106', '5,687'], ['Value added tax receivables, net, noncurrent', '592', '519'], ['Other', '6,723', '5,711'], ['', '$55,945', '$43,364']]\n",
    "    \n",
    "    value_2019 = int(table[5][1])\n",
    "    value_2018 = int(table[5][2])\n",
    "    \n",
    "    percentage_change = ((value_2019 - value_2018) / value_2018) * 100\n",
    "    \n",
    "    return (round(percentage_change, 2), 'percent')\n",
    "run()"
   ]
  },
  {
   "cell_type": "code",
   "execution_count": null,
   "id": "22f76e58-1b97-4b11-a09a-dfc3d7fc2c52",
   "metadata": {},
   "outputs": [],
   "source": []
  }
 ],
 "metadata": {
  "kernelspec": {
   "display_name": "Python [conda env:arpad_tab]",
   "language": "python",
   "name": "conda-env-arpad_tab-py"
  },
  "language_info": {
   "codemirror_mode": {
    "name": "ipython",
    "version": 3
   },
   "file_extension": ".py",
   "mimetype": "text/x-python",
   "name": "python",
   "nbconvert_exporter": "python",
   "pygments_lexer": "ipython3",
   "version": "3.10.15"
  }
 },
 "nbformat": 4,
 "nbformat_minor": 5
}
