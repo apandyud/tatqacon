{
 "cells": [
  {
   "cell_type": "code",
   "execution_count": 2,
   "id": "4e1fa450-bd86-4fe0-aa63-a1148b1a7a5e",
   "metadata": {},
   "outputs": [],
   "source": [
    "import tatqa_utils\n",
    "import pandas as pd"
   ]
  },
  {
   "cell_type": "code",
   "execution_count": 3,
   "id": "a3db33cd-4f26-47b9-84ca-dcc09f429ab3",
   "metadata": {},
   "outputs": [],
   "source": [
    "devdf = pd.read_json('dataset_raw/tatqa_dataset_dev.json')"
   ]
  },
  {
   "cell_type": "code",
   "execution_count": 4,
   "id": "71f8dd6b-5aef-4ba7-a9c3-ff5aac337242",
   "metadata": {},
   "outputs": [],
   "source": [
    "import pandas as pd\n",
    "import pyreadstat\n",
    "from langchain_chroma import Chroma\n",
    "from langchain_openai import OpenAIEmbeddings\n",
    "import utils\n",
    "from langchain_community.vectorstores import FAISS\n",
    "from langchain_core.documents import Document\n",
    "import numpy as np\n",
    "from progress.bar import Bar\n",
    "%load_ext autoreload\n",
    "%autoreload 2"
   ]
  },
  {
   "cell_type": "code",
   "execution_count": 5,
   "id": "cbf10b98-b80b-47ad-ad92-2918f2b7155c",
   "metadata": {},
   "outputs": [],
   "source": [
    "import os\n",
    "with open('dataset_raw/openai.api.key', 'r') as filek: \n",
    "    openai_key = filek.read()\n",
    "os.environ[\"OPENAI_API_KEY\"] =  openai_key "
   ]
  },
  {
   "cell_type": "code",
   "execution_count": 6,
   "id": "b93c3123-f900-44a1-af36-0aeac544b78d",
   "metadata": {},
   "outputs": [],
   "source": [
    "from langchain.globals import set_llm_cache\n",
    "from langchain_openai import ChatOpenAI\n",
    "from langchain_community.cache import SQLiteCache\n",
    "\n",
    "llm = ChatOpenAI(temperature=0)\n",
    "set_llm_cache(SQLiteCache(database_path=\".langchain.db\"))"
   ]
  },
  {
   "cell_type": "code",
   "execution_count": null,
   "id": "76a048c8-6eae-42c3-a240-012aa5e50f92",
   "metadata": {},
   "outputs": [],
   "source": []
  },
  {
   "cell_type": "code",
   "execution_count": 86,
   "id": "3e9eb3f7-6e35-4b30-abc4-8dd5a5ee19f3",
   "metadata": {},
   "outputs": [
    {
     "data": {
      "text/plain": [
       "(14.065510597302506, '%')"
      ]
     },
     "execution_count": 86,
     "metadata": {},
     "output_type": "execute_result"
    }
   ],
   "source": [
    "def gen_code(llm, question, table):    \n",
    "    #question = question['question']\n",
    "    prompt = f\"Given the following table, can you generate a python code, without sample data, which can answer the following question? the code must contain only one function called 'run', and no wrapping class. The function would return results with format (value, scale). Do not write explanation, just code.\\nQuestion: {question} \\n Table: {table}\"\n",
    "    res = llm.invoke(prompt)\n",
    "    code = res.content.replace('```python','').replace('```','')\n",
    "    return (prompt, code)\n",
    "\n",
    "def exec_code(code, table):  \n",
    "    try: \n",
    "        loc = locals()   \n",
    "        if not \"run()\" in code:\n",
    "            exec(code + f\"\\nr = run({table})\\n\", globals(), loc)\n",
    "        else: \n",
    "            exec(code + \"\\nr = run()\\n\", globals(), loc)\n",
    "        return loc['r']\n",
    "    except Exception as e:\n",
    "            s = '[Error]'+ str(e)\n",
    "            print(s)\n",
    "            return (s,'')\n",
    "#table = \"[['', '', 'Years Ended September 30,', ''], ['', '2019', '2018', '2017'], ['Fixed Price', '$  1,452.4', '$  1,146.2', '$  1,036.9'], ['Other', '44.1', '56.7', '70.8'], ['Total sales', '$1,496.5', '$1,202.9', '$1,107.7']]\"\n",
    "#question = 'What is the change in Fixed Price in 2019 from 2018?'\n",
    "table = \"[['', 'December 31,', ''], ['', '2019', '2018'], ['Trade accounts receivable, net, noncurrent (Note 2)', '$26,496', '$15,948'], ['Equity method investments (Note 1)', '9,254', '9,702'], ['Net deferred tax assets, noncurrent (Note 20)', '6,774', '5,797'], ['Rent and other deposits', '6,106', '5,687'], ['Value added tax receivables, net, noncurrent', '592', '519'], ['Other', '6,723', '5,711'], ['', '$55,945', '$43,364']]\"\n",
    "question = {'question':'What was the percentage change in Value added tax receivables, net, noncurrent in 2019 from 2018?'}\n",
    "( prompt, code) = gen_code(llm, question, table)\n",
    "exec_code(code, table)"
   ]
  },
  {
   "cell_type": "code",
   "execution_count": 87,
   "id": "04df9965-ab3b-40de-a762-f10d6c8718a0",
   "metadata": {
    "scrolled": true
   },
   "outputs": [
    {
     "data": {
      "application/vnd.jupyter.widget-view+json": {
       "model_id": "d13b14b14166413098391921091a5a47",
       "version_major": 2,
       "version_minor": 0
      },
      "text/plain": [
       "0it [00:00, ?it/s]"
      ]
     },
     "metadata": {},
     "output_type": "display_data"
    },
    {
     "name": "stdout",
     "output_type": "stream",
     "text": [
      "[Error]invalid literal for int() with base 10: '6,106'\n",
      "[Error]unterminated string literal (detected at line 3) (<string>, line 3)\n",
      "[Error]'[' was never closed (<string>, line 2)\n",
      "[Error]invalid literal for int() with base 10: ''\n",
      "[Error]'[' was never closed (<string>, line 2)\n",
      "[Error]could not convert string to float: '1,073.3'\n",
      "[Error]invalid literal for int() with base 10: '$1625687'\n",
      "[Error]could not convert string to float: '$1625687'\n",
      "[Error]invalid literal for int() with base 10: '(7)'\n",
      "[Error]invalid literal for int() with base 10: '(765)'\n",
      "[Error]invalid literal for int() with base 10: '—'\n",
      "[Error]invalid literal for int() with base 10: '$22'\n",
      "[Error]invalid literal for int() with base 10: '(111)'\n",
      "[Error]invalid literal for int() with base 10: '38,466'\n",
      "[Error]invalid literal for int() with base 10: '(71)'\n",
      "[Error]invalid literal for int() with base 10: '—'\n",
      "[Error]'[' was never closed (<string>, line 2)\n",
      "[Error]local variable 'value_2018' referenced before assignment\n",
      "[Error]unsupported operand type(s) for -: 'str' and 'str'\n",
      "[Error]invalid literal for int() with base 10: '(16664)'\n",
      "[Error]could not convert string to float: '(2.3)'\n",
      "[Error]could not convert string to float: 'High'\n",
      "[Error]run() missing 1 required positional argument: 'table'\n",
      "[Error]'(' was never closed (<string>, line 5)\n",
      "[Error]invalid literal for int() with base 10: '(426)'\n",
      "[Error]could not convert string to float: '(3.27)'\n",
      "[Error]'(' was never closed (<string>, line 3)\n",
      "[Error]'[' was never closed (<string>, line 2)\n",
      "[Error]could not convert string to float: '$8.6'\n",
      "[Error]could not convert string to float: '$1758'\n",
      "[Error]'(' was never closed (<string>, line 12)\n",
      "[Error]'2019' is not in list\n",
      "[Error]invalid literal for int() with base 10: '345,041'\n",
      "[Error]could not convert string to float: '(16)'\n",
      "[Error]division by zero\n",
      "[Error]invalid literal for int() with base 10: ''\n",
      "[Error]invalid literal for int() with base 10: ''\n",
      "[Error]'2019' is not in list\n",
      "[Error]'(' was never closed (<string>, line 10)\n"
     ]
    }
   ],
   "source": [
    "from tqdm.notebook import tqdm as log_progress\n",
    "\n",
    "res = []\n",
    "for i, item in log_progress(devdf.iterrows()):\n",
    "    table = item['table']['table']\n",
    "    #print (i)\n",
    "    for q in item['questions']:        \n",
    "        if q['answer_type'] == 'arithmetic' and 'table' in q['answer_from']: \n",
    "            ( prompt, code)  = gen_code(llm, q, table)\n",
    "            r = exec_code(code, table)\n",
    "            err =  None\n",
    "            if r is None:\n",
    "                (pred_value, pred_unit) = (None, None)\n",
    "            else:                \n",
    "                if len(r) == 2:\n",
    "                    (pred_value, pred_unit) = r                    \n",
    "                    #print(pred_value, type(pred_value))\n",
    "                    if isinstance(pred_value, str) and  pred_value.startswith('[Error]'):\n",
    "                        (pred_value, pred_unit) = (None, None)\n",
    "                        err,_ = r                                                        \n",
    "                        \n",
    "                elif len(r) == 1:\n",
    "                    pred_value = r                \n",
    "                else:\n",
    "                    (pred_value, pred_unit) = (None, None)        \n",
    "                \n",
    "            #res.append({\"table\":table, \"q\":q, \"pred\":pred, \"code\": code})\n",
    "            res.append(({\"answer_type\":q[\"answer_type\"], \"answer\": q[\"answer\"], 'scale': q[\"scale\"]}, pred_value, pred_unit, q, code, prompt, item['table'], err))\n"
   ]
  },
  {
   "cell_type": "code",
   "execution_count": 76,
   "id": "5ab61c06-a8ab-4ba8-89a2-ac21a57ab8c2",
   "metadata": {},
   "outputs": [
    {
     "name": "stdout",
     "output_type": "stream",
     "text": [
      "0.8133903133903134 0.8133903133903134 0.8945868945868946\n"
     ]
    }
   ],
   "source": [
    "from tatqa_metric import TaTQAEmAndF1\n",
    "\n",
    "metrics = TaTQAEmAndF1()\n",
    "\n",
    "for ans, pred, pred_scale, _,_, _,_ in res:\n",
    "    metrics(ans, pred, pred_scale)\n",
    "pred_em, pred_f1, scale_score, op_score = metrics.get_overall_metric(reset=True)\n",
    "print( pred_em, pred_f1, scale_score)"
   ]
  },
  {
   "cell_type": "code",
   "execution_count": 77,
   "id": "930f4134-b247-40ab-8fd7-54bb5a693604",
   "metadata": {},
   "outputs": [
    {
     "data": {
      "text/plain": [
       "702"
      ]
     },
     "execution_count": 77,
     "metadata": {},
     "output_type": "execute_result"
    }
   ],
   "source": [
    "c = 0\n",
    "for i, item in devdf.iterrows():\n",
    "    table = item['table']['table']\n",
    "    #print (i)\n",
    "    for q in item['questions']:        \n",
    "        if q['answer_type'] == 'arithmetic' and 'table' in q['answer_from']: \n",
    "            c = c+1\n",
    "c"
   ]
  },
  {
   "cell_type": "code",
   "execution_count": 78,
   "id": "50e3f692-0c4b-431b-95ee-0744f95d4c52",
   "metadata": {},
   "outputs": [
    {
     "name": "stdout",
     "output_type": "stream",
     "text": [
      "0.8133903133903134 0.8133903133903134 0.8945868945868946\n"
     ]
    }
   ],
   "source": [
    "from tatqa_metric import TaTQAEmAndF1\n",
    "\n",
    "metrics = TaTQAEmAndF1()\n",
    "\n",
    "for ans, pred, pred_scale, _,_, _,_ in res:\n",
    "    metrics(ans, pred, pred_scale)\n",
    "pred_em, pred_f1, scale_score, op_score = metrics.get_overall_metric(reset=True)\n",
    "print( pred_em, pred_f1, scale_score)"
   ]
  },
  {
   "cell_type": "code",
   "execution_count": 79,
   "id": "b6379c6a-e85a-4cdc-bf32-55e0744d03fe",
   "metadata": {},
   "outputs": [],
   "source": [
    "import pickle\n",
    "with open('res_p15_unit.pickle', 'wb') as f:\n",
    "    pickle.dump(res,f)"
   ]
  },
  {
   "cell_type": "code",
   "execution_count": 80,
   "id": "a0dfc63f-d795-47cc-9875-e63411ee4e3b",
   "metadata": {
    "scrolled": true
   },
   "outputs": [
    {
     "name": "stdout",
     "output_type": "stream",
     "text": [
      "17 789efd09-04a2-45c7-84e5-47d3543695d1 a4f782f1-de3b-47a3-87af-1cb33c112b39 [Error]invalid literal for int() with base 10: '6,106'\n",
      "21 77d8e381-01d0-4cf9-882e-e1162db2cff2 a983501d-2eec-486d-9661-e520c7c8af5e [Error]unterminated string literal (detected at line 3) (<string>, line 3)\n",
      "36 386352cf-f7e3-4148-920c-63bc57cf156b 191c3926-7356-4ab8-a8f9-41e7b7c8a492 [Error]'[' was never closed (<string>, line 2)\n",
      "37 386352cf-f7e3-4148-920c-63bc57cf156b bd2d81eb-46fc-4e62-908d-aebfccf46246 [Error]invalid literal for int() with base 10: ''\n",
      "38 386352cf-f7e3-4148-920c-63bc57cf156b 010df393-a62e-408d-888a-045a4e435e6a [Error]'[' was never closed (<string>, line 2)\n",
      "48 0f012382-d9ba-409c-94db-0b9bf50d0746 fa43e8cd-7fea-4738-85ee-f61ae8529f96 [Error]could not convert string to float: '1,073.3'\n",
      "71 68bafc82-b795-4c7b-9506-e901223c3526 1e20b997-cb3b-4bc5-93e6-b45dbe945fb5 [Error]invalid literal for int() with base 10: '$1625687'\n",
      "72 68bafc82-b795-4c7b-9506-e901223c3526 3b5bb347-41c7-499a-b044-87b9a04b0833 [Error]could not convert string to float: '$1625687'\n",
      "85 361835e5-b8ba-49c5-9ebb-ce0aa5eca2bf cf89ffee-b551-4e34-9321-30325df32cc1 [Error]invalid literal for int() with base 10: '(7)'\n",
      "87 a3aadeea-1c1a-4449-9244-d5e8e1d7f277 6a441650-9d8a-43a0-8906-bec97a73ca2c [Error]invalid literal for int() with base 10: '(765)'\n",
      "107 c29582f8-d95d-480c-8daf-320273546471 61451090-3f7b-4fb1-b405-64a786d937d8 [Error]invalid literal for int() with base 10: '—'\n",
      "134 2f655c5a-3936-48e6-aa15-4145a5c12c3f 00a60f91-b2d2-4bc5-acc4-69121abf68a9 [Error]invalid literal for int() with base 10: '$22'\n",
      "136 4e94f70f-b7e3-453e-ae92-846768589e75 e18e3335-7e7a-4138-9f1b-813604e44c3c [Error]invalid literal for int() with base 10: '(111)'\n",
      "141 1c48b8a3-6132-49e3-b966-e8f6198a8724 b11567d3-d651-40d8-9b9e-bc71eb37d7f9 [Error]invalid literal for int() with base 10: '38,466'\n",
      "165 15348b2f-52e0-498d-b0ea-b73ae40815b3 c36e2211-e46a-43d1-a0a8-ae87af347ae8 [Error]invalid literal for int() with base 10: '(71)'\n",
      "167 2d43502e-4c4a-4334-954c-25502374d317 e81574d8-f9e8-48b3-85ab-a7ed36f8cbb0 [Error]invalid literal for int() with base 10: '—'\n",
      "185 62425e9b-b7de-4d31-9565-1042ad9e4926 c0d6605c-50c2-42b1-94f6-c4c601559918 [Error]'[' was never closed (<string>, line 2)\n",
      "203 a86d227e-37d3-446b-8d4a-793aff901edc 2e569f93-d58b-44a7-a947-ea6784b0623d [Error]local variable 'value_2018' referenced before assignment\n",
      "213 502dd70a-926b-49d7-b236-63855c98e740 b8afd327-b836-4276-8556-eac89746b09f [Error]unsupported operand type(s) for -: 'str' and 'str'\n",
      "220 e6c3cb87-13e2-49c8-81dc-d913b2071499 e314bfab-8cd6-4bb3-b0e6-df664300c380 [Error]invalid literal for int() with base 10: '(16664)'\n",
      "221 e8877535-8ade-4ba3-aae2-cd4db2b5c59c f96cce90-9703-4b6b-9ea4-1a650ac8765a [Error]could not convert string to float: '(2.3)'\n",
      "268 e5fc54e8-4656-4277-a0a8-db9a938aca3d e378f03f-8e13-4020-b4ba-641859e16e25 [Error]could not convert string to float: 'High'\n",
      "354 001e29d7-77e9-4434-9a3d-f72ef640fa79 a8ab5675-0560-4cd0-a294-76fd54b04ad6 [Error]run() missing 1 required positional argument: 'table'\n",
      "360 f50c6b84-25c9-418a-aba1-6cd025b904e3 153f3925-277e-4fe8-8edc-50a5089420ea [Error]'(' was never closed (<string>, line 5)\n",
      "395 fb333978-9a21-401f-9660-ccdff2e36d02 9238f11f-18d1-416b-ad2d-2692229c8d3a [Error]invalid literal for int() with base 10: '(426)'\n",
      "396 fa0d7378-4217-44f1-bfb0-38688f03bdf3 61610e9a-13c4-4670-8616-c6218f7793ad [Error]could not convert string to float: '(3.27)'\n",
      "430 1f631856-89ba-471a-b65d-86801ec07401 90f9af10-77ac-441c-a53d-3167c15ad61b [Error]'(' was never closed (<string>, line 3)\n",
      "441 46466da8-bb43-453f-aa9b-f2230b663864 fd303846-a740-4d73-b19a-961fa0d7b71b [Error]'[' was never closed (<string>, line 2)\n",
      "466 808ccf05-6f40-43d5-a71f-154ed45ce499 ed47e72c-c67c-4c61-abfa-9aefcf4caa89 [Error]could not convert string to float: '$8.6'\n",
      "468 5b874c83-80f7-48d2-bdac-166f2c778e37 a9fa838a-1b85-47f0-a6f7-716f8bb333a1 [Error]could not convert string to float: '$1758'\n",
      "474 d8d5f6c9-b21f-45dc-9cd2-acd8450d46ed ad42fe3e-38cd-446f-a313-b9a50f5e6937 [Error]'(' was never closed (<string>, line 12)\n",
      "502 31e184c6-4ede-4ff4-b0b6-389be6438c42 fd8d07ff-964d-4689-a845-575b95201ca5 [Error]'2019' is not in list\n",
      "510 ed571eb6-d635-44a0-84c3-1d21115db374 e93ba03b-59c0-4107-8f4b-ce9da002e06c [Error]invalid literal for int() with base 10: '345,041'\n",
      "523 d670b78b-9130-4fa3-aa11-2e5b4925c743 79f658b0-e8e5-4b83-bdbe-4d4f96261c69 [Error]could not convert string to float: '(16)'\n",
      "606 43f8c656-9ff1-4b11-b64b-20c049094b6e 26971fd2-ea63-4009-a394-b38d7cca0f97 [Error]division by zero\n",
      "645 861ad987-4b1b-40e0-bef3-1fbd25a33c6b 6c4b20ff-34f4-4d53-aa16-de4fecd30f3e [Error]invalid literal for int() with base 10: ''\n",
      "647 861ad987-4b1b-40e0-bef3-1fbd25a33c6b 60b10a63-4d7d-4ef8-9400-f0d8a6ee3ffe [Error]invalid literal for int() with base 10: ''\n",
      "655 d8d662b8-dbd2-4450-a1fd-7cf111b4236a 14beaf69-31ed-4967-99b0-132a760d9ede [Error]'2019' is not in list\n",
      "691 bee68d71-44ca-4177-a1c7-8c127f6f9203 5b48fea5-61de-401b-aea9-b2b90b7a0eeb [Error]'(' was never closed (<string>, line 10)\n"
     ]
    }
   ],
   "source": [
    "\n",
    "for idx,i in enumerate(res):\n",
    "    if i[-1]is not None:  \n",
    "        print(idx, i[-2]['uid'], i[3]['uid'],i[-1])\n"
   ]
  },
  {
   "cell_type": "code",
   "execution_count": 36,
   "id": "d4e03650-3032-4da6-8bf4-0324c63b8d42",
   "metadata": {},
   "outputs": [
    {
     "name": "stdout",
     "output_type": "stream",
     "text": [
      "==========\n",
      "['', '', 'Years Ended September 30,', '']\n",
      "['', '2019', '2018', '2017']\n",
      "['Fixed Price', '$  1,452.4', '$  1,146.2', '$  1,036.9']\n",
      "['Other', '44.1', '56.7', '70.8']\n",
      "['Total sales', '$1,496.5', '$1,202.9', '$1,107.7']\n",
      "\n",
      " What is the change in Other in 2019 from 2018? \n",
      "\n",
      "def run():\n",
      "    table = [['', '', 'Years Ended September 30,', ''], ['', '2019', '2018', '2017'], ['Fixed Price', '$ 1,452.4', '$ 1,146.2', '$ 1,036.9'], ['Other', '44.1', '56.7', '70.8'], ['Total sales', '$1,496.5', '$1,202.9', '$1,107.7']]\n",
      "    \n",
      "    value_2019 = float(table[3][1])\n",
      "    value_2018 = float(table[3][2])\n",
      "    \n",
      "    return (value_2019 - value_2018, 'million')\n",
      "(-12.600000000000001, 'million') -12.6 million\n",
      "==========\n",
      "['', '', 'Years Ended September 30,', '']\n",
      "['', '2019', '2018', '2017']\n",
      "['Fixed Price', '$  1,452.4', '$  1,146.2', '$  1,036.9']\n",
      "['Other', '44.1', '56.7', '70.8']\n",
      "['Total sales', '$1,496.5', '$1,202.9', '$1,107.7']\n",
      "\n",
      " What is the percentage change in Other in 2019 from 2018? \n",
      "\n",
      "def run():\n",
      "    return (-22.22, 'percent')\n",
      "(-22.22, 'percent') -22.22 percent\n"
     ]
    }
   ],
   "source": [
    "item = devdf.iloc[0]\n",
    "table = item['table']['table']\n",
    "for q in item['questions']:        \n",
    "    if q['answer_type'] == 'arithmetic' and 'table' in q['answer_from']: \n",
    "        print(\"==========\")\n",
    "        code = gen_code(llm, q, table)\n",
    "        for l in table:\n",
    "            print(l)\n",
    "        print(\"\\n\", q['question'],\"\\n\")\n",
    "        print(code)\n",
    "        r = exec_code(code, table)\n",
    "        print(r, q['answer'], q['scale'])"
   ]
  },
  {
   "cell_type": "code",
   "execution_count": 57,
   "id": "7962e8b2-4f82-41ee-8d4e-70d7cdbd8657",
   "metadata": {},
   "outputs": [
    {
     "data": {
      "text/plain": [
       "'alma 123432'"
      ]
     },
     "execution_count": 57,
     "metadata": {},
     "output_type": "execute_result"
    }
   ],
   "source": [
    "import re \n",
    "def remove_thousand_separators(text):\n",
    "    # This regular expression matches numbers with commas as thousand separators\n",
    "    return re.sub(r'(?<=\\d),(?=\\d{3})', '', text)\n",
    "\n",
    "remove_thousand_separators('alma 123,432')"
   ]
  },
  {
   "cell_type": "code",
   "execution_count": 63,
   "id": "58508efd-acf4-4dd4-b0a3-1267381be577",
   "metadata": {},
   "outputs": [
    {
     "name": "stdout",
     "output_type": "stream",
     "text": [
      "==========\n",
      "\n",
      "December 31,\n",
      "\n",
      "\n",
      "2019\n",
      "2018\n",
      "Trade accounts receivable, net, noncurrent (Note 2)\n",
      "$26496\n",
      "$15948\n",
      "Equity method investments (Note 1)\n",
      "9254\n",
      "9702\n",
      "Net deferred tax assets, noncurrent (Note 20)\n",
      "6774\n",
      "5797\n",
      "Rent and other deposits\n",
      "6106\n",
      "5687\n",
      "Value added tax receivables, net, noncurrent\n",
      "592\n",
      "519\n",
      "Other\n",
      "6723\n",
      "5711\n",
      "\n",
      "$55945\n",
      "$43364\n",
      "\n",
      " What was the percentage change in Value added tax receivables, net, noncurrent in 2019 from 2018? \n",
      "\n",
      "def run():\n",
      "    return (14.07, 'percent')\n",
      "(14.07, 'percent') 14.07 percent\n"
     ]
    }
   ],
   "source": [
    "\n",
    "for idx, item in devdf.iterrows():\n",
    "    if item['table']['uid'] == '789efd09-04a2-45c7-84e5-47d3543695d1':        \n",
    "        for q in item['questions']:\n",
    "            if q['uid'] == 'a4f782f1-de3b-47a3-87af-1cb33c112b39':\n",
    "                table = item['table']['table']\n",
    "                table = [remove_thousand_separators(cell) for row in table for cell in row]\n",
    "                if q['answer_type'] == 'arithmetic' and 'table' in q['answer_from']: \n",
    "                    print(\"==========\")\n",
    "                    code = gen_code(llm, q, table)\n",
    "                    for l in table:\n",
    "                        print(l)\n",
    "                    print(\"\\n\", q['question'],\"\\n\")\n",
    "                    print(code)\n",
    "                    r = exec_code(code, table)\n",
    "                    print(r, q['answer'], q['scale'])"
   ]
  },
  {
   "cell_type": "code",
   "execution_count": 60,
   "id": "512910ca-9c32-4e4d-a098-98d266f547b6",
   "metadata": {},
   "outputs": [
    {
     "data": {
      "text/plain": [
       "[['', 'December 31,', ''],\n",
       " ['', '2019', '2018'],\n",
       " ['Trade accounts receivable, net, noncurrent (Note 2)', '$26,496', '$15,948'],\n",
       " ['Equity method investments (Note 1)', '9,254', '9,702'],\n",
       " ['Net deferred tax assets, noncurrent (Note 20)', '6,774', '5,797'],\n",
       " ['Rent and other deposits', '6,106', '5,687'],\n",
       " ['Value added tax receivables, net, noncurrent', '592', '519'],\n",
       " ['Other', '6,723', '5,711'],\n",
       " ['', '$55,945', '$43,364']]"
      ]
     },
     "execution_count": 60,
     "metadata": {},
     "output_type": "execute_result"
    }
   ],
   "source": [
    "table"
   ]
  },
  {
   "cell_type": "code",
   "execution_count": 88,
   "id": "34a1f610-a417-42b5-93a5-9998a6c5650d",
   "metadata": {
    "scrolled": true
   },
   "outputs": [
    {
     "data": {
      "text/plain": [
       "({'answer_type': 'arithmetic', 'answer': -12.6, 'scale': 'million'},\n",
       " -12.600000000000001,\n",
       " 'million',\n",
       " {'uid': 'eb787966-fa02-401f-bfaf-ccabf3828b23',\n",
       "  'order': 5,\n",
       "  'question': 'What is the change in Other in 2019 from 2018?',\n",
       "  'answer': -12.6,\n",
       "  'derivation': '44.1-56.7',\n",
       "  'answer_type': 'arithmetic',\n",
       "  'answer_from': 'table-text',\n",
       "  'rel_paragraphs': ['2'],\n",
       "  'req_comparison': False,\n",
       "  'scale': 'million'},\n",
       " \"def run():\\n    table = [['', '', 'Years Ended September 30,', ''], ['', '2019', '2018', '2017'], ['Fixed Price', '$ 1,452.4', '$ 1,146.2', '$ 1,036.9'], ['Other', '44.1', '56.7', '70.8'], ['Total sales', '$1,496.5', '$1,202.9', '$1,107.7']]\\n    \\n    value_2019 = float(table[3][1])\\n    value_2018 = float(table[3][2])\\n    \\n    return (value_2019 - value_2018, 'million')\",\n",
       " \"Given the following table, can you generate a python code, without sample data, which can answer the following question? the code must contain only one function called 'run', and no wrapping class. The function would return results with format (value, scale). Do not write explanation, just code.\\nQuestion: {'uid': 'eb787966-fa02-401f-bfaf-ccabf3828b23', 'order': 5, 'question': 'What is the change in Other in 2019 from 2018?', 'answer': -12.6, 'derivation': '44.1-56.7', 'answer_type': 'arithmetic', 'answer_from': 'table-text', 'rel_paragraphs': ['2'], 'req_comparison': False, 'scale': 'million'} \\n Table: [['', '', 'Years Ended September 30,', ''], ['', '2019', '2018', '2017'], ['Fixed Price', '$  1,452.4', '$  1,146.2', '$  1,036.9'], ['Other', '44.1', '56.7', '70.8'], ['Total sales', '$1,496.5', '$1,202.9', '$1,107.7']]\",\n",
       " {'uid': '3ffd9053-a45d-491c-957a-1b2fa0af0570',\n",
       "  'table': [['', '', 'Years Ended September 30,', ''],\n",
       "   ['', '2019', '2018', '2017'],\n",
       "   ['Fixed Price', '$  1,452.4', '$  1,146.2', '$  1,036.9'],\n",
       "   ['Other', '44.1', '56.7', '70.8'],\n",
       "   ['Total sales', '$1,496.5', '$1,202.9', '$1,107.7']]},\n",
       " None)"
      ]
     },
     "execution_count": 88,
     "metadata": {},
     "output_type": "execute_result"
    }
   ],
   "source": [
    "res[0]\n"
   ]
  },
  {
   "cell_type": "code",
   "execution_count": null,
   "id": "2e566a63-2254-49e0-9d88-691942259637",
   "metadata": {},
   "outputs": [],
   "source": []
  }
 ],
 "metadata": {
  "kernelspec": {
   "display_name": "Python [conda env:arpad_tab]",
   "language": "python",
   "name": "conda-env-arpad_tab-py"
  },
  "language_info": {
   "codemirror_mode": {
    "name": "ipython",
    "version": 3
   },
   "file_extension": ".py",
   "mimetype": "text/x-python",
   "name": "python",
   "nbconvert_exporter": "python",
   "pygments_lexer": "ipython3",
   "version": "3.10.15"
  }
 },
 "nbformat": 4,
 "nbformat_minor": 5
}
