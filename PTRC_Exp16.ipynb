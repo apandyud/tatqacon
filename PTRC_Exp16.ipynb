{
 "cells": [
  {
   "cell_type": "code",
   "execution_count": 1,
   "id": "4e1fa450-bd86-4fe0-aa63-a1148b1a7a5e",
   "metadata": {},
   "outputs": [],
   "source": [
    "import tatqa_utils\n",
    "import pandas as pd"
   ]
  },
  {
   "cell_type": "code",
   "execution_count": 2,
   "id": "a3db33cd-4f26-47b9-84ca-dcc09f429ab3",
   "metadata": {},
   "outputs": [],
   "source": [
    "devdf = pd.read_json('dataset_raw/tatqa_dataset_dev.json')"
   ]
  },
  {
   "cell_type": "code",
   "execution_count": 3,
   "id": "71f8dd6b-5aef-4ba7-a9c3-ff5aac337242",
   "metadata": {},
   "outputs": [],
   "source": [
    "import pandas as pd\n",
    "import pyreadstat\n",
    "from langchain_chroma import Chroma\n",
    "from langchain_openai import OpenAIEmbeddings\n",
    "import utils\n",
    "from langchain_community.vectorstores import FAISS\n",
    "from langchain_core.documents import Document\n",
    "import numpy as np\n",
    "from progress.bar import Bar\n",
    "%load_ext autoreload\n",
    "%autoreload 2"
   ]
  },
  {
   "cell_type": "code",
   "execution_count": 4,
   "id": "cbf10b98-b80b-47ad-ad92-2918f2b7155c",
   "metadata": {},
   "outputs": [],
   "source": [
    "import os\n",
    "with open('dataset_raw/openai.api.key', 'r') as filek: \n",
    "    openai_key = filek.read()\n",
    "os.environ[\"OPENAI_API_KEY\"] =  openai_key "
   ]
  },
  {
   "cell_type": "code",
   "execution_count": 5,
   "id": "b93c3123-f900-44a1-af36-0aeac544b78d",
   "metadata": {},
   "outputs": [],
   "source": [
    "from langchain.globals import set_llm_cache\n",
    "from langchain_openai import ChatOpenAI\n",
    "from langchain_community.cache import SQLiteCache\n",
    "\n",
    "llm = ChatOpenAI(temperature=0)\n",
    "set_llm_cache(SQLiteCache(database_path=\".langchain.db\"))"
   ]
  },
  {
   "cell_type": "code",
   "execution_count": null,
   "id": "76a048c8-6eae-42c3-a240-012aa5e50f92",
   "metadata": {},
   "outputs": [],
   "source": []
  },
  {
   "cell_type": "code",
   "execution_count": 7,
   "id": "3e9eb3f7-6e35-4b30-abc4-8dd5a5ee19f3",
   "metadata": {},
   "outputs": [
    {
     "data": {
      "text/plain": [
       "(14.065510597302506, '%')"
      ]
     },
     "execution_count": 7,
     "metadata": {},
     "output_type": "execute_result"
    }
   ],
   "source": [
    "def gen_code(llm, question, table):    \n",
    "    question = question['question']\n",
    "    prompt = f\"Given the following table, can you generate a python code, without sample data, which can answer the following question? the code must contain only one function called 'run', and no wrapping class. The function would return results with format (value, scale). Do not write explanation, just code.\\nQuestion: {question} \\n Table: {table}\"\n",
    "    res = llm.invoke(prompt)\n",
    "    code = res.content.replace('```python','').replace('```','')\n",
    "    return (prompt, code)\n",
    "\n",
    "def exec_code(code, table):  \n",
    "    try: \n",
    "        loc = locals()   \n",
    "        if not \"run()\" in code:\n",
    "            exec(code + f\"\\nr = run({table})\\n\", globals(), loc)\n",
    "        else: \n",
    "            exec(code + \"\\nr = run()\\n\", globals(), loc)\n",
    "        return loc['r']\n",
    "    except Exception as e:\n",
    "            s = '[Error]'+ str(e)\n",
    "            print(s)\n",
    "            return (s,'')\n",
    "#table = \"[['', '', 'Years Ended September 30,', ''], ['', '2019', '2018', '2017'], ['Fixed Price', '$  1,452.4', '$  1,146.2', '$  1,036.9'], ['Other', '44.1', '56.7', '70.8'], ['Total sales', '$1,496.5', '$1,202.9', '$1,107.7']]\"\n",
    "#question = 'What is the change in Fixed Price in 2019 from 2018?'\n",
    "table = \"[['', 'December 31,', ''], ['', '2019', '2018'], ['Trade accounts receivable, net, noncurrent (Note 2)', '$26,496', '$15,948'], ['Equity method investments (Note 1)', '9,254', '9,702'], ['Net deferred tax assets, noncurrent (Note 20)', '6,774', '5,797'], ['Rent and other deposits', '6,106', '5,687'], ['Value added tax receivables, net, noncurrent', '592', '519'], ['Other', '6,723', '5,711'], ['', '$55,945', '$43,364']]\"\n",
    "question = {'question':'What was the percentage change in Value added tax receivables, net, noncurrent in 2019 from 2018?'}\n",
    "( prompt, code) = gen_code(llm, question, table)\n",
    "exec_code(code, table)"
   ]
  },
  {
   "cell_type": "code",
   "execution_count": 15,
   "id": "04df9965-ab3b-40de-a762-f10d6c8718a0",
   "metadata": {
    "scrolled": true
   },
   "outputs": [
    {
     "data": {
      "application/vnd.jupyter.widget-view+json": {
       "model_id": "ca724cf07b284e49b0f8a3741dd8ed29",
       "version_major": 2,
       "version_minor": 0
      },
      "text/plain": [
       "0it [00:00, ?it/s]"
      ]
     },
     "metadata": {},
     "output_type": "display_data"
    },
    {
     "name": "stdout",
     "output_type": "stream",
     "text": [
      "[Error]could not convert string to float: ''\n",
      "[Error]invalid literal for int() with base 10: '$592'\n",
      "[Error]'(' was never closed (<string>, line 5)\n",
      "[Error]list index out of range\n",
      "[Error]invalid literal for int() with base 10: 'Selling, general and administrative'\n",
      "[Error]invalid literal for int() with base 10: 'Operating income'\n",
      "[Error]invalid literal for int() with base 10: '1,050'\n",
      "[Error]leading zeros in decimal integer literals are not permitted; use an 0o prefix for octal integers (<string>, line 2)\n",
      "[Error]'Specific allowance for credit losses' is not in list\n",
      "[Error]invalid literal for int() with base 10: '$18111'\n",
      "[Error]could not convert string to float: '(3491626)'\n",
      "[Error]unsupported operand type(s) for -: 'str' and 'str'\n",
      "[Error]invalid literal for int() with base 10: '8,455'\n",
      "[Error]invalid literal for int() with base 10: '(6134)'\n",
      "[Error]name 'Table' is not defined\n",
      "[Error]unterminated string literal (detected at line 3) (<string>, line 3)\n",
      "[Error]'(' was never closed (<string>, line 3)\n",
      "[Error]'(' was never closed (<string>, line 3)\n",
      "[Error]'(' was never closed (<string>, line 4)\n",
      "[Error]unterminated string literal (detected at line 3) (<string>, line 3)\n",
      "[Error]invalid literal for int() with base 10: '$1562474'\n",
      "[Error]invalid literal for int() with base 10: '7,478'\n",
      "[Error]invalid literal for int() with base 10: '2,000'\n",
      "[Error]local variable 'cogs_2019' referenced before assignment\n",
      "[Error]could not convert string to float: ''\n",
      "[Error]invalid syntax. Perhaps you forgot a comma? (<string>, line 2)\n",
      "[Error]'(' was never closed (<string>, line 2)\n",
      "[Error]invalid literal for int() with base 10: '2,082'\n",
      "[Error]invalid literal for int() with base 10: ''\n",
      "[Error]could not convert string to float: ''\n",
      "[Error]invalid literal for int() with base 10: '7%'\n",
      "[Error]invalid literal for int() with base 10: '49%'\n",
      "[Error]closing parenthesis ')' does not match opening parenthesis '[' (<string>, line 5)\n",
      "[Error]'(' was never closed (<string>, line 3)\n",
      "[Error]name 'Table' is not defined\n",
      "[Error]invalid literal for int() with base 10: '—'\n",
      "[Error]invalid literal for int() with base 10: ''\n",
      "[Error]invalid literal for int() with base 10: '$16684172'\n",
      "[Error]invalid literal for int() with base 10: '(1)'\n",
      "[Error]invalid literal for int() with base 10: '13 32714801'\n",
      "[Error]'(' was never closed (<string>, line 3)\n",
      "[Error]could not convert string to float: '(1221)'\n",
      "[Error]name 'Table' is not defined\n",
      "[Error]'(' was never closed (<string>, line 3)\n",
      "[Error]'(' was never closed (<string>, line 4)\n",
      "(-3, 'value')\n",
      "[Error]'(' was never closed (<string>, line 9)\n",
      "[Error]invalid literal for int() with base 10: '(365162)'\n",
      "[Error]could not convert string to float: '1.3 %'\n",
      "[Error]invalid literal for int() with base 10: '$2266'\n",
      "[Error]could not convert string to float: '(16)'\n",
      "[Error]'(' was never closed (<string>, line 2)\n",
      "[Error]name 'Table' is not defined\n",
      "[Error]name 'Table' is not defined\n",
      "[Error]invalid literal for int() with base 10: '$10'\n",
      "[Error]invalid literal for int() with base 10: '—'\n",
      "[Error]invalid literal for int() with base 10: '1,206'\n",
      "[Error]could not convert string to float: ''\n",
      "[Error]could not convert string to float: '—'\n",
      "[Error]'(' was never closed (<string>, line 3)\n",
      "[Error]abs() takes exactly one argument (2 given)\n",
      "[Error]invalid literal for int() with base 10: '—'\n",
      "[Error]'2018' is not in list\n",
      "[Error]'Basic' is not in list\n",
      "[Error]'(' was never closed (<string>, line 3)\n"
     ]
    }
   ],
   "source": [
    "from tqdm.notebook import tqdm as log_progress\n",
    "\n",
    "res = []\n",
    "for i, item in log_progress(devdf.iterrows()):\n",
    "    table = item['table']['table']\n",
    "    #print (i)\n",
    "    for q in item['questions']:        \n",
    "        if q['answer_type'] == 'arithmetic' and 'table' in q['answer_from']: \n",
    "            ( prompt, code)  = gen_code(llm, q, table)\n",
    "            r = exec_code(code, table)\n",
    "            err =  None\n",
    "            if r is None:\n",
    "                (pred_value, pred_unit) = (None, None)\n",
    "            else:                \n",
    "                if len(r) == 2:\n",
    "                    (pred_value, pred_unit) = r                    \n",
    "                    #print(pred_value, type(pred_value))\n",
    "                    if isinstance(pred_value, str) and  pred_value.startswith('[Error]'):\n",
    "                        (pred_value, pred_unit) = (None, None)\n",
    "                        err,_ = r                                                        \n",
    "                        \n",
    "                elif len(r) == 1:\n",
    "                    pred_value = r                \n",
    "                else:\n",
    "                    (pred_value, pred_unit) = (None, None)        \n",
    "                \n",
    "            #res.append({\"table\":table, \"q\":q, \"pred\":pred, \"code\": code})\n",
    "            res.append(({\"answer_type\":q[\"answer_type\"], \"answer\": q[\"answer\"], 'scale': q[\"scale\"]}, pred_value, pred_unit, q, code, prompt, item['table'], err))\n"
   ]
  },
  {
   "cell_type": "code",
   "execution_count": 16,
   "id": "5ab61c06-a8ab-4ba8-89a2-ac21a57ab8c2",
   "metadata": {},
   "outputs": [
    {
     "name": "stdout",
     "output_type": "stream",
     "text": [
      "special case\n",
      "special case\n",
      "special case\n",
      "special case\n",
      "special case\n",
      "special case\n",
      "special case\n",
      "0.20512820512820512 0.20512820512820512 0.03276353276353276\n"
     ]
    }
   ],
   "source": [
    "from tatqa_metric import TaTQAEmAndF1\n",
    "\n",
    "metrics = TaTQAEmAndF1()\n",
    "\n",
    "for ans, pred, pred_scale, _,_, _,_,_ in res:\n",
    "    metrics(ans, pred, pred_scale)\n",
    "pred_em, pred_f1, scale_score, op_score = metrics.get_overall_metric(reset=True)\n",
    "print( pred_em, pred_f1, scale_score)"
   ]
  },
  {
   "cell_type": "code",
   "execution_count": 11,
   "id": "930f4134-b247-40ab-8fd7-54bb5a693604",
   "metadata": {},
   "outputs": [
    {
     "data": {
      "text/plain": [
       "702"
      ]
     },
     "execution_count": 11,
     "metadata": {},
     "output_type": "execute_result"
    }
   ],
   "source": [
    "c = 0\n",
    "for i, item in devdf.iterrows():\n",
    "    table = item['table']['table']\n",
    "    #print (i)\n",
    "    for q in item['questions']:        \n",
    "        if q['answer_type'] == 'arithmetic' and 'table' in q['answer_from']: \n",
    "            c = c+1\n",
    "c"
   ]
  },
  {
   "cell_type": "code",
   "execution_count": 19,
   "id": "b6379c6a-e85a-4cdc-bf32-55e0744d03fe",
   "metadata": {},
   "outputs": [],
   "source": [
    "import pickle\n",
    "with open('res_p16_unit.pickle', 'wb') as f:\n",
    "    pickle.dump(res,f)"
   ]
  },
  {
   "cell_type": "code",
   "execution_count": 18,
   "id": "a0dfc63f-d795-47cc-9875-e63411ee4e3b",
   "metadata": {
    "scrolled": true
   },
   "outputs": [
    {
     "name": "stdout",
     "output_type": "stream",
     "text": [
      "6 52164b70-6973-4844-af6a-76e8f1298d64 6c44a1a8-0785-43a0-90ab-7e21df2c57d9 [Error]could not convert string to float: ''\n",
      "16 789efd09-04a2-45c7-84e5-47d3543695d1 35d602ae-9131-4291-a30c-49a40f32bbe4 [Error]invalid literal for int() with base 10: '$592'\n",
      "21 77d8e381-01d0-4cf9-882e-e1162db2cff2 a983501d-2eec-486d-9661-e520c7c8af5e [Error]'(' was never closed (<string>, line 5)\n",
      "26 cc4f089d-e7bf-4b00-a096-48a3eed39f86 29b63db7-4925-4629-b108-49bbb27fb565 [Error]list index out of range\n",
      "28 22f634eb-a76a-424d-b8d3-3994dab52826 a81f1322-e74f-4e3c-a6cf-4b8d25d01cf5 [Error]invalid literal for int() with base 10: 'Selling, general and administrative'\n",
      "34 32edf644-acb0-4260-9392-f0baa4253f5a bbe335ff-414f-48b3-8126-5a2c7c505de3 [Error]invalid literal for int() with base 10: 'Operating income'\n",
      "53 8692f92d-668a-452d-be7a-2b491ee27585 7cba7400-af25-4f71-a49d-35d5eec31458 [Error]invalid literal for int() with base 10: '1,050'\n",
      "54 8692f92d-668a-452d-be7a-2b491ee27585 94ef7822-a201-493e-b557-a640f4ea4d83 [Error]leading zeros in decimal integer literals are not permitted; use an 0o prefix for octal integers (<string>, line 2)\n",
      "77 4145912c-86dc-434b-8990-1cfe78f298f5 407d43ea-c405-4b88-95ae-d15b1f25fb25 [Error]'Specific allowance for credit losses' is not in list\n",
      "89 8ba4089b-a3d7-403b-860a-40a9cbdf3d8c c79e02ff-37fd-4adf-9144-890d2562209f [Error]invalid literal for int() with base 10: '$18111'\n",
      "100 d7d65228-96c1-4890-951c-c3d7578f8031 b4aabd48-5010-425f-be30-c63f1c648c85 [Error]could not convert string to float: '(3491626)'\n",
      "108 47fb3538-2c0a-4a82-97b2-90a1543b871d 56a014a9-5b9c-41e5-9523-ebbd3a01dd6d [Error]unsupported operand type(s) for -: 'str' and 'str'\n",
      "125 bd57880a-3395-45a5-83b1-8adc4483d4bd 28054524-2ce6-426c-bc87-3d61d4d73112 [Error]invalid literal for int() with base 10: '8,455'\n",
      "152 da44d518-c39a-4673-9298-31feeafc61e4 a366ea30-5ba3-4f62-b027-7fd4c0b7d6af [Error]invalid literal for int() with base 10: '(6134)'\n",
      "169 dace18a6-701f-49d4-a16d-078e5b62fc94 07148f97-1ced-46e4-a141-5cdffe6e6528 [Error]name 'Table' is not defined\n",
      "171 dace18a6-701f-49d4-a16d-078e5b62fc94 ed9e3e80-6941-4888-9e40-bbd1cb092485 [Error]unterminated string literal (detected at line 3) (<string>, line 3)\n",
      "197 6d9e104c-a89c-4d15-bacf-47c19d8d6445 297b00ae-9c26-4401-82b5-a6de76674ee9 [Error]'(' was never closed (<string>, line 3)\n",
      "209 41481127-0df1-490c-b7e4-bdd902d38a59 170c75fb-da08-4e9d-8c5a-7cbb94e4176e [Error]'(' was never closed (<string>, line 3)\n",
      "214 502dd70a-926b-49d7-b236-63855c98e740 4946fa71-15ec-4d2f-8604-2d1f775950fc [Error]'(' was never closed (<string>, line 4)\n",
      "215 502dd70a-926b-49d7-b236-63855c98e740 95497d9b-23d7-4c89-832c-bcf408981985 [Error]unterminated string literal (detected at line 3) (<string>, line 3)\n",
      "226 8edfdb1c-3d22-496f-b6ba-f3ea45cf6151 91555b4e-09e9-46ce-a849-6adf2a0483d2 [Error]invalid literal for int() with base 10: '$1562474'\n",
      "248 af31958a-184d-4005-9fcb-cfad9912ba8c 81360542-e917-43d3-97aa-043e726ffeb6 [Error]invalid literal for int() with base 10: '7,478'\n",
      "249 af31958a-184d-4005-9fcb-cfad9912ba8c 3a216553-f87b-4278-ac56-1ff31d94db07 [Error]invalid literal for int() with base 10: '2,000'\n",
      "259 82aee0df-7345-4452-afdf-a23a280d64ae 3502f875-f816-4a00-986c-fef9b08c0f96 [Error]local variable 'cogs_2019' referenced before assignment\n",
      "261 fd7e14ed-efb6-4992-bdc2-b5603d91f126 d06a5ade-d848-4325-a2a5-8f5ef427d246 [Error]could not convert string to float: ''\n",
      "263 fd7e14ed-efb6-4992-bdc2-b5603d91f126 8c882f0d-684c-430e-8194-997c565a7258 [Error]invalid syntax. Perhaps you forgot a comma? (<string>, line 2)\n",
      "264 875fa4bd-a56d-4f03-bd52-4ecddf547686 9a11777d-c146-4a13-aaa0-7676223a7849 [Error]'(' was never closed (<string>, line 2)\n",
      "282 79a8ddc2-5848-4471-ad53-c3c70e4ec0c4 2e453484-3c53-4073-a29f-56a64364f4d9 [Error]invalid literal for int() with base 10: '2,082'\n",
      "292 26d46b77-411e-47aa-b650-5c84ef3e9e21 ca5ace26-609f-4199-b5a0-68ccf25ba98e [Error]invalid literal for int() with base 10: ''\n",
      "304 7d228e82-671c-4b83-aad1-405493c0aa0c ee74c321-b0e8-44f6-b15a-a4e8511b6183 [Error]could not convert string to float: ''\n",
      "324 1fc1784c-38a0-49a2-a985-8c8a479f5f66 15cd82e8-7fe9-4529-a44f-eca0ce5137fb [Error]invalid literal for int() with base 10: '7%'\n",
      "326 1fc1784c-38a0-49a2-a985-8c8a479f5f66 b99d3748-44ec-44e8-9de7-12567ccbd479 [Error]invalid literal for int() with base 10: '49%'\n",
      "349 ae44e24d-3fb5-4eff-95e1-ec8fc530c1d7 73521986-bd59-404b-8eb5-c2a24e2bc8ee [Error]closing parenthesis ')' does not match opening parenthesis '[' (<string>, line 5)\n",
      "369 05b0f8ce-bea5-402b-b9e5-8455c9b16e99 9a098fcb-9839-4b16-8eeb-7cf291463744 [Error]'(' was never closed (<string>, line 3)\n",
      "370 6455b0fa-9637-4d36-95d6-2890c7728f54 d4f18464-2a67-4768-8540-1a9bf577e14d [Error]name 'Table' is not defined\n",
      "387 239347c1-faf9-4fb1-a167-d3c83fd0dead 6ba4045d-4222-4da0-a126-94b267a707ec [Error]invalid literal for int() with base 10: '—'\n",
      "390 d423c6ef-50f3-4535-a74f-13cb46728627 a8a7c154-567e-4b21-878e-85dab9d28fc9 [Error]invalid literal for int() with base 10: ''\n",
      "405 88f5faa2-dd5b-48bb-8b53-8edd6714f894 032682c3-c3c1-4e3b-9554-05f68fdb4cc8 [Error]invalid literal for int() with base 10: '$16684172'\n",
      "407 2cf767c9-a0f8-4d78-b6f2-71221f566c2f 33de3029-3056-4598-bdff-30d9be4f52c3 [Error]invalid literal for int() with base 10: '(1)'\n",
      "420 fd28a5b6-ecac-4f54-987d-e6a4b1e63bb6 19bf32fd-847e-4449-84cf-f2f3df81b71b [Error]invalid literal for int() with base 10: '13 32714801'\n",
      "430 1f631856-89ba-471a-b65d-86801ec07401 90f9af10-77ac-441c-a53d-3167c15ad61b [Error]'(' was never closed (<string>, line 3)\n",
      "442 46466da8-bb43-453f-aa9b-f2230b663864 3f6ca4fd-abb8-4a86-bd11-e77921f9cd8c [Error]could not convert string to float: '(1221)'\n",
      "443 424c1a41-765a-42f7-8236-2abd5b9bcf2f 21ac021b-192e-46ea-b494-dbc82ad8f53d [Error]name 'Table' is not defined\n",
      "447 704b5994-6fee-43b2-a9c9-e5676eac92a1 d547e798-a829-4b95-af68-e50705558993 [Error]'(' was never closed (<string>, line 3)\n",
      "462 736d8572-272b-4cab-8062-9012ec6e7fe9 c26ef418-e7bb-47ca-8f70-dabe35ffc766 [Error]'(' was never closed (<string>, line 4)\n",
      "485 dd5eac5a-de74-4ed4-b959-e6ad134e646b 806fd692-11c5-4090-9ec3-56a844fb9b29 [Error]'(' was never closed (<string>, line 9)\n",
      "487 1ca5293d-2ea9-4a14-88a1-641795d7e142 017d15d5-93f1-4f9a-b7c3-08cd59292dd6 [Error]invalid literal for int() with base 10: '(365162)'\n",
      "503 31e184c6-4ede-4ff4-b0b6-389be6438c42 58753c83-a3d7-445d-83bf-57461882a6ca [Error]could not convert string to float: '1.3 %'\n",
      "521 8217d51e-d170-4381-b018-072586fb1024 072bf5fb-0edd-4267-bae7-b57f1c598017 [Error]invalid literal for int() with base 10: '$2266'\n",
      "523 d670b78b-9130-4fa3-aa11-2e5b4925c743 79f658b0-e8e5-4b83-bdbe-4d4f96261c69 [Error]could not convert string to float: '(16)'\n",
      "525 9e0ae25d-0080-4fb6-8396-db61af489520 239e87d8-6994-4bb0-b974-879b6274c285 [Error]'(' was never closed (<string>, line 2)\n",
      "534 04b25f9b-a271-4b2c-86ff-3e94f9cfb6ad 438d631c-1dd3-4620-b851-d9ea5cec4ad5 [Error]name 'Table' is not defined\n",
      "537 65cffa0c-2ccc-455d-bc8c-5847bb4866e0 894362e3-56cc-4a76-8053-36d6cbaeb6ce [Error]name 'Table' is not defined\n",
      "552 008149bc-f997-49d9-a981-f01f19579451 a7df73f3-a944-46e5-86c0-ae3c0223b88b [Error]invalid literal for int() with base 10: '$10'\n",
      "582 f8ebe17f-9ca2-43e9-92f8-cee64f33068b b70433bd-7c92-413d-af00-cef3907cafe8 [Error]invalid literal for int() with base 10: '—'\n",
      "592 e9d3bb25-89ab-4aed-8bec-5501d5fe7b16 68107102-0fdc-4e64-850f-8eda6bcc892a [Error]invalid literal for int() with base 10: '1,206'\n",
      "606 43f8c656-9ff1-4b11-b64b-20c049094b6e 26971fd2-ea63-4009-a394-b38d7cca0f97 [Error]could not convert string to float: ''\n",
      "611 3eee9fc1-882b-4146-8c58-55a1e687a5d5 312a9328-b83f-43c6-b652-59547090cd30 [Error]could not convert string to float: '—'\n",
      "622 9b0abd12-8d9e-48ba-9ac2-baacfa92e7eb dc1e344f-db11-4415-af80-728cd87e1b6b [Error]'(' was never closed (<string>, line 3)\n",
      "628 69d42a72-0262-4962-94aa-a7c456f6b9d5 5de0027a-4080-4423-8987-a11e2a2fc793 [Error]abs() takes exactly one argument (2 given)\n",
      "651 03ef04b2-1710-4176-81b9-350134a9b49f 8698402e-4736-492e-95e5-d702ab62d662 [Error]invalid literal for int() with base 10: '—'\n",
      "661 21a432eb-166c-4178-adf9-08b6ad3fde7d bb6966e0-61e6-44c6-87ad-69f952453829 [Error]'2018' is not in list\n",
      "670 eb122e2e-12b4-4e59-a018-7045192b021d 1521cfda-5529-46c8-bdb2-d618e4a83b78 [Error]'Basic' is not in list\n",
      "697 7a9fdd23-2adc-4cf5-8761-5c7fbec53e6e c8ed0bf6-60c5-41e2-97e3-5ece54a1349b [Error]'(' was never closed (<string>, line 3)\n"
     ]
    }
   ],
   "source": [
    "\n",
    "for idx,i in enumerate(res):\n",
    "    if i[-1]is not None:  \n",
    "        print(idx, i[-2]['uid'], i[3]['uid'],i[-1])\n"
   ]
  },
  {
   "cell_type": "code",
   "execution_count": 36,
   "id": "d4e03650-3032-4da6-8bf4-0324c63b8d42",
   "metadata": {},
   "outputs": [
    {
     "name": "stdout",
     "output_type": "stream",
     "text": [
      "==========\n",
      "['', '', 'Years Ended September 30,', '']\n",
      "['', '2019', '2018', '2017']\n",
      "['Fixed Price', '$  1,452.4', '$  1,146.2', '$  1,036.9']\n",
      "['Other', '44.1', '56.7', '70.8']\n",
      "['Total sales', '$1,496.5', '$1,202.9', '$1,107.7']\n",
      "\n",
      " What is the change in Other in 2019 from 2018? \n",
      "\n",
      "def run():\n",
      "    table = [['', '', 'Years Ended September 30,', ''], ['', '2019', '2018', '2017'], ['Fixed Price', '$ 1,452.4', '$ 1,146.2', '$ 1,036.9'], ['Other', '44.1', '56.7', '70.8'], ['Total sales', '$1,496.5', '$1,202.9', '$1,107.7']]\n",
      "    \n",
      "    value_2019 = float(table[3][1])\n",
      "    value_2018 = float(table[3][2])\n",
      "    \n",
      "    return (value_2019 - value_2018, 'million')\n",
      "(-12.600000000000001, 'million') -12.6 million\n",
      "==========\n",
      "['', '', 'Years Ended September 30,', '']\n",
      "['', '2019', '2018', '2017']\n",
      "['Fixed Price', '$  1,452.4', '$  1,146.2', '$  1,036.9']\n",
      "['Other', '44.1', '56.7', '70.8']\n",
      "['Total sales', '$1,496.5', '$1,202.9', '$1,107.7']\n",
      "\n",
      " What is the percentage change in Other in 2019 from 2018? \n",
      "\n",
      "def run():\n",
      "    return (-22.22, 'percent')\n",
      "(-22.22, 'percent') -22.22 percent\n"
     ]
    }
   ],
   "source": [
    "item = devdf.iloc[0]\n",
    "table = item['table']['table']\n",
    "for q in item['questions']:        \n",
    "    if q['answer_type'] == 'arithmetic' and 'table' in q['answer_from']: \n",
    "        print(\"==========\")\n",
    "        code = gen_code(llm, q, table)\n",
    "        for l in table:\n",
    "            print(l)\n",
    "        print(\"\\n\", q['question'],\"\\n\")\n",
    "        print(code)\n",
    "        r = exec_code(code, table)\n",
    "        print(r, q['answer'], q['scale'])"
   ]
  },
  {
   "cell_type": "code",
   "execution_count": 22,
   "id": "7962e8b2-4f82-41ee-8d4e-70d7cdbd8657",
   "metadata": {},
   "outputs": [
    {
     "data": {
      "text/plain": [
       "'alma 123432'"
      ]
     },
     "execution_count": 22,
     "metadata": {},
     "output_type": "execute_result"
    }
   ],
   "source": [
    "import re \n",
    "def remove_thousand_separators(text):\n",
    "    # This regular expression matches numbers with commas as thousand separators\n",
    "    return re.sub(r'(?<=\\d),(?=\\d{3})', '', text)\n",
    "\n",
    "remove_thousand_separators('alma 123,432')"
   ]
  },
  {
   "cell_type": "code",
   "execution_count": 60,
   "id": "512910ca-9c32-4e4d-a098-98d266f547b6",
   "metadata": {},
   "outputs": [
    {
     "data": {
      "text/plain": [
       "[['', 'December 31,', ''],\n",
       " ['', '2019', '2018'],\n",
       " ['Trade accounts receivable, net, noncurrent (Note 2)', '$26,496', '$15,948'],\n",
       " ['Equity method investments (Note 1)', '9,254', '9,702'],\n",
       " ['Net deferred tax assets, noncurrent (Note 20)', '6,774', '5,797'],\n",
       " ['Rent and other deposits', '6,106', '5,687'],\n",
       " ['Value added tax receivables, net, noncurrent', '592', '519'],\n",
       " ['Other', '6,723', '5,711'],\n",
       " ['', '$55,945', '$43,364']]"
      ]
     },
     "execution_count": 60,
     "metadata": {},
     "output_type": "execute_result"
    }
   ],
   "source": [
    "table"
   ]
  },
  {
   "cell_type": "code",
   "execution_count": null,
   "id": "2e566a63-2254-49e0-9d88-691942259637",
   "metadata": {},
   "outputs": [],
   "source": [
    "print(\"==========\")\n",
    "code = gen_code(llm, q, table)\n",
    "for l in table:\n",
    "    print(l)\n",
    "print(\"\\n\", q['question'],\"\\n\")\n",
    "print(code)\n",
    "print(r, q['answer'], q['scale'])"
   ]
  }
 ],
 "metadata": {
  "kernelspec": {
   "display_name": "Python [conda env:arpad_tab]",
   "language": "python",
   "name": "conda-env-arpad_tab-py"
  },
  "language_info": {
   "codemirror_mode": {
    "name": "ipython",
    "version": 3
   },
   "file_extension": ".py",
   "mimetype": "text/x-python",
   "name": "python",
   "nbconvert_exporter": "python",
   "pygments_lexer": "ipython3",
   "version": "3.10.15"
  }
 },
 "nbformat": 4,
 "nbformat_minor": 5
}
