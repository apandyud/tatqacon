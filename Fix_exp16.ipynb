{
 "cells": [
  {
   "cell_type": "code",
   "execution_count": 2,
   "id": "91088efa-d6fa-4c80-a49f-b693b06dc6bd",
   "metadata": {},
   "outputs": [],
   "source": [
    "import tatqa_utils\n",
    "import pandas as pd\n",
    "import pyreadstat\n",
    "from langchain_chroma import Chroma\n",
    "from langchain_openai import OpenAIEmbeddings\n",
    "import utils\n",
    "from langchain_community.vectorstores import FAISS\n",
    "from langchain_core.documents import Document\n",
    "import numpy as np\n",
    "from progress.bar import Bar\n",
    "%load_ext autoreload\n",
    "%autoreload 2"
   ]
  },
  {
   "cell_type": "code",
   "execution_count": 3,
   "id": "8816c899-809b-4d77-b748-f89f76e1545d",
   "metadata": {},
   "outputs": [],
   "source": [
    "import os\n",
    "with open('dataset_raw/openai.api.key', 'r') as filek: \n",
    "    openai_key = filek.read()\n",
    "os.environ[\"OPENAI_API_KEY\"] =  openai_key "
   ]
  },
  {
   "cell_type": "code",
   "execution_count": 4,
   "id": "a41a50ac-36bb-4791-91fb-08dcf59e7ecb",
   "metadata": {},
   "outputs": [],
   "source": [
    "from langchain.globals import set_llm_cache\n",
    "from langchain_openai import ChatOpenAI\n",
    "from langchain_community.cache import SQLiteCache\n",
    "\n",
    "llm = ChatOpenAI(temperature=0)\n",
    "set_llm_cache(SQLiteCache(database_path=\".langchain.db\"))"
   ]
  },
  {
   "cell_type": "code",
   "execution_count": 5,
   "id": "696d6870-ad1d-4f20-aef8-dda0439fec72",
   "metadata": {},
   "outputs": [],
   "source": [
    "devdf = pd.read_json('dataset_raw/tatqa_dataset_dev.json')"
   ]
  },
  {
   "cell_type": "code",
   "execution_count": 6,
   "id": "0a60b2c5-4cbb-497b-8ce1-c8f3c34edd99",
   "metadata": {},
   "outputs": [
    {
     "data": {
      "text/plain": [
       "(14.065510597302506, '%')"
      ]
     },
     "execution_count": 6,
     "metadata": {},
     "output_type": "execute_result"
    }
   ],
   "source": [
    "def gen_code(llm, question, table):\n",
    "    prompt = f\"Given the following table, can you generate a python code, without sample data, which can answer the following question? the code must contain only one function called 'run', and no wrapping class. The function would return results with format (value, scale). Do not write explanation, just code.\\nQuestion: {question} \\n Table: {table}\"\n",
    "    res = llm.invoke(prompt)\n",
    "    code = res.content.replace('```python','').replace('```','')\n",
    "    return code\n",
    "\n",
    "def exec_code(code, table):  \n",
    "    try: \n",
    "        loc = locals()   \n",
    "        if not \"run()\" in code:\n",
    "            exec(code + f\"\\nr = run({table})\\n\", globals(), loc)\n",
    "        else: \n",
    "            exec(code + \"\\nr = run()\\n\", globals(), loc)\n",
    "        return loc['r']\n",
    "    except Exception as e:\n",
    "            s = '[Error]'+ str(e)\n",
    "            print(s)\n",
    "            return (s,'')\n",
    "#table = \"[['', '', 'Years Ended September 30,', ''], ['', '2019', '2018', '2017'], ['Fixed Price', '$  1,452.4', '$  1,146.2', '$  1,036.9'], ['Other', '44.1', '56.7', '70.8'], ['Total sales', '$1,496.5', '$1,202.9', '$1,107.7']]\"\n",
    "#question = 'What is the change in Fixed Price in 2019 from 2018?'\n",
    "table = \"[['', 'December 31,', ''], ['', '2019', '2018'], ['Trade accounts receivable, net, noncurrent (Note 2)', '$26,496', '$15,948'], ['Equity method investments (Note 1)', '9,254', '9,702'], ['Net deferred tax assets, noncurrent (Note 20)', '6,774', '5,797'], ['Rent and other deposits', '6,106', '5,687'], ['Value added tax receivables, net, noncurrent', '592', '519'], ['Other', '6,723', '5,711'], ['', '$55,945', '$43,364']]\"\n",
    "question = 'What was the percentage change in Value added tax receivables, net, noncurrent in 2019 from 2018?'\n",
    "code = gen_code(llm, question, table)\n",
    "exec_code(code, table)"
   ]
  },
  {
   "cell_type": "code",
   "execution_count": 7,
   "id": "de3ae9a3-95d4-4c50-81be-0c6f1f2bed1e",
   "metadata": {},
   "outputs": [
    {
     "data": {
      "text/plain": [
       "'alma 123432'"
      ]
     },
     "execution_count": 7,
     "metadata": {},
     "output_type": "execute_result"
    }
   ],
   "source": [
    "import re \n",
    "def remove_thousand_separators(text):\n",
    "    # This regular expression matches numbers with commas as thousand separators\n",
    "    return re.sub(r'(?<=\\d),(?=\\d{3})', '', text)\n",
    "\n",
    "remove_thousand_separators('alma 123,432')"
   ]
  },
  {
   "cell_type": "code",
   "execution_count": 8,
   "id": "9d7b29ac-93da-4942-aa0f-f56cbabb4e29",
   "metadata": {},
   "outputs": [
    {
     "name": "stdout",
     "output_type": "stream",
     "text": [
      "==========\n",
      "\n",
      "\n",
      "Years Ended December 31,\n",
      "\n",
      "\n",
      "2019\n",
      "2018\n",
      "2017\n",
      "Americas:\n",
      "\n",
      "\n",
      "\n",
      "United States\n",
      "$614493\n",
      "$668580\n",
      "$644870\n",
      "The Philippines\n",
      "250888\n",
      "231966\n",
      "241211\n",
      "Costa Rica\n",
      "127078\n",
      "127963\n",
      "132542\n",
      "Canada\n",
      "99037\n",
      "102353\n",
      "112367\n",
      "El Salvador\n",
      "81195\n",
      "81156\n",
      "75800\n",
      "Other\n",
      "123969\n",
      "118620\n",
      "118853\n",
      "Total Americas\n",
      "1296660\n",
      "1330638\n",
      "1325643\n",
      "EMEA:\n",
      "\n",
      "\n",
      "\n",
      "Germany\n",
      "94166\n",
      "91703\n",
      "81634\n",
      "Other\n",
      "223847\n",
      "203251\n",
      "178649\n",
      "Total EMEA\n",
      "318013\n",
      "294954\n",
      "260283\n",
      "Total Other\n",
      "89\n",
      "95\n",
      "82\n",
      "\n",
      "$1614762\n",
      "$1625687\n",
      "$1586008\n",
      "\n",
      " What was the change in Total Other in 2018 from 2017? \n",
      "\n",
      "def run():\n",
      "    return (13, 'thousand')\n",
      "(13, 'thousand') 13 thousand\n"
     ]
    }
   ],
   "source": [
    "for idx, item in devdf.iterrows():\n",
    "    if item['table']['uid'] == '68bafc82-b795-4c7b-9506-e901223c3526':        \n",
    "        print(\"==========\")\n",
    "        for q in item['questions']:            \n",
    "            if q['uid'] == '1e20b997-cb3b-4bc5-93e6-b45dbe945fb5':\n",
    "                table = item['table']['table']\n",
    "                table = [remove_thousand_separators(cell) for row in table for cell in row]\n",
    "                if q['answer_type'] == 'arithmetic' and 'table' in q['answer_from']:                     \n",
    "                    code = gen_code(llm, q, table)\n",
    "                    for l in table:\n",
    "                        print(l)\n",
    "                    print(\"\\n\", q['question'],\"\\n\")\n",
    "                    print(code)\n",
    "                    r = exec_code(code, table)\n",
    "                    print(r, q['answer'], q['scale'])"
   ]
  },
  {
   "cell_type": "code",
   "execution_count": 1,
   "id": "c1851ff4-b5c9-4275-815e-196688b9636c",
   "metadata": {},
   "outputs": [
    {
     "ename": "NameError",
     "evalue": "name 'res' is not defined",
     "output_type": "error",
     "traceback": [
      "\u001b[0;31m---------------------------------------------------------------------------\u001b[0m",
      "\u001b[0;31mNameError\u001b[0m                                 Traceback (most recent call last)",
      "Cell \u001b[0;32mIn[1], line 1\u001b[0m\n\u001b[0;32m----> 1\u001b[0m \u001b[43mres\u001b[49m[\u001b[38;5;241m0\u001b[39m]\n",
      "\u001b[0;31mNameError\u001b[0m: name 'res' is not defined"
     ]
    }
   ],
   "source": [
    "res[0]"
   ]
  },
  {
   "cell_type": "code",
   "execution_count": null,
   "id": "4b9777ee-70f2-418e-becf-ea6eab5bcc58",
   "metadata": {},
   "outputs": [],
   "source": []
  }
 ],
 "metadata": {
  "kernelspec": {
   "display_name": "Python [conda env:arpad_tab]",
   "language": "python",
   "name": "conda-env-arpad_tab-py"
  },
  "language_info": {
   "codemirror_mode": {
    "name": "ipython",
    "version": 3
   },
   "file_extension": ".py",
   "mimetype": "text/x-python",
   "name": "python",
   "nbconvert_exporter": "python",
   "pygments_lexer": "ipython3",
   "version": "3.10.15"
  }
 },
 "nbformat": 4,
 "nbformat_minor": 5
}
