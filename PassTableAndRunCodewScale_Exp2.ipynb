{
 "cells": [
  {
   "cell_type": "code",
   "execution_count": 1,
   "id": "4e1fa450-bd86-4fe0-aa63-a1148b1a7a5e",
   "metadata": {},
   "outputs": [],
   "source": [
    "import tatqa_utils\n",
    "import pandas as pd"
   ]
  },
  {
   "cell_type": "code",
   "execution_count": 2,
   "id": "a3db33cd-4f26-47b9-84ca-dcc09f429ab3",
   "metadata": {},
   "outputs": [],
   "source": [
    "devdf = pd.read_json('dataset_raw/tatqa_dataset_dev.json')"
   ]
  },
  {
   "cell_type": "code",
   "execution_count": 3,
   "id": "71f8dd6b-5aef-4ba7-a9c3-ff5aac337242",
   "metadata": {},
   "outputs": [],
   "source": [
    "import pandas as pd\n",
    "import pyreadstat\n",
    "from langchain_chroma import Chroma\n",
    "from langchain_openai import OpenAIEmbeddings\n",
    "import utils\n",
    "from langchain_community.vectorstores import FAISS\n",
    "from langchain_core.documents import Document\n",
    "import numpy as np\n",
    "from progress.bar import Bar\n",
    "%load_ext autoreload\n",
    "%autoreload 2"
   ]
  },
  {
   "cell_type": "code",
   "execution_count": 4,
   "id": "cbf10b98-b80b-47ad-ad92-2918f2b7155c",
   "metadata": {},
   "outputs": [],
   "source": [
    "import os\n",
    "with open('dataset_raw/openai.api.key', 'r') as filek: \n",
    "    openai_key = filek.read()\n",
    "os.environ[\"OPENAI_API_KEY\"] =  openai_key "
   ]
  },
  {
   "cell_type": "code",
   "execution_count": 5,
   "id": "b93c3123-f900-44a1-af36-0aeac544b78d",
   "metadata": {},
   "outputs": [],
   "source": [
    "from langchain.globals import set_llm_cache\n",
    "from langchain_openai import ChatOpenAI\n",
    "from langchain_community.cache import SQLiteCache\n",
    "\n",
    "llm = ChatOpenAI(temperature=0)\n",
    "set_llm_cache(SQLiteCache(database_path=\".langchain.db\"))"
   ]
  },
  {
   "cell_type": "code",
   "execution_count": null,
   "id": "76a048c8-6eae-42c3-a240-012aa5e50f92",
   "metadata": {},
   "outputs": [],
   "source": []
  },
  {
   "cell_type": "code",
   "execution_count": 8,
   "id": "3e9eb3f7-6e35-4b30-abc4-8dd5a5ee19f3",
   "metadata": {},
   "outputs": [
    {
     "data": {
      "text/plain": [
       "(306.20000000000005, '$')"
      ]
     },
     "execution_count": 8,
     "metadata": {},
     "output_type": "execute_result"
    }
   ],
   "source": [
    "def gen_code(llm, question, table):\n",
    "    prompt = f\"Given the following table, can you generate a python code, without sample data, which can answer the following question? the code must contain only one function called 'run', and no wrapping class. The function would return numeric results, with format (value, unit). Do not write explanation, just code.\\nQuestion: {question} \\n Table: {table}\"\n",
    "    res = llm.invoke(prompt)\n",
    "    code = res.content.replace('```python','').replace('```','')\n",
    "    return code\n",
    "\n",
    "def exec_code(code, table):  \n",
    "    try: \n",
    "        loc = locals()   \n",
    "        if not \"run()\" in code:\n",
    "            exec(code + f\"\\nr = run({table})\\n\", globals(), loc)\n",
    "        else: \n",
    "            exec(code + \"\\nr = run()\\n\", globals(), loc)\n",
    "        return loc['r']\n",
    "    except Exception as e:\n",
    "            s = str(e)\n",
    "            print('[Error] ' + s)\n",
    "            return None\n",
    "table = \"[['', '', 'Years Ended September 30,', ''], ['', '2019', '2018', '2017'], ['Fixed Price', '$  1,452.4', '$  1,146.2', '$  1,036.9'], ['Other', '44.1', '56.7', '70.8'], ['Total sales', '$1,496.5', '$1,202.9', '$1,107.7']]\"\n",
    "code = gen_code(llm, 'What is the change in Fixed Price in 2019 from 2018?', table)\n",
    "exec_code(code, table)"
   ]
  },
  {
   "cell_type": "code",
   "execution_count": 29,
   "id": "04df9965-ab3b-40de-a762-f10d6c8718a0",
   "metadata": {
    "scrolled": true
   },
   "outputs": [
    {
     "data": {
      "application/vnd.jupyter.widget-view+json": {
       "model_id": "589641582d8e4e4e8fcbc6aba040b929",
       "version_major": 2,
       "version_minor": 0
      },
      "text/plain": [
       "0it [00:00, ?it/s]"
      ]
     },
     "metadata": {},
     "output_type": "display_data"
    },
    {
     "name": "stdout",
     "output_type": "stream",
     "text": [
      "[Error] invalid literal for int() with base 10: '6,106'\n",
      "[Error] '(' was never closed (<string>, line 2)\n",
      "[Error] invalid literal for int() with base 10: '$1625687'\n",
      "[Error] invalid literal for int() with base 10: '(7)'\n",
      "[Error] invalid literal for int() with base 10: '(9)'\n",
      "[Error] invalid literal for int() with base 10: '—'\n",
      "[Error] unterminated string literal (detected at line 17) (<string>, line 17)\n",
      "[Error] could not convert string to float: '(42.7)'\n",
      "[Error] invalid literal for int() with base 10: ',63'\n",
      "[Error] invalid literal for int() with base 10: 'Cash-settled awards'\n",
      "[Error] invalid literal for int() with base 10: '2,000'\n",
      "[Error] invalid literal for int() with base 10: '2,082'\n",
      "[Error] division by zero\n",
      "[Error] name 'Table' is not defined\n",
      "[Error] '(' was never closed (<string>, line 3)\n",
      "[Error] invalid literal for int() with base 10: '1,310'\n",
      "[Error] '(' was never closed (<string>, line 3)\n",
      "[Error] '[' was never closed (<string>, line 2)\n",
      "[Error] could not convert string to float: '(1.3'\n",
      "[Error] unterminated string literal (detected at line 10) (<string>, line 10)\n",
      "[Error] run() missing 1 required positional argument: 'question'\n",
      "[Error] '(' was never closed (<string>, line 3)\n",
      "[Error] '(' was never closed (<string>, line 3)\n",
      "[Error] could not convert string to float: '5,828'\n",
      "[Error] could not convert string to float: '$197'\n",
      "[Error] 'list' object has no attribute 'replace'\n",
      "[Error] division by zero\n",
      "[Error] '(' was never closed (<string>, line 3)\n",
      "[Error] invalid literal for int() with base 10: '1,663'\n",
      "[Error] could not convert string to float: 'Total'\n"
     ]
    }
   ],
   "source": [
    "from tqdm.notebook import tqdm as log_progress\n",
    "\n",
    "res = []\n",
    "for i, item in log_progress(devdf.iterrows()):\n",
    "    table = item['table']['table']\n",
    "    for q in item['questions']:        \n",
    "        if q['answer_type'] == 'arithmetic' and 'table' in q['answer_from']: \n",
    "            code = gen_code(llm, q, table)\n",
    "            r = exec_code(code, table)\n",
    "            if r is not None:\n",
    "                if len(r) == 2:\n",
    "                    (pred_value, pred_unit) = r\n",
    "                elif len(r) == 1:\n",
    "                    pred_value = r                \n",
    "            else:\n",
    "                (pred_value, pred_unit) = (None, None)\n",
    "            #res.append({\"table\":table, \"q\":q, \"pred\":pred, \"code\": code})\n",
    "            res.append(({\"answer_type\":q[\"answer_type\"], \"answer\": q[\"answer\"], 'scale': q[\"scale\"]}, pred_value, pred_unit, q, code))\n"
   ]
  },
  {
   "cell_type": "code",
   "execution_count": 30,
   "id": "50e3f692-0c4b-431b-95ee-0744f95d4c52",
   "metadata": {},
   "outputs": [
    {
     "name": "stdout",
     "output_type": "stream",
     "text": [
      "0.8076923076923077 0.8076923076923077 0.8176638176638177\n"
     ]
    }
   ],
   "source": [
    "from tatqa_metric import TaTQAEmAndF1\n",
    "\n",
    "metrics = TaTQAEmAndF1()\n",
    "\n",
    "for ans, pred, pred_scale, _,_ in res:\n",
    "    metrics(ans, pred, pred_scale)\n",
    "pred_em, pred_f1, scale_score, op_score = metrics.get_overall_metric(reset=True)\n",
    "print( pred_em, pred_f1, scale_score)"
   ]
  },
  {
   "cell_type": "code",
   "execution_count": 13,
   "id": "b6379c6a-e85a-4cdc-bf32-55e0744d03fe",
   "metadata": {},
   "outputs": [],
   "source": [
    "import pickle\n",
    "with open('res_p2_unit.pickle', 'wb') as f:\n",
    "    pickle.dump(res,f)"
   ]
  },
  {
   "cell_type": "code",
   "execution_count": 27,
   "id": "a0dfc63f-d795-47cc-9875-e63411ee4e3b",
   "metadata": {
    "scrolled": true
   },
   "outputs": [
    {
     "data": {
      "text/plain": [
       "({'answer_type': 'arithmetic', 'answer': -22.22, 'scale': 'percent'},\n",
       " None,\n",
       " 'percent',\n",
       " {'uid': '05b670d3-5b19-438c-873f-9bf6de29c69e',\n",
       "  'order': 6,\n",
       "  'question': 'What is the percentage change in Other in 2019 from 2018?',\n",
       "  'answer': -22.22,\n",
       "  'derivation': '(44.1-56.7)/56.7',\n",
       "  'answer_type': 'arithmetic',\n",
       "  'answer_from': 'table-text',\n",
       "  'rel_paragraphs': ['2'],\n",
       "  'req_comparison': False,\n",
       "  'scale': 'percent'},\n",
       " \"def run():\\n    percentage_change = ((float(44.1) - float(56.7)) / float(56.7)) * 100\\n    return (round(percentage_change, 2), 'percent')\")"
      ]
     },
     "execution_count": 27,
     "metadata": {},
     "output_type": "execute_result"
    }
   ],
   "source": [
    "res[1]\n"
   ]
  },
  {
   "cell_type": "code",
   "execution_count": 20,
   "id": "753c089a-d866-45e1-a5b2-3a943c5a6f5f",
   "metadata": {},
   "outputs": [
    {
     "data": {
      "text/plain": [
       "2"
      ]
     },
     "execution_count": 20,
     "metadata": {},
     "output_type": "execute_result"
    }
   ],
   "source": [
    "len((1,2))"
   ]
  },
  {
   "cell_type": "code",
   "execution_count": null,
   "id": "cfc151f2-b408-4005-9fff-f3c8c78dadaa",
   "metadata": {},
   "outputs": [],
   "source": []
  }
 ],
 "metadata": {
  "kernelspec": {
   "display_name": "Python [conda env:arpad_tab]",
   "language": "python",
   "name": "conda-env-arpad_tab-py"
  },
  "language_info": {
   "codemirror_mode": {
    "name": "ipython",
    "version": 3
   },
   "file_extension": ".py",
   "mimetype": "text/x-python",
   "name": "python",
   "nbconvert_exporter": "python",
   "pygments_lexer": "ipython3",
   "version": "3.10.15"
  }
 },
 "nbformat": 4,
 "nbformat_minor": 5
}
