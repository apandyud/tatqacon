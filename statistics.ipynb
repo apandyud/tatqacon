{
 "cells": [
  {
   "cell_type": "code",
   "execution_count": 1,
   "id": "81e51dc7-8168-4b1b-b6f3-332adb878343",
   "metadata": {},
   "outputs": [],
   "source": [
    "import tatqa_utils\n",
    "import pandas as pd"
   ]
  },
  {
   "cell_type": "code",
   "execution_count": 2,
   "id": "5140d148-c267-4a5b-93fc-25bfa42b2c27",
   "metadata": {},
   "outputs": [],
   "source": [
    "devdf = pd.read_json('dataset_raw/tatqa_dataset_dev.json')"
   ]
  },
  {
   "cell_type": "code",
   "execution_count": 5,
   "id": "2a50012b-0152-47c9-9bc9-d2c911899f42",
   "metadata": {},
   "outputs": [
    {
     "data": {
      "text/plain": [
       "{'span': {'text': 349, 'table-text': 181, 'table': 171},\n",
       " 'multi-span': {'text': 24, 'table-text': 101, 'table': 92},\n",
       " 'arithmetic': {'table-text': 205, 'table': 497, 'text': 16},\n",
       " 'count': {'table': 12, 'table-text': 20}}"
      ]
     },
     "execution_count": 5,
     "metadata": {},
     "output_type": "execute_result"
    }
   ],
   "source": [
    "res = {}\n",
    "for idx, item in devdf.iterrows():\n",
    "    for q in item['questions']:\n",
    "        answer_type = q['answer_type']\n",
    "        answer_from = q['answer_from']\n",
    "        if answer_type not in res:\n",
    "            res[answer_type] = {}\n",
    "        if answer_from not in res[answer_type]:\n",
    "            res[answer_type][answer_from] = 0\n",
    "        res[answer_type][answer_from] =  res[answer_type][answer_from]  + 1\n",
    "res"
   ]
  },
  {
   "cell_type": "code",
   "execution_count": 6,
   "id": "d608c308-73e3-4bda-bb1b-f457bad0b785",
   "metadata": {},
   "outputs": [
    {
     "data": {
      "text/html": [
       "<div>\n",
       "<style scoped>\n",
       "    .dataframe tbody tr th:only-of-type {\n",
       "        vertical-align: middle;\n",
       "    }\n",
       "\n",
       "    .dataframe tbody tr th {\n",
       "        vertical-align: top;\n",
       "    }\n",
       "\n",
       "    .dataframe thead th {\n",
       "        text-align: right;\n",
       "    }\n",
       "</style>\n",
       "<table border=\"1\" class=\"dataframe\">\n",
       "  <thead>\n",
       "    <tr style=\"text-align: right;\">\n",
       "      <th></th>\n",
       "      <th>span</th>\n",
       "      <th>multi-span</th>\n",
       "      <th>arithmetic</th>\n",
       "      <th>count</th>\n",
       "    </tr>\n",
       "  </thead>\n",
       "  <tbody>\n",
       "    <tr>\n",
       "      <th>text</th>\n",
       "      <td>349</td>\n",
       "      <td>24</td>\n",
       "      <td>16</td>\n",
       "      <td>NaN</td>\n",
       "    </tr>\n",
       "    <tr>\n",
       "      <th>table-text</th>\n",
       "      <td>181</td>\n",
       "      <td>101</td>\n",
       "      <td>205</td>\n",
       "      <td>20.0</td>\n",
       "    </tr>\n",
       "    <tr>\n",
       "      <th>table</th>\n",
       "      <td>171</td>\n",
       "      <td>92</td>\n",
       "      <td>497</td>\n",
       "      <td>12.0</td>\n",
       "    </tr>\n",
       "  </tbody>\n",
       "</table>\n",
       "</div>"
      ],
      "text/plain": [
       "            span  multi-span  arithmetic  count\n",
       "text         349          24          16    NaN\n",
       "table-text   181         101         205   20.0\n",
       "table        171          92         497   12.0"
      ]
     },
     "execution_count": 6,
     "metadata": {},
     "output_type": "execute_result"
    }
   ],
   "source": [
    "pd.DataFrame(res)"
   ]
  },
  {
   "cell_type": "code",
   "execution_count": 12,
   "id": "4fc543ed-1f31-4268-ac35-40484615e924",
   "metadata": {},
   "outputs": [
    {
     "data": {
      "text/html": [
       "<div>\n",
       "<style scoped>\n",
       "    .dataframe tbody tr th:only-of-type {\n",
       "        vertical-align: middle;\n",
       "    }\n",
       "\n",
       "    .dataframe tbody tr th {\n",
       "        vertical-align: top;\n",
       "    }\n",
       "\n",
       "    .dataframe thead th {\n",
       "        text-align: right;\n",
       "    }\n",
       "</style>\n",
       "<table border=\"1\" class=\"dataframe\">\n",
       "  <thead>\n",
       "    <tr style=\"text-align: right;\">\n",
       "      <th></th>\n",
       "      <th>tid</th>\n",
       "      <th>qid</th>\n",
       "      <th>length</th>\n",
       "    </tr>\n",
       "  </thead>\n",
       "  <tbody>\n",
       "    <tr>\n",
       "      <th>0</th>\n",
       "      <td>3ffd9053-a45d-491c-957a-1b2fa0af0570</td>\n",
       "      <td>23801627-ff77-4597-8d24-1c99e2452082</td>\n",
       "      <td>919</td>\n",
       "    </tr>\n",
       "    <tr>\n",
       "      <th>1</th>\n",
       "      <td>3ffd9053-a45d-491c-957a-1b2fa0af0570</td>\n",
       "      <td>4960801d-277d-4f79-8eca-c4d0200fa9d6</td>\n",
       "      <td>907</td>\n",
       "    </tr>\n",
       "    <tr>\n",
       "      <th>2</th>\n",
       "      <td>3ffd9053-a45d-491c-957a-1b2fa0af0570</td>\n",
       "      <td>593c4388-5209-4462-8b83-b429c8612c25</td>\n",
       "      <td>893</td>\n",
       "    </tr>\n",
       "    <tr>\n",
       "      <th>3</th>\n",
       "      <td>3ffd9053-a45d-491c-957a-1b2fa0af0570</td>\n",
       "      <td>f4142349-eb72-49eb-9a76-f3ccb1010cbc</td>\n",
       "      <td>920</td>\n",
       "    </tr>\n",
       "    <tr>\n",
       "      <th>4</th>\n",
       "      <td>3ffd9053-a45d-491c-957a-1b2fa0af0570</td>\n",
       "      <td>eb787966-fa02-401f-bfaf-ccabf3828b23</td>\n",
       "      <td>911</td>\n",
       "    </tr>\n",
       "    <tr>\n",
       "      <th>...</th>\n",
       "      <td>...</td>\n",
       "      <td>...</td>\n",
       "      <td>...</td>\n",
       "    </tr>\n",
       "    <tr>\n",
       "      <th>1663</th>\n",
       "      <td>8db2d2a5-fdcd-45c2-be2f-813cba4fbca7</td>\n",
       "      <td>112727c3-fefd-4d11-9edd-5370981e9c0c</td>\n",
       "      <td>3619</td>\n",
       "    </tr>\n",
       "    <tr>\n",
       "      <th>1664</th>\n",
       "      <td>8db2d2a5-fdcd-45c2-be2f-813cba4fbca7</td>\n",
       "      <td>08fbb08c-93c7-4ffc-b92e-5beec6fd7120</td>\n",
       "      <td>3635</td>\n",
       "    </tr>\n",
       "    <tr>\n",
       "      <th>1665</th>\n",
       "      <td>8db2d2a5-fdcd-45c2-be2f-813cba4fbca7</td>\n",
       "      <td>ec696158-f93d-4608-903d-a6b9c4e7bfd5</td>\n",
       "      <td>3654</td>\n",
       "    </tr>\n",
       "    <tr>\n",
       "      <th>1666</th>\n",
       "      <td>8db2d2a5-fdcd-45c2-be2f-813cba4fbca7</td>\n",
       "      <td>27911d6f-dfe5-487b-bc56-7e5cf16a32e0</td>\n",
       "      <td>3617</td>\n",
       "    </tr>\n",
       "    <tr>\n",
       "      <th>1667</th>\n",
       "      <td>8db2d2a5-fdcd-45c2-be2f-813cba4fbca7</td>\n",
       "      <td>3b8e873e-64d5-4af0-904f-7197dc632773</td>\n",
       "      <td>3623</td>\n",
       "    </tr>\n",
       "  </tbody>\n",
       "</table>\n",
       "<p>1668 rows × 3 columns</p>\n",
       "</div>"
      ],
      "text/plain": [
       "                                       tid  \\\n",
       "0     3ffd9053-a45d-491c-957a-1b2fa0af0570   \n",
       "1     3ffd9053-a45d-491c-957a-1b2fa0af0570   \n",
       "2     3ffd9053-a45d-491c-957a-1b2fa0af0570   \n",
       "3     3ffd9053-a45d-491c-957a-1b2fa0af0570   \n",
       "4     3ffd9053-a45d-491c-957a-1b2fa0af0570   \n",
       "...                                    ...   \n",
       "1663  8db2d2a5-fdcd-45c2-be2f-813cba4fbca7   \n",
       "1664  8db2d2a5-fdcd-45c2-be2f-813cba4fbca7   \n",
       "1665  8db2d2a5-fdcd-45c2-be2f-813cba4fbca7   \n",
       "1666  8db2d2a5-fdcd-45c2-be2f-813cba4fbca7   \n",
       "1667  8db2d2a5-fdcd-45c2-be2f-813cba4fbca7   \n",
       "\n",
       "                                       qid  length  \n",
       "0     23801627-ff77-4597-8d24-1c99e2452082     919  \n",
       "1     4960801d-277d-4f79-8eca-c4d0200fa9d6     907  \n",
       "2     593c4388-5209-4462-8b83-b429c8612c25     893  \n",
       "3     f4142349-eb72-49eb-9a76-f3ccb1010cbc     920  \n",
       "4     eb787966-fa02-401f-bfaf-ccabf3828b23     911  \n",
       "...                                    ...     ...  \n",
       "1663  112727c3-fefd-4d11-9edd-5370981e9c0c    3619  \n",
       "1664  08fbb08c-93c7-4ffc-b92e-5beec6fd7120    3635  \n",
       "1665  ec696158-f93d-4608-903d-a6b9c4e7bfd5    3654  \n",
       "1666  27911d6f-dfe5-487b-bc56-7e5cf16a32e0    3617  \n",
       "1667  3b8e873e-64d5-4af0-904f-7197dc632773    3623  \n",
       "\n",
       "[1668 rows x 3 columns]"
      ]
     },
     "execution_count": 12,
     "metadata": {},
     "output_type": "execute_result"
    }
   ],
   "source": [
    "res = []\n",
    "for idx, item in devdf.iterrows():\n",
    "    for q in item['questions']:\n",
    "        tlength = len(item['table']['table'])\n",
    "        paragraphs = \" \".join([p['text'] for p in item['paragraphs']])\n",
    "        plength = len(paragraphs)\n",
    "        qlength = len(q['question'])\n",
    "        res.append({'tid':item['table']['uid'], 'qid':q['uid'], 'length': tlength+plength+qlength})\n",
    "ldf = pd.DataFrame(res)\n",
    "ldf"
   ]
  },
  {
   "cell_type": "code",
   "execution_count": 17,
   "id": "8316c578-8cf6-4c78-bd63-d0cba5dc981a",
   "metadata": {},
   "outputs": [
    {
     "data": {
      "text/plain": [
       "(132, 8849, 1497.0845323741007, 1065.0)"
      ]
     },
     "execution_count": 17,
     "metadata": {},
     "output_type": "execute_result"
    }
   ],
   "source": [
    "ldf['length'].min(), ldf['length'].max(), ldf['length'].mean(), ldf['length'].median()"
   ]
  },
  {
   "cell_type": "code",
   "execution_count": 24,
   "id": "e88c0f3f-cb1b-4a22-ad42-5d57b4f0a0da",
   "metadata": {},
   "outputs": [
    {
     "data": {
      "text/plain": [
       "AIMessage(content='Hi there! How can I assist you today?', additional_kwargs={'refusal': None}, response_metadata={'token_usage': {'completion_tokens': 10, 'prompt_tokens': 10, 'total_tokens': 20, 'completion_tokens_details': {'audio_tokens': 0, 'reasoning_tokens': 0, 'accepted_prediction_tokens': 0, 'rejected_prediction_tokens': 0}, 'prompt_tokens_details': {'audio_tokens': 0, 'cached_tokens': 0}}, 'model_name': 'gpt-3.5-turbo-0125', 'system_fingerprint': None, 'finish_reason': 'stop', 'logprobs': None}, id='run-7fb9742d-0d0d-45ee-97af-3e3c03054ee5-0', usage_metadata={'input_tokens': 10, 'output_tokens': 10, 'total_tokens': 20, 'input_token_details': {'audio': 0, 'cache_read': 0}, 'output_token_details': {'audio': 0, 'reasoning': 0}})"
      ]
     },
     "execution_count": 24,
     "metadata": {},
     "output_type": "execute_result"
    }
   ],
   "source": [
    "from langchain.globals import set_llm_cache\n",
    "from langchain_openai import ChatOpenAI\n",
    "from langchain_openai import OpenAI\n",
    "from langchain_community.cache import SQLiteCache\n",
    "\n",
    "import os\n",
    "with open('dataset_raw/openai.api.key', 'r') as filek: \n",
    "    openai_key = filek.read()\n",
    "os.environ[\"OPENAI_API_KEY\"] =  openai_key \n",
    "\n",
    "\n",
    "llm = ChatOpenAI(temperature=0)\n",
    "#llm = OpenAI(temperature=0) \n",
    "llm.invoke('Say Hi!')"
   ]
  },
  {
   "cell_type": "code",
   "execution_count": null,
   "id": "9027f5d5-f2b5-426d-b4b3-86fd652a6a0b",
   "metadata": {},
   "outputs": [],
   "source": []
  }
 ],
 "metadata": {
  "kernelspec": {
   "display_name": "Python [conda env:arpad_tab]",
   "language": "python",
   "name": "conda-env-arpad_tab-py"
  },
  "language_info": {
   "codemirror_mode": {
    "name": "ipython",
    "version": 3
   },
   "file_extension": ".py",
   "mimetype": "text/x-python",
   "name": "python",
   "nbconvert_exporter": "python",
   "pygments_lexer": "ipython3",
   "version": "3.10.15"
  }
 },
 "nbformat": 4,
 "nbformat_minor": 5
}
