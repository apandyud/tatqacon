{
 "cells": [
  {
   "cell_type": "code",
   "execution_count": 1,
   "id": "6e5c7600-0f0a-49a3-9958-ef7e591182d1",
   "metadata": {},
   "outputs": [],
   "source": [
    "#### import tatqa_utils\n",
    "import pandas as pd\n",
    "import table_convert\n",
    "import pyreadstat\n",
    "from langchain_chroma import Chroma\n",
    "from langchain_openai import OpenAIEmbeddings\n",
    "\n",
    "from langchain_openai import ChatOpenAI\n",
    "from langchain_core.output_parsers import StrOutputParser\n",
    "from langchain_core.prompts import ChatPromptTemplate\n",
    "\n",
    "import utils\n",
    "from langchain_community.vectorstores import FAISS\n",
    "from langchain_core.documents import Document\n",
    "import numpy as np\n",
    "from progress.bar import Bar\n",
    "%load_ext autoreload\n",
    "%autoreload 2\n"
   ]
  },
  {
   "cell_type": "code",
   "execution_count": 2,
   "id": "4ebe96b8-fbe7-4d44-a796-526d3885faf5",
   "metadata": {},
   "outputs": [],
   "source": [
    "import os\n",
    "with open('dataset_raw/openai.api.key', 'r') as filek: \n",
    "    openai_key = filek.read()\n",
    "os.environ[\"OPENAI_API_KEY\"] =  openai_key "
   ]
  },
  {
   "cell_type": "code",
   "execution_count": 3,
   "id": "46380706-66bd-43ed-bfa2-fd9b3952a190",
   "metadata": {},
   "outputs": [],
   "source": [
    "from langchain.globals import set_llm_cache\n",
    "from langchain_openai import ChatOpenAI\n",
    "from langchain_openai import OpenAI\n",
    "from langchain_community.cache import SQLiteCache\n",
    "\n",
    "#llm = ChatOpenAI(temperature=0)\n",
    "#llm = OpenAI(temperature=0) \n",
    "#set_llm_cache(SQLiteCache(database_path=\".langchain.db\"))"
   ]
  },
  {
   "cell_type": "code",
   "execution_count": 4,
   "id": "9196d9ce-8802-42d7-8c29-5f51ad5f5a86",
   "metadata": {},
   "outputs": [],
   "source": [
    "devdf = pd.read_json('dataset_raw/tatqa_dataset_dev.json')"
   ]
  },
  {
   "cell_type": "code",
   "execution_count": 5,
   "id": "ea9f2293-e395-4f66-8dc9-f40e6dd3f96f",
   "metadata": {},
   "outputs": [],
   "source": [
    "def get_question(qid):\n",
    "    for i, item in devdf.iterrows():\n",
    "        for q in item['questions']:        \n",
    "            if q['uid'] == qid:\n",
    "                #table = item['table']['table']\n",
    "                return (item['table'], q)\n",
    "    return (None, None)"
   ]
  },
  {
   "cell_type": "code",
   "execution_count": 6,
   "id": "a29d3ef1-34c9-4f04-90bd-3b1c80bb8e0a",
   "metadata": {},
   "outputs": [],
   "source": [
    "def gen_code3(llm, messages, question, value_list): \n",
    "    \n",
    "    prompt = ChatPromptTemplate.from_messages(messages)\n",
    "\n",
    "    output_parser = StrOutputParser()\n",
    "\n",
    "    chain = prompt | llm | output_parser\n",
    "    \n",
    "    response = chain.invoke({\"value_list\": value_list, \"question\":question})\n",
    "    code =  response.replace('```python','').replace('```','')\n",
    "    \n",
    "    return (prompt.format(value_list = value_list, question = question), code)\n",
    "\n",
    "def exec_code(code, value_list):  \n",
    "        try: \n",
    "            loc = locals()   \n",
    "            if not \"run()\" in code:\n",
    "                exec(code + f\"\\nr = run({value_list})\\n\", globals(), loc)\n",
    "            else: \n",
    "                exec(code + \"\\nr = run()\\n\", globals(), loc)\n",
    "            return loc['r']\n",
    "        except Exception as e:\n",
    "                s = '[Error]'+ str(e)\n",
    "                print(s)\n",
    "                return (s,'')\n",
    "            "
   ]
  },
  {
   "cell_type": "code",
   "execution_count": 7,
   "id": "270e5e76-8ffa-44b4-9fa0-a56d391092a9",
   "metadata": {},
   "outputs": [],
   "source": [
    "from langchain_openai import ChatOpenAI\n",
    "from langchain_core.output_parsers import StrOutputParser\n",
    "from langchain_core.prompts import ChatPromptTemplate\n",
    "\n",
    "#llm = ChatOpenAI(model=\"gpt-3.5-turbo\", temperature = 0, top_p = 1.0, seed=11)\n",
    "llm = ChatOpenAI(model=\"gpt-3.5-turbo\", \n",
    "temperature=0,\n",
    "    #max_tokens=150,\n",
    "    top_p=1,\n",
    "    frequency_penalty=0,\n",
    "    presence_penalty=0,\n",
    "    seed=123)"
   ]
  },
  {
   "cell_type": "code",
   "execution_count": 60,
   "id": "cceb21d7-f08a-411f-b086-34253a608405",
   "metadata": {},
   "outputs": [],
   "source": [
    " messages=[\n",
    "         (\"system\",\"You are a helpful assistant with a subtask in a question-answering pipeline. The questions are related to a financial report. \" + \n",
    "             \"Financial report is stored as a list of annotated values. You will receive the financial report as an annotated value list and the question. \"+\n",
    "             \"Your task is to generate a Python function that can calculate a numeric value that is the answer for the received question. \"                            \n",
    "         ),\n",
    "        (\n",
    "          \"human\",\n",
    "          \"Here is the financial report as a list of annotated values: {value_list}\"\n",
    "        ),         \n",
    "        (\n",
    "          \"ai\",\n",
    "          \"Ok, I received the value list.\"\n",
    "        ),\n",
    "        (\n",
    "          \"human\",\n",
    "          \"Here is the question requires calculation on the financial report: {question}\"\n",
    "        ),\n",
    "        (\n",
    "          \"ai\",\n",
    "          \"Ok, I received the question.\"\n",
    "        ),\n",
    "        (\n",
    "          \"human\",\n",
    "          \"Generate a Python function 'run(value_list)' that can answer the question using the list of annotated values! \"+\n",
    "            \"The function must return a tuple (number, scale). The resulting number is a float with accuracy to two decimal places. Scale usually is thousand, million, billion, percent or an empty string. \"+\n",
    "            \"The calculation usually involves two steps: a selection and a calculation on selected data. \"+\n",
    "            \"If the question is about calculating the year average, you must calculate the average between the given year and the previous one. ex. 2015_average = (2015_value + 2014_value)/2  \"+\n",
    "            \"If the question is about calculating the change between year averages, apply the previous logic and take difference. \" +            \n",
    "            \"Expenses are revenue minus net income. \" +\n",
    "            \"To calculate the difference, use absolute value. \" +\n",
    "            \"To calculate the average over the years, use all given year values if no year specified. \" +\n",
    "            \"The code must be specific to the provided value list. \" +\n",
    "            \"Do not generate explanation, nor example code, just the function. \"              \n",
    "        ),\n",
    "        (\n",
    "          \"ai\",\n",
    "          \"Ok, I have all the information. The Python function is as follows:\"\n",
    "        ),\n",
    "      ]     \n"
   ]
  },
  {
   "cell_type": "code",
   "execution_count": null,
   "id": "ba26933b-bd20-48fc-8edb-d7892b87a9a6",
   "metadata": {},
   "outputs": [],
   "source": []
  },
  {
   "cell_type": "code",
   "execution_count": 62,
   "id": "a859e835-5a7f-42ce-b823-f0937c10c0ec",
   "metadata": {},
   "outputs": [
    {
     "name": "stdout",
     "output_type": "stream",
     "text": [
      "tid:  22f634eb-a76a-424d-b8d3-3994dab52826\n",
      "['($ in millions)', '', '', '']\n",
      "['For the year ended December 31:', '2019', '2018', '2017']\n",
      "['Cost', '$100', '$82', '$91']\n",
      "['Selling, general and administrative', '453', '361', '384']\n",
      "['Research, development and engineering', '126', '67', '59']\n",
      "['Pre-tax stock-based compensation cost', '679', '510', '534']\n",
      "['Income tax benefits', '(155)', '(116)', '(131)']\n",
      "['Net stock-based compensation cost', '$524', '$393', '$403']\n",
      "What is the average Selling, general and administrative?\n",
      "{'number_value': 100.0, 'scale': '', 'category': 'Cost', 'header1': '2019', 'header2': ''}\n",
      "{'number_value': 82.0, 'scale': '', 'category': 'Cost', 'header1': '2018', 'header2': ''}\n",
      "{'number_value': 91.0, 'scale': '', 'category': 'Cost', 'header1': '2017', 'header2': ''}\n",
      "{'number_value': 453.0, 'scale': '', 'category': 'Selling, general and administrative', 'header1': '2019', 'header2': ''}\n",
      "{'number_value': 361.0, 'scale': '', 'category': 'Selling, general and administrative', 'header1': '2018', 'header2': ''}\n",
      "{'number_value': 384.0, 'scale': '', 'category': 'Selling, general and administrative', 'header1': '2017', 'header2': ''}\n",
      "{'number_value': 126.0, 'scale': '', 'category': 'Research, development and engineering', 'header1': '2019', 'header2': ''}\n",
      "{'number_value': 67.0, 'scale': '', 'category': 'Research, development and engineering', 'header1': '2018', 'header2': ''}\n",
      "{'number_value': 59.0, 'scale': '', 'category': 'Research, development and engineering', 'header1': '2017', 'header2': ''}\n",
      "{'number_value': 679.0, 'scale': '', 'category': 'Pre-tax stock-based compensation cost', 'header1': '2019', 'header2': ''}\n",
      "{'number_value': 510.0, 'scale': '', 'category': 'Pre-tax stock-based compensation cost', 'header1': '2018', 'header2': ''}\n",
      "{'number_value': 534.0, 'scale': '', 'category': 'Pre-tax stock-based compensation cost', 'header1': '2017', 'header2': ''}\n",
      "{'number_value': 155.0, 'scale': '', 'category': 'Income tax benefits', 'header1': '2019', 'header2': ''}\n",
      "{'number_value': 116.0, 'scale': '', 'category': 'Income tax benefits', 'header1': '2018', 'header2': ''}\n",
      "{'number_value': 131.0, 'scale': '', 'category': 'Income tax benefits', 'header1': '2017', 'header2': ''}\n",
      "{'number_value': 524.0, 'scale': '', 'category': 'Net stock-based compensation cost', 'header1': '2019', 'header2': ''}\n",
      "{'number_value': 393.0, 'scale': '', 'category': 'Net stock-based compensation cost', 'header1': '2018', 'header2': ''}\n",
      "{'number_value': 403.0, 'scale': '', 'category': 'Net stock-based compensation cost', 'header1': '2017', 'header2': ''}\n",
      "\n",
      "def run(value_list):\n",
      "    selling_general_admin_values = [entry['number_value'] for entry in value_list if entry['category'] == 'Selling, general and administrative']\n",
      "    average_selling_general_admin = sum(selling_general_admin_values) / len(selling_general_admin_values)\n",
      "    return (round(average_selling_general_admin, 2), '')\n",
      "\n",
      "\u001b[92m Success: 399.33\u001b[0m\n"
     ]
    }
   ],
   "source": [
    "devdf = pd.read_json('dataset_raw/tatqa_dataset_dev.json')\n",
    "\n",
    "#qid = 'ba6783f3-8207-419a-b407-3f688682caef'\n",
    "#qid = 'a0414f81-8dc2-44b2-a441-2c9d9c805c4d'\n",
    "\n",
    "#qid = 'bf7abd62-d9cd-48d2-8826-1457684019a3'\n",
    "#qid = '4d259081-6da6-44bd-8830-e4de0031744c'\n",
    "#qid = 'dc5e217a-a7b3-4fc9-ac0f-13d328f26b20'\n",
    "\n",
    "#qid = '7cd3aedf-1291-4fea-bc9d-a25c65727b7b'\n",
    "#qid = '22e20f25-669a-46b9-8779-2768ba391955'\n",
    "#qid = '65ec782c-691e-45df-b541-caecb85154ff'\n",
    "qid = 'a983501d-2eec-486d-9661-e520c7c8af5e'\n",
    "qid = 'a81f1322-e74f-4e3c-a6cf-4b8d25d01cf5'\n",
    "#qid = '6100c476-160a-4f1e-bfc1-a16f4cc18b52'\n",
    "#qid = 'ef274d2b-fbd6-4e9f-95f9-79b37827d91c'\n",
    "#qid = '94916f79-4b6d-487f-8fa2-39f81a085760'\n",
    "#qid = '72325ec6-41ad-4648-9798-b22a61122cb4'\n",
    "#qid = '4f7c8e0a-6ae9-40ee-bd16-06db6f96eaf1'\n",
    "#qid = '35d602ae-9131-4291-a30c-49a40f32bbe4'\n",
    "\n",
    "\n",
    "_table, _q =  get_question(qid)\n",
    "table = _table['table']\n",
    "print(\"tid: \",_table['uid'])\n",
    "[print(r) for r in table]\n",
    "\n",
    "q = _q['question']\n",
    "print(q)\n",
    "values = table_convert.convert_multitable(table)\n",
    "[print(v) for v in values]\n",
    "#response = chain.invoke({\"value_list\": values, \"question\":q})\n",
    "#code =  response.replace('```python','').replace('```','')\n",
    "p, code = gen_code3(llm, messages, q, values)\n",
    "print(code)\n",
    "#print(len(p) + len(code))\n",
    "(v, s) = exec_code(code, values)\n",
    "rng = 0.01\n",
    "if isinstance(v, float) and ( v == _q['answer'] or (v > _q['answer']-rng and v < _q['answer']+rng)):\n",
    "    print(\"\\033[92m Success: \" + str(v)+'\\033[0m')\n",
    "else:    \n",
    "    print(\"\\033[91m failure: \" + str(v), 'good answer: ', _q['answer'],'\\033[0m' )  "
   ]
  },
  {
   "cell_type": "code",
   "execution_count": 29,
   "id": "e7abe9e9-9ff6-45e8-bc42-202280d43d75",
   "metadata": {},
   "outputs": [],
   "source": [
    "\n",
    "def run(value_list):\n",
    "    ebitda_2019 = next(item for item in value_list if item['category'] == 'EBITDA' and item['header2'] == '30 June 2019')['number_value']\n",
    "    ebitda_2018 = next(item for item in value_list if item['category'] == 'EBITDA' and item['header2'] == '30 June 2018')['number_value']\n",
    "    \n",
    "    underlying_ebitda_2019 = next(item for item in value_list if item['category'] == 'Underlying EBITDA' and item['header2'] == '30 June 2019')['number_value']\n",
    "    underlying_ebitda_2018 = next(item for item in value_list if item['category'] == 'Underlying EBITDA' and item['header2'] == '30 June 2018')['number_value']\n",
    "    \n",
    "    average_difference = ((ebitda_2019 - underlying_ebitda_2019) + (ebitda_2018 - underlying_ebitda_2018)) / 2\n",
    "    print(ebitda_2019, underlying_ebitda_2019, ebitda_2018, underlying_ebitda_2018)\n",
    "    return (round(average_difference, 2), '$’000')"
   ]
  },
  {
   "cell_type": "code",
   "execution_count": 30,
   "id": "de4f279e-a24f-4449-89c0-eae813a403c0",
   "metadata": {},
   "outputs": [
    {
     "name": "stdout",
     "output_type": "stream",
     "text": [
      "79046.0 85123.0 63954.0 62575.0\n"
     ]
    },
    {
     "data": {
      "text/plain": [
       "(-2349.0, '$’000')"
      ]
     },
     "execution_count": 30,
     "metadata": {},
     "output_type": "execute_result"
    }
   ],
   "source": [
    "run(values)"
   ]
  },
  {
   "cell_type": "code",
   "execution_count": 10,
   "id": "d914c0ec-d83b-4969-9364-24a749810a80",
   "metadata": {},
   "outputs": [],
   "source": [
    "def get_answer(llm, messages, table, q):\n",
    "    values = table_convert.convert_multitable(table)    \n",
    "    p, code = gen_code3(llm, messages, q, values)    \n",
    "    #print(code)\n",
    "    (v, s) = exec_code(code, values)\n",
    "    return  (v, s)"
   ]
  },
  {
   "cell_type": "code",
   "execution_count": 15,
   "id": "00088101-21e8-4cd6-a07f-a5128e5abe28",
   "metadata": {
    "scrolled": true
   },
   "outputs": [
    {
     "name": "stdout",
     "output_type": "stream",
     "text": [
      "What is the ratio of IMFT’s total assets to total liabilities in 2019?\u001b[92m Success: 2.93\u001b[0m\n",
      "What is the 2019 average defined contribution schemes?\u001b[92m Success: 172.0\u001b[0m\n",
      "What is the 2019 average defined benefit schemes?\u001b[92m Success: 50.5\u001b[0m\n",
      "What is the difference between 2019 average defined contribution schemes and 2019 average defined benefit schemes?\u001b[92m Success: 121.5\u001b[0m\n",
      "What is the 2019 average free cash flow?\u001b[92m Success: 4227.5\u001b[0m\n",
      "What is the 2018 average free cash flow?\u001b[92m Success: 3680.0\u001b[0m\n",
      "What is the change between 2018 and 2019 average free cash flow?\u001b[92m Success: 547.5\u001b[0m\n",
      "What was the change in Capital redemption reserve in 2019 from 2018?\u001b[92m Success: 0.2\u001b[0m\n"
     ]
    },
    {
     "ename": "TypeError",
     "evalue": "'NoneType' object is not subscriptable",
     "output_type": "error",
     "traceback": [
      "\u001b[0;31m---------------------------------------------------------------------------\u001b[0m",
      "\u001b[0;31mTypeError\u001b[0m                                 Traceback (most recent call last)",
      "Cell \u001b[0;32mIn[15], line 22\u001b[0m\n\u001b[1;32m     20\u001b[0m \u001b[38;5;28;01mfor\u001b[39;00m qid \u001b[38;5;129;01min\u001b[39;00m qids:\n\u001b[1;32m     21\u001b[0m     _table, _q \u001b[38;5;241m=\u001b[39m  get_question(qid)\n\u001b[0;32m---> 22\u001b[0m     table \u001b[38;5;241m=\u001b[39m \u001b[43m_table\u001b[49m\u001b[43m[\u001b[49m\u001b[38;5;124;43m'\u001b[39;49m\u001b[38;5;124;43mtable\u001b[39;49m\u001b[38;5;124;43m'\u001b[39;49m\u001b[43m]\u001b[49m\n\u001b[1;32m     24\u001b[0m     \u001b[38;5;66;03m#[print(r) for r in table]\u001b[39;00m\n\u001b[1;32m     26\u001b[0m     q \u001b[38;5;241m=\u001b[39m _q[\u001b[38;5;124m'\u001b[39m\u001b[38;5;124mquestion\u001b[39m\u001b[38;5;124m'\u001b[39m]\n",
      "\u001b[0;31mTypeError\u001b[0m: 'NoneType' object is not subscriptable"
     ]
    }
   ],
   "source": [
    "devdf = pd.read_json('dataset_raw/tatqa_dataset_dev.json')\n",
    "\n",
    "qids = [\n",
    "'ba6783f3-8207-419a-b407-3f688682caef',\n",
    "'a0414f81-8dc2-44b2-a441-2c9d9c805c4d',\n",
    "'bf7abd62-d9cd-48d2-8826-1457684019a3',\n",
    "'4d259081-6da6-44bd-8830-e4de0031744c',\n",
    "'dc5e217a-a7b3-4fc9-ac0f-13d328f26b20',\n",
    "'a81f1322-e74f-4e3c-a6cf-4b8d25d01cf5'\n",
    "'7cd3aedf-1291-4fea-bc9d-a25c65727b7b',\n",
    "'22e20f25-669a-46b9-8779-2768ba391955',\n",
    "'65ec782c-691e-45df-b541-caecb85154ff',\n",
    "'a983501d-2eec-486d-9661-e520c7c8af5e'\n",
    "'ef274d2b-fbd6-4e9f-95f9-79b37827d91c'\n",
    "]\n",
    "\n",
    "\n",
    "    \n",
    "\n",
    "for qid in qids:\n",
    "    _table, _q =  get_question(qid)\n",
    "    table = _table['table']\n",
    "    \n",
    "    #[print(r) for r in table]\n",
    "    \n",
    "    q = _q['question']\n",
    "    print(q, end='')\n",
    "\n",
    "    \n",
    "    #r = []\n",
    "    #for i in [0,1,2]:        \n",
    "    #   r.append(get_answer(llm, messages, table, q))\n",
    "    \n",
    "    #if r[0][0] == r[1][0]:\n",
    "    #    v = r[0][0]\n",
    "    #elif r[1][0] == r[2][0]:\n",
    "    #    v = r[1][0]\n",
    "    #elif r[0][0] == r[2][0]:\n",
    "    #    v = r[0][0] \n",
    "    #else:\n",
    "    #    v = None\n",
    "        \n",
    "    (v, s) = get_answer(llm, messages, table, q)    \n",
    "    \n",
    "    if v == _q['answer']:\n",
    "        print(\"\\033[92m Success: \" + str(v)+'\\033[0m')\n",
    "    else:    \n",
    "        print(\"\\033[91m failure: \" + str(v), 'good answer: ', _q['answer'],'\\033[0m' ) "
   ]
  },
  {
   "cell_type": "code",
   "execution_count": 63,
   "id": "dc854336-38c8-4227-801a-4b60c71b6561",
   "metadata": {},
   "outputs": [
    {
     "data": {
      "application/vnd.jupyter.widget-view+json": {
       "model_id": "2f37a443ee2e44d2a14245466d3203f8",
       "version_major": 2,
       "version_minor": 0
      },
      "text/plain": [
       "0it [00:00, ?it/s]"
      ]
     },
     "metadata": {},
     "output_type": "display_data"
    },
    {
     "name": "stdout",
     "output_type": "stream",
     "text": [
      "eb787966-fa02-401f-bfaf-ccabf3828b23\n",
      "What is the change in Other in 2019 from 2018?\u001b[92m Success: -12.6\u001b[0m\n",
      "05b670d3-5b19-438c-873f-9bf6de29c69e\n",
      "What is the percentage change in Other in 2019 from 2018?\u001b[92m Success: -22.22\u001b[0m\n",
      "b2786c1a-37de-4120-b03c-32bf5c81f157\n",
      "What was the change in the amount for Appliances in 2019 from 2018?\u001b[92m Success: -94.0\u001b[0m\n",
      "fe11f001-3bfe-4089-8108-412676f0a780\n",
      "What was the percentage change in the amount for Appliances in 2019 from 2018?\u001b[92m Success: -12.14\u001b[0m\n",
      "5103aed0-b4e8-4fae-bf78-e2c9f4ba84cf\n",
      "What is the difference between the domestic and international discount rates as at September 30, 2019?\u001b[92m Success: 2.1\u001b[0m\n",
      "4dc8be43-d8d9-4b08-9ffd-9c19012361ce\n",
      "What is the year on year percentage change in domestic discount rate between 2018 and 2019?\u001b[92m Success: 6.67\u001b[0m\n",
      "6c44a1a8-0785-43a0-90ab-7e21df2c57d9\n",
      "What is the year on year percentage change in international expected return on plan assets between 2018 and 2019?\u001b[92m Success: -8.11\u001b[0m\n",
      "a0414f81-8dc2-44b2-a441-2c9d9c805c4d\n",
      "What is the 2019 average defined contribution schemes?\u001b[92m Success: 172.0\u001b[0m\n",
      "bf7abd62-d9cd-48d2-8826-1457684019a3\n",
      "What is the 2019 average defined benefit schemes?\u001b[92m Success: 50.5\u001b[0m\n",
      "4d259081-6da6-44bd-8830-e4de0031744c\n",
      "What is the difference between 2019 average defined contribution schemes and 2019 average defined benefit schemes?\u001b[91m failure: 138.33 good answer:  121.5 \u001b[0m\n",
      "bed1fce2-69cb-4d1e-a34a-01950a1770bd\n",
      "What is the percentage change in the operating loss carryforward from 2018 to 2019?\u001b[92m Success: 26.82\u001b[0m\n",
      "348d031d-73ab-4b35-af46-998cfef25775\n",
      "What is the percentage change in the valuation allowance from 2018 to 2019?\u001b[92m Success: 25.1\u001b[0m\n",
      "aea850af-68cb-4cc1-80b2-c9c2860b273e\n",
      "What is the percentage change in the net deferred tax asset from 2018 to 2019?\u001b[92m Success: 2.98\u001b[0m\n",
      "ba6783f3-8207-419a-b407-3f688682caef\n",
      "What is the ratio of IMFT’s total assets to total liabilities in 2019?\u001b[92m Success: 2.93\u001b[0m\n",
      "263d03ec-83d2-48df-8376-1a72167798f7\n",
      "What is the proportion of IMFT’s property, plant, and equipment over total assets in 2018?\u001b[92m Success: 0.87\u001b[0m\n",
      "78fc6d55-c20c-4f71-99fe-bc40a16e61d0\n",
      "What is the change of IMFT’s total assets from 2018 to 2019?\u001b[92m Success: -361.0\u001b[0m\n",
      "35d602ae-9131-4291-a30c-49a40f32bbe4\n",
      "What was the change in Value added tax receivables, net, noncurrent in 2019 from 2018?\u001b[92m Success: 73.0\u001b[0m\n",
      "a4f782f1-de3b-47a3-87af-1cb33c112b39\n",
      "What was the percentage change in Value added tax receivables, net, noncurrent in 2019 from 2018?\u001b[92m Success: 14.07\u001b[0m\n",
      "dc5e217a-a7b3-4fc9-ac0f-13d328f26b20\n",
      "What is the 2019 average free cash flow?\u001b[92m Success: 4227.5\u001b[0m\n",
      "7cd3aedf-1291-4fea-bc9d-a25c65727b7b\n",
      "What is the 2018 average free cash flow?\u001b[92m Success: 3680.0\u001b[0m\n",
      "22e20f25-669a-46b9-8779-2768ba391955\n",
      "What is the change between 2018 and 2019 average free cash flow?\u001b[92m Success: 547.5\u001b[0m\n",
      "a983501d-2eec-486d-9661-e520c7c8af5e\n",
      "What was the average difference between EBITDA and underlying EBITDA for both FYs?\u001b[92m Success: 3728.0\u001b[0m\n",
      "Invalid  $’000\n",
      "64c902c6-f426-4432-84b3-c10b3065716f\n",
      "What was the difference in net profit between both FYs?\u001b[91m failure: 3180.0 good answer:  -16458 \u001b[0m\n",
      "Invalid  $’000\n",
      "5d9b397d-16bb-4463-8f9a-b85507704a8d\n",
      "What was the change in Total operating income in 2019 from 2018?\u001b[92m Success: 154.0\u001b[0m\n",
      "cb4abf04-9551-46e2-8a32-46672e284167\n",
      "What was the percentage change in Total operating income in 2019 from 2018?\u001b[92m Success: 104.05\u001b[0m\n",
      "91812b92-5e94-414f-a447-4622aa3c2d10\n",
      "What was the average dividend yield for the 3 years from 2017 to 2019?\u001b[92m Success: 1.57\u001b[0m\n",
      "29b63db7-4925-4629-b108-49bbb27fb565\n",
      "What was the average risk-free interest rate over the 3 year period from 2017 to 2019?\u001b[92m Success: 1.9\u001b[0m\n",
      "6100c476-160a-4f1e-bfc1-a16f4cc18b52\n",
      "What was the increase / (decrease) in the cost from 2018 to 2019?\u001b[92m Success: 18.0\u001b[0m\n",
      "a81f1322-e74f-4e3c-a6cf-4b8d25d01cf5\n",
      "What is the average Selling, general and administrative?\u001b[92m Success: 399.33\u001b[0m\n",
      "f7cac790-05ae-4a55-a41d-836a6b415f88\n",
      "What is the percentage increase / (decrease) of Research, development and engineering from 2018 to 2019?\u001b[92m Success: 88.06\u001b[0m\n",
      "65ec782c-691e-45df-b541-caecb85154ff\n",
      "What was the change in Capital redemption reserve in 2019 from 2018?\u001b[92m Success: 0.2\u001b[0m\n",
      "Invalid  £m\n",
      "94916f79-4b6d-487f-8fa2-39f81a085760\n",
      "What was the percentage change in Capital redemption reserve in 2019 from 2018?\u001b[92m Success: 40.0\u001b[0m\n",
      "72325ec6-41ad-4648-9798-b22a61122cb4\n",
      "How much is the percentage change of total goodwill amount from 2017 to 2018?\u001b[92m Success: 0.51\u001b[0m\n",
      "4f7c8e0a-6ae9-40ee-bd16-06db6f96eaf1\n",
      "What is the ratio of Data Center Group to Mobileye goodwill amount in 2019?\u001b[92m Success: 0.7\u001b[0m\n",
      "bbe335ff-414f-48b3-8126-5a2c7c505de3\n",
      "How much was the average operating income from 2015 to 2019?\u001b[92m Success: 13237.4\u001b[0m\n",
      "ef274d2b-fbd6-4e9f-95f9-79b37827d91c\n",
      "What was the total expenses for Oracle in 2018?(35796.0, '')\n",
      "\u001b[92m Success: 35796.0\u001b[0m\n"
     ]
    }
   ],
   "source": [
    "from tqdm.notebook import tqdm as log_progress\n",
    "\n",
    "devdf = pd.read_json('dataset_raw/tatqa_dataset_dev.json')\n",
    "cnt = 0\n",
    "res = []\n",
    "for i, item in log_progress(devdf.iterrows()):\n",
    "    if cnt == 36:\n",
    "        break;\n",
    "    #print(item['table']['uid'])\n",
    "    table = item['table']['table']\n",
    "    value_list = table_convert.convert_multitable(table)    \n",
    "    \n",
    "    for q in item['questions']:        \n",
    "        if q['answer_type'] == 'arithmetic' and 'table' in q['answer_from']:   \n",
    "            cnt = cnt + 1\n",
    "            print(q['uid'])\n",
    "            _table, _q =  get_question(q['uid'])\n",
    "            \n",
    "            table = _table['table']\n",
    "            \n",
    "            #[print(r) for r in table]\n",
    "            \n",
    "            q = _q['question']\n",
    "            print(q, end='')\n",
    "            \n",
    "            \n",
    "            #r = []\n",
    "            #for i in [0,1,2]:        \n",
    "            #   r.append(get_answer(llm, messages, table, q))\n",
    "            \n",
    "            #if r[0][0] == r[1][0]:\n",
    "            #    (v, s) = r[0]\n",
    "            #elif r[1][0] == r[2][0]:\n",
    "            #    (v, s) = r[1]\n",
    "            #elif r[0][0] == r[2][0]:\n",
    "            #    (v, s) = r[0]\n",
    "            #else:\n",
    "            #    (v, s) = (None, None)\n",
    "                \n",
    "            (v, s) = get_answer(llm, messages, table, q)    \n",
    "            \n",
    "            rng = 0.01\n",
    "            if not isinstance(v, str)  and ( v == _q['answer'] or (v > _q['answer']-rng and v < _q['answer']+rng)):\n",
    "              print(\"\\033[92m Success: \" + str(v)+'\\033[0m')\n",
    "            else:    \n",
    "                print(\"\\033[91m failure: \" + str(v), 'good answer: ', _q['answer'],'\\033[0m' ) \n",
    "            \n",
    "            \n",
    "            (pred_value, pred_scale) = (v,s)\n",
    "            if isinstance(pred_value, tuple) and len(pred_value) == 2:\n",
    "                print('$$$$')\n",
    "                (pred_value, pred_scale) = pred_value\n",
    "            if pred_scale == \"%\" or pred_scale == \"percentage\"  :\n",
    "                pred_scale = 'percent'\n",
    "            if pred_scale not in [\"\", 'thousand', 'million', 'billion', 'percent']:\n",
    "                print('Invalid ', pred_scale)\n",
    "                pred_scale = \"\"    \n",
    "            #if item['table']['uid'] in res_scale and pred_scale != 'percent':\n",
    "            #    pred_scale = res_scale[item['table']['uid']]\n",
    "            err=\"\"\n",
    "            if isinstance(pred_value, str):\n",
    "                #print(\"string\")\n",
    "                if  pred_value.startswith('[Error]'):\n",
    "                    (pred_value, pred_scale) = (\"\", \"\")\n",
    "                    err = v                                                        \n",
    "            res.append(({\"answer_type\":_q[\"answer_type\"], \"answer\": _q[\"answer\"], 'scale': _q[\"scale\"]}, pred_value, pred_scale, _q, code, \"\",value_list, err))"
   ]
  },
  {
   "cell_type": "code",
   "execution_count": 64,
   "id": "23949634-5d64-480e-b71d-9c647c844409",
   "metadata": {},
   "outputs": [
    {
     "name": "stdout",
     "output_type": "stream",
     "text": [
      "0.7222222222222222 0.7222222222222222 0.75\n"
     ]
    }
   ],
   "source": [
    "from tatqa_metric import TaTQAEmAndF1\n",
    "\n",
    "metrics = TaTQAEmAndF1()\n",
    "\n",
    "for ans, pred, pred_scale, _,_, _,_,_ in res:\n",
    "    metrics(ans, pred, pred_scale)\n",
    "pred_em, pred_f1, scale_score, op_score = metrics.get_overall_metric(reset=False)\n",
    "print( pred_em, pred_f1, scale_score)"
   ]
  },
  {
   "cell_type": "code",
   "execution_count": 65,
   "id": "4bbd4185-4f3c-4a08-b283-ce1b246abe85",
   "metadata": {
    "scrolled": true
   },
   "outputs": [
    {
     "name": "stdout",
     "output_type": "stream",
     "text": [
      "4d259081-6da6-44bd-8830-e4de0031744c [(166+178)/2] - [(57+44)/2] 138.33 million  <>  121.5 million\n",
      "What is the difference between 2019 average defined contribution schemes and 2019 average defined benefit schemes?\n",
      "64c902c6-f426-4432-84b3-c10b3065716f -9,819 - 6,639  3180.0   <>  -16458 thousand\n",
      "What was the difference in net profit between both FYs?\n",
      "0.9444444444444444\n"
     ]
    }
   ],
   "source": [
    "good = 0\n",
    "for ans, pred, pred_scale, q,code, _,value_list,err in res:\n",
    "    llimit = ans['answer']*0.99\n",
    "    ulimit = ans['answer']*1.01\n",
    "    #if q['uid'] == '263d03ec-83d2-48df-8376-1a72167798f7':\n",
    "    #    print(q['uid'], '{',pred, '}', ans['answer'], ans['scale'], err)\n",
    "    if pred  is None or isinstance(pred, tuple) or isinstance(pred, str):\n",
    "        #if ans['scale'] != pred_scale:\n",
    "        #    print ('***********', q['uid'], 'pred: ',pred, 'scale:',pred_scale, ' <> ' , ans['answer'], ans['scale'])\n",
    "       \n",
    "        #type error\n",
    "        #if isinstance(pred, str):\n",
    "        #    print (pred, pred_scale, ' -- ' , ans['answer'])\n",
    "        #if isinstance(pred, tuple):\n",
    "        #    print (pred, pred_scale, ' == ' , ans['answer'], ans['scale'])\n",
    "        #print('===============================================================================')\n",
    "        print(q['uid'], '{',pred, '}', ans['answer'], ans['scale'], err)\n",
    "        continue\n",
    "    \n",
    "    #pred = round(pred, 2)\n",
    "    \n",
    "    if (pred > 0 and llimit < pred and pred < ulimit) or (pred < 0 and llimit > pred and pred > ulimit) or pred==ulimit or pred == llimit:\n",
    "        good = good + 1\n",
    "        #if ans['scale'] == pred_scale and  pred_scale == 'thousand':\n",
    "        #    print ('***********', q['uid'], 'pred: ',pred, 'scale:',pred_scale, ' == ' , ans['answer'], ans['scale'])\n",
    "        \n",
    "        #if ans['scale'] != pred_scale:\n",
    "        #    print ('***********', q['uid'], 'pred: ',pred, 'scale:',pred_scale, ' <> ' , ans['answer'], ans['scale'])\n",
    "        #if  ans['scale'] == 'thousand':\n",
    "        #    print (q['uid'], pred, pred_scale, ' == ' , ans['answer'], ans['scale'])\n",
    "          \n",
    "    else:\n",
    "        #value error\n",
    "        #  if ans['scale'] != pred_scale:\n",
    "        #    print ('***********', q['uid'], 'pred: ',pred, 'scale:',pred_scale, ' <> ' , ans['answer'], ans['scale'])\n",
    "        #if ans['answer'] != pred and ans['scale'] == pred_scale and pred_scale != \"\":\n",
    "        #    print ('***********', q['uid'], 'pred: ',pred, 'scale:',pred_scale, ' <> ' , ans['answer'], ans['scale'])\n",
    "       \n",
    "        #None\n",
    "        print (q['uid'],q['derivation'], pred, pred_scale, ' <> ' , ans['answer'], ans['scale'])\n",
    "        print(q['question'])\n",
    "        #print(value_list)\n",
    "        #print(value_list)\n",
    "        #print(code)\n",
    "        \n",
    "    #if isinstance(pred, str):\n",
    "    #    print (pred, pred_scale, ' -- ' , ans['answer'])\n",
    "    #if isinstance(pred, tuple):\n",
    "    #    print (pred, pred_scale, ' == ' , ans['answer'], ans['scale'])\n",
    "        \n",
    "print (good/len(res))"
   ]
  },
  {
   "cell_type": "code",
   "execution_count": 22,
   "id": "94bd1826-a976-46be-bd81-f7fc8ebc9077",
   "metadata": {},
   "outputs": [
    {
     "data": {
      "text/plain": [
       "336"
      ]
     },
     "execution_count": 22,
     "metadata": {},
     "output_type": "execute_result"
    }
   ],
   "source": [
    "len(res)"
   ]
  },
  {
   "cell_type": "code",
   "execution_count": 15,
   "id": "8d842dc4-6cf7-4ed1-875a-1f916d7949a2",
   "metadata": {},
   "outputs": [
    {
     "name": "stdout",
     "output_type": "stream",
     "text": [
      "-14212.0 14212\n",
      "168.0 -168\n",
      "1647.0 -1647\n",
      "-1226114.0 1226114\n",
      "43.0 -43\n",
      "0.5 -0.5\n",
      "0.5 -0.5\n",
      "10.5 -10.5\n",
      "-77395.0 77395\n",
      "1859.0 -1859\n",
      "10029.67 -10029.67\n",
      "-1.9 1.9\n"
     ]
    }
   ],
   "source": [
    "good = 0\n",
    "for ans, pred, pred_scale, q,code, _,value_list,err in res:\n",
    "    llimit = ans['answer']*0.99\n",
    "    ulimit = ans['answer']*1.01\n",
    "    #if q['uid'] == '263d03ec-83d2-48df-8376-1a72167798f7':\n",
    "    #    print(q['uid'], '{',pred, '}', ans['answer'], ans['scale'], err)\n",
    "    if pred ==  ans['answer']*-1 and pred != 0:\n",
    "        print(pred,ans['answer'])\n",
    "        #if ans['scale'] != pred_scale:"
   ]
  },
  {
   "cell_type": "code",
   "execution_count": 21,
   "id": "0233c0e5-df76-4f88-b90b-460a40702859",
   "metadata": {},
   "outputs": [],
   "source": [
    "good = 0\n",
    "for ans, pred, pred_scale, q,code, _,value_list,err in res:\n",
    "    llimit = ans['answer']*0.99\n",
    "    ulimit = ans['answer']*1.01\n",
    "    #if q['uid'] == '263d03ec-83d2-48df-8376-1a72167798f7':\n",
    "    #    print(q['uid'], '{',pred, '}', ans['answer'], ans['scale'], err)\n",
    "    if (isinstance(pred, float) and pred/1000000 ==  ans['answer'])  and pred != 0 :\n",
    "        print(pred,ans['answer'])"
   ]
  },
  {
   "cell_type": "code",
   "execution_count": null,
   "id": "ad03aa82-e512-4e90-a0d1-a63b926b5204",
   "metadata": {},
   "outputs": [],
   "source": []
  }
 ],
 "metadata": {
  "kernelspec": {
   "display_name": "Python [conda env:arpad_tab]",
   "language": "python",
   "name": "conda-env-arpad_tab-py"
  },
  "language_info": {
   "codemirror_mode": {
    "name": "ipython",
    "version": 3
   },
   "file_extension": ".py",
   "mimetype": "text/x-python",
   "name": "python",
   "nbconvert_exporter": "python",
   "pygments_lexer": "ipython3",
   "version": "3.10.15"
  }
 },
 "nbformat": 4,
 "nbformat_minor": 5
}
