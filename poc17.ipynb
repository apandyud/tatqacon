{
 "cells": [
  {
   "cell_type": "code",
   "execution_count": 2,
   "id": "4e1fa450-bd86-4fe0-aa63-a1148b1a7a5e",
   "metadata": {},
   "outputs": [],
   "source": [
    "import tatqa_utils\n",
    "import pandas as pd"
   ]
  },
  {
   "cell_type": "code",
   "execution_count": 6,
   "id": "a3db33cd-4f26-47b9-84ca-dcc09f429ab3",
   "metadata": {},
   "outputs": [],
   "source": [
    "devdf = pd.read_json('dataset_raw/tatqa_dataset_dev.json')\n",
    "ari = []\n",
    "for _, item in devdf.iterrows():\n",
    "    for q in item['questions']:\n",
    "          if q['answer_type'] == 'arithmetic' and 'table' in q['answer_from']: \n",
    "              ari.append({'question':q, 'table': item['table'], 'paragraphs': item['paragraphs']})\n",
    "\n"
   ]
  },
  {
   "cell_type": "code",
   "execution_count": 3,
   "id": "71f8dd6b-5aef-4ba7-a9c3-ff5aac337242",
   "metadata": {},
   "outputs": [],
   "source": [
    "import pandas as pd\n",
    "import pyreadstat\n",
    "from langchain_chroma import Chroma\n",
    "from langchain_openai import OpenAIEmbeddings\n",
    "import utils\n",
    "from langchain_community.vectorstores import FAISS\n",
    "from langchain_core.documents import Document\n",
    "import numpy as np\n",
    "from progress.bar import Bar\n",
    "%load_ext autoreload\n",
    "%autoreload 2"
   ]
  },
  {
   "cell_type": "code",
   "execution_count": 15,
   "id": "cbf10b98-b80b-47ad-ad92-2918f2b7155c",
   "metadata": {},
   "outputs": [],
   "source": [
    "import os\n",
    "with open('dataset_raw/openai.api.key', 'r') as filek: \n",
    "    openai_key = filek.read()\n",
    "os.environ[\"OPENAI_API_KEY\"] =  openai_key "
   ]
  },
  {
   "cell_type": "code",
   "execution_count": 16,
   "id": "b93c3123-f900-44a1-af36-0aeac544b78d",
   "metadata": {},
   "outputs": [],
   "source": [
    "from langchain.globals import set_llm_cache\n",
    "from langchain_openai import ChatOpenAI\n",
    "from langchain_community.cache import SQLiteCache\n",
    "\n",
    "llm = ChatOpenAI(temperature=0)\n",
    "set_llm_cache(SQLiteCache(database_path=\".langchain.db\"))"
   ]
  },
  {
   "cell_type": "code",
   "execution_count": 17,
   "id": "76a048c8-6eae-42c3-a240-012aa5e50f92",
   "metadata": {},
   "outputs": [],
   "source": [
    "import re \n",
    "def remove_thousand_separators(text):\n",
    "    # This regular expression matches numbers with commas as thousand separators\n",
    "    return re.sub(r'(?<=\\d),(?=\\d{3})', '', text)"
   ]
  },
  {
   "cell_type": "code",
   "execution_count": 30,
   "id": "3e9eb3f7-6e35-4b30-abc4-8dd5a5ee19f3",
   "metadata": {},
   "outputs": [
    {
     "name": "stdout",
     "output_type": "stream",
     "text": [
      "[['', '', 'Years Ended September 30,', ''], ['', '2019', '2018', '2017'], ['Fixed Price', '$  1,452.4', '$  1,146.2', '$  1,036.9'], ['Other', '44.1', '56.7', '70.8'], ['Total sales', '$1,496.5', '$1,202.9', '$1,107.7']]\n",
      "What is the change in Other in 2019 from 2018?\n",
      "def run():\n",
      "    other_2019 = float(table[3][1])\n",
      "    other_2018 = float(table[3][2])\n",
      "    \n",
      "    change = other_2019 - other_2018\n",
      "    \n",
      "    return (change, '')\n",
      "(-12.600000000000001, '') -12.6\n"
     ]
    }
   ],
   "source": [
    "def gen_code(llm, question, table):    \n",
    "    prompt = f\"Given the following table, can you generate a python code, without sample data, which can answer the following question? the code must contain only one function called 'run', and no wrapping class. The function would return results with format (value, scale). Do not write explanation, just code.\\nQuestion: {question} \\n Table: {table}\"\n",
    "    res = llm.invoke(prompt)\n",
    "    code = res.content.replace('```python','').replace('```','')\n",
    "    return (prompt, code)\n",
    "\n",
    "def exec_code(code, table):  \n",
    "    try: \n",
    "        loc = locals()   \n",
    "        if not \"run()\" in code:\n",
    "            exec(code + f\"\\nr = run({table})\\n\", globals(), loc)\n",
    "        else: \n",
    "            exec(code + \"\\nr = run()\\n\", globals(), loc)\n",
    "        return loc['r']\n",
    "    except Exception as e:\n",
    "            s = '[Error]'+ str(e)\n",
    "            print(s)\n",
    "            return (s,'')\n",
    "\n",
    "item = ar[0]\n",
    "table = item['table']['table']\n",
    "print(table)\n",
    "\n",
    "#table = f\"{table}\"\n",
    "#table = remove_thousand_separators(table)\n",
    "#table = tab\n",
    "#print(table)\n",
    "question = item['question']['question']\n",
    "print(question)\n",
    "( prompt, code) = gen_code(llm, question, table)\n",
    "res = exec_code(code, table)\n",
    "print(code)\n",
    "print(res, item['question']['answer'])"
   ]
  },
  {
   "cell_type": "code",
   "execution_count": 24,
   "id": "5267b9e3-2a3f-498e-b27b-334b5458515b",
   "metadata": {},
   "outputs": [
    {
     "data": {
      "text/plain": [
       "[['', '', 'Years Ended September 30,', ''],\n",
       " ['', '2019', '2018', '2017'],\n",
       " ['Fixed Price', '$  1,452.4', '$  1,146.2', '$  1,036.9'],\n",
       " ['Other', '44.1', '56.7', '70.8'],\n",
       " ['Total sales', '$1,496.5', '$1,202.9', '$1,107.7']]"
      ]
     },
     "execution_count": 24,
     "metadata": {},
     "output_type": "execute_result"
    }
   ],
   "source": [
    "table"
   ]
  },
  {
   "cell_type": "code",
   "execution_count": null,
   "id": "1c822d9f-f3a0-4c4f-b9d4-4606ce7f8a9e",
   "metadata": {},
   "outputs": [],
   "source": []
  }
 ],
 "metadata": {
  "kernelspec": {
   "display_name": "Python [conda env:arpad_tab]",
   "language": "python",
   "name": "conda-env-arpad_tab-py"
  },
  "language_info": {
   "codemirror_mode": {
    "name": "ipython",
    "version": 3
   },
   "file_extension": ".py",
   "mimetype": "text/x-python",
   "name": "python",
   "nbconvert_exporter": "python",
   "pygments_lexer": "ipython3",
   "version": "3.10.15"
  }
 },
 "nbformat": 4,
 "nbformat_minor": 5
}
