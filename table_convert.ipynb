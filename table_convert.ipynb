{
 "cells": [
  {
   "cell_type": "code",
   "execution_count": 31,
   "id": "2e05e1c5-78e1-4a13-b36d-5e7fac319086",
   "metadata": {},
   "outputs": [],
   "source": [
    "%load_ext autoreload\n",
    "%autoreload 2\n"
   ]
  },
  {
   "cell_type": "code",
   "execution_count": 16,
   "id": "69c156ee-4fdc-470a-af3e-248639e25832",
   "metadata": {},
   "outputs": [],
   "source": [
    "import re\n",
    "from typing import Optional, Tuple\n",
    "\n",
    "def extract_number(input_str: str) -> Optional[Tuple[float, str]]:\n",
    "    \"\"\"\n",
    "    Extracts a numeric value from a string and returns a tuple (number, other_characters).\n",
    "    If no number is found, returns None.\n",
    "    \n",
    "    Handles integers, floats, percentages, currency, thousand separators, and scale units like 'm' (million) or 'k' (thousand).\n",
    "    \n",
    "    Args:\n",
    "        input_str (str): The input string.\n",
    "    \n",
    "    Returns:\n",
    "        Optional[Tuple[float, str]]: A tuple with the number and the other characters,\n",
    "        or None if no number is found.\n",
    "    \"\"\"\n",
    "    # Define a regex pattern for matching numbers\n",
    "    pattern = r\"\"\"\n",
    "        (?P<full_number>\n",
    "            (?P<sign>[-+]?)                # Optional sign (to exclude later)\n",
    "            \\s*\n",
    "            (?P<number>\n",
    "                (\\d{1,3}(?:,\\d{3})*|\\d+)?  # Integer with thousand separators or plain integer\n",
    "                (\\.\\d+)?                   # Optional decimal part\n",
    "                |(\\d*\\.\\d+)                # Decimal number without leading integer\n",
    "            )\n",
    "            (?P<scale>[kKmM]?)             # Optional scale: k (thousand), m (million)\n",
    "            (?P<percent>\\s*%?)             # Optional percentage symbol\n",
    "            |(?P<currency>\\$\\s*\\d[\\d,]*(?:\\.\\d+)?) # Optional currency\n",
    "        )\n",
    "    \"\"\"\n",
    "    \n",
    "    # Compile the regex with the verbose flag\n",
    "    regex = re.compile(pattern, re.VERBOSE)\n",
    "    \n",
    "    match = regex.search(input_str)\n",
    "    if not match:\n",
    "        return None\n",
    "    \n",
    "    full_number = match.group(\"full_number\")\n",
    "    scale = match.group(\"scale\") or ''\n",
    "    percent = match.group(\"percent\") or ''\n",
    "    currency = match.group(\"currency\") or ''\n",
    "    \n",
    "    # Normalize the number by removing commas, currency, and scale\n",
    "    number_str = full_number.replace(',', '').replace('$', '').strip('%').strip(scale)\n",
    "    \n",
    "    try:\n",
    "        number = float(number_str)\n",
    "    except ValueError:\n",
    "        return None\n",
    "\n",
    "    # Adjust number based on scale\n",
    "    scale = scale.lower()\n",
    "    if scale == 'k':\n",
    "        number *= 1_000\n",
    "    elif scale == 'm':\n",
    "        number *= 1_000_000\n",
    "\n",
    "    # Construct the other_characters string\n",
    "    other_characters = f\"{percent}{scale}{currency}\".strip()\n",
    "    \n",
    "    return number, other_characters\n"
   ]
  },
  {
   "cell_type": "code",
   "execution_count": 17,
   "id": "7b1f539e-0137-4dca-9567-fb9eeddf95d7",
   "metadata": {},
   "outputs": [],
   "source": [
    "table = [['', 'Domestic', '', 'International', ''],\n",
    "['', 'September 30,', '', 'September 30,', ''],\n",
    "['', '2019', '2018', '2019', '2018'],\n",
    "['Discount rate', '4.00%', '3.75%', '1.90%', '2.80%'],\n",
    "['Expected return on plan assets', '', '', '3.40%', '3.70%'],\n",
    "['Rate of compensation increase', '', '', '- - %', '- - %']]\n"
   ]
  },
  {
   "cell_type": "code",
   "execution_count": 18,
   "id": "9483e210-83b8-417f-a962-315d8efb4ab1",
   "metadata": {},
   "outputs": [
    {
     "name": "stdout",
     "output_type": "stream",
     "text": [
      "['', 'Domestic', 'Domestic', 'International', 'International']\n",
      "['', 'September 30,', 'September 30,', 'September 30,', 'September 30,']\n",
      "['', '2019', '2018', '2019', '2018']\n",
      "['Discount rate', '4.00%', '3.75%', '1.90%', '2.80%']\n",
      "['Expected return on plan assets', '', '', '3.40%', '3.70%']\n",
      "['Rate of compensation increase', '', '', '- - %', '- - %']\n"
     ]
    }
   ],
   "source": [
    "def fill_column_headers(row):    \n",
    "    if row[0] != '':\n",
    "        return row\n",
    "    col_num = len([c for c in row if c!=''])\n",
    "    step_size = int((len(row) - 1) / col_num)    \n",
    "    for i in range(col_num):\n",
    "        col_name = None\n",
    "        for j in range(step_size):\n",
    "            if row[1+i*step_size] != '':\n",
    "                col_name = row[1+i*step_size]\n",
    "                break\n",
    "        for j in range(step_size):\n",
    "            row[1+i*step_size + j] = col_name\n",
    "    return row\n",
    "\n",
    "for idx, r in enumerate((table)):\n",
    "    print(fill_column_headers(r))"
   ]
  },
  {
   "cell_type": "code",
   "execution_count": 19,
   "id": "1a0fef28-a51c-40ab-8bc7-d0d780b3e10c",
   "metadata": {},
   "outputs": [
    {
     "data": {
      "text/plain": [
       "([['', 'Domestic', 'Domestic', 'International', 'International'],\n",
       "  ['', 'September 30,', 'September 30,', 'September 30,', 'September 30,'],\n",
       "  ['', '2019', '2018', '2019', '2018'],\n",
       "  ['Discount rate', '4.00%', '3.75%', '1.90%', '2.80%'],\n",
       "  ['Expected return on plan assets', '', '', '3.40%', '3.70%'],\n",
       "  ['Rate of compensation increase', '', '', '- - %', '- - %']],\n",
       " 1,\n",
       " 3)"
      ]
     },
     "execution_count": 19,
     "metadata": {},
     "output_type": "execute_result"
    }
   ],
   "source": [
    "def fill_table_headers(table):\n",
    "    first_value_col_idx = 1\n",
    "    \n",
    "    for idx, r in enumerate(reversed(table)):\n",
    "        if r[0] == '': ## header end\n",
    "            first_value_row_idx = idx\n",
    "            break        \n",
    "    for idx, r in enumerate(reversed(table[0:first_value_row_idx])):\n",
    "       table[idx] = fill_column_headers(table[idx])    \n",
    "        \n",
    "    return (table, first_value_col_idx, first_value_row_idx)\n",
    "    \n",
    "fill_table_headers(table)"
   ]
  },
  {
   "cell_type": "code",
   "execution_count": 25,
   "id": "a11bbc71-4005-4670-8f2d-d5c7b11cdfc6",
   "metadata": {},
   "outputs": [
    {
     "data": {
      "text/plain": [
       "[{'number_value': 4.0,\n",
       "  'scale': '%',\n",
       "  'metadata': ['2019', 'September 30,', 'Domestic', 'Discount rate']},\n",
       " {'number_value': 3.75,\n",
       "  'scale': '%',\n",
       "  'metadata': ['2018', 'September 30,', 'Domestic', 'Discount rate']},\n",
       " {'number_value': 1.9,\n",
       "  'scale': '%',\n",
       "  'metadata': ['2019', 'September 30,', 'International', 'Discount rate']},\n",
       " {'number_value': 2.8,\n",
       "  'scale': '%',\n",
       "  'metadata': ['2018', 'September 30,', 'International', 'Discount rate']},\n",
       " {'number_value': 3.4,\n",
       "  'scale': '%',\n",
       "  'metadata': ['2019',\n",
       "   'September 30,',\n",
       "   'International',\n",
       "   'Expected return on plan assets']},\n",
       " {'number_value': 3.7,\n",
       "  'scale': '%',\n",
       "  'metadata': ['2018',\n",
       "   'September 30,',\n",
       "   'International',\n",
       "   'Expected return on plan assets']}]"
      ]
     },
     "execution_count": 25,
     "metadata": {},
     "output_type": "execute_result"
    }
   ],
   "source": [
    "def convert_table(table):\n",
    "    (table, first_value_col_idx, first_value_row_idx) = fill_table_headers(table)\n",
    "    res = []\n",
    "    for i in range(first_value_row_idx, len(table)):        \n",
    "        for j in range(first_value_col_idx, len(table[0])):\n",
    "            r = extract_number(table[i][j])\n",
    "            if r is None:\n",
    "                continue\n",
    "            (number, other_chars) = r\n",
    "            \n",
    "            upper_heads = []\n",
    "            for ih in reversed(range( 0, first_value_row_idx)):\n",
    "                upper_heads.append(table[ih][j])\n",
    "\n",
    "            left_heads = []\n",
    "            for jh in reversed(range( 0, first_value_col_idx)):\n",
    "                left_heads.append(table[i][jh])\n",
    "                        \n",
    "            res.append({'number_value': number, 'scale': other_chars, 'metadata': upper_heads + left_heads  })\n",
    "    return res\n",
    "convert_table(table)"
   ]
  },
  {
   "cell_type": "code",
   "execution_count": 27,
   "id": "06d6102a-5719-4a9e-ad38-615e5dadee75",
   "metadata": {},
   "outputs": [
    {
     "data": {
      "text/plain": [
       "[{'number_value': 4.0,\n",
       "  'scale': '%',\n",
       "  'metadata': ['2019', 'September 30,', 'Domestic', 'Discount rate']},\n",
       " {'number_value': 3.75,\n",
       "  'scale': '%',\n",
       "  'metadata': ['2018', 'September 30,', 'Domestic', 'Discount rate']},\n",
       " {'number_value': 1.9,\n",
       "  'scale': '%',\n",
       "  'metadata': ['2019', 'September 30,', 'International', 'Discount rate']},\n",
       " {'number_value': 2.8,\n",
       "  'scale': '%',\n",
       "  'metadata': ['2018', 'September 30,', 'International', 'Discount rate']},\n",
       " {'number_value': 3.4,\n",
       "  'scale': '%',\n",
       "  'metadata': ['2019',\n",
       "   'September 30,',\n",
       "   'International',\n",
       "   'Expected return on plan assets']},\n",
       " {'number_value': 3.7,\n",
       "  'scale': '%',\n",
       "  'metadata': ['2018',\n",
       "   'September 30,',\n",
       "   'International',\n",
       "   'Expected return on plan assets']}]"
      ]
     },
     "execution_count": 27,
     "metadata": {},
     "output_type": "execute_result"
    }
   ],
   "source": [
    "import table_convert\n",
    "\n",
    "table_convert.convert_table(table)"
   ]
  },
  {
   "cell_type": "code",
   "execution_count": 71,
   "id": "ce50fd92-4e14-43a1-9018-1ed4c4372ce4",
   "metadata": {},
   "outputs": [
    {
     "name": "stdout",
     "output_type": "stream",
     "text": [
      "i: 2\n",
      "1\n",
      "NaN\n",
      "2\n",
      "NaN\n",
      "3\n",
      "NaN\n",
      "i: 3\n",
      "1\n",
      "2\n",
      "3\n",
      "i: 4\n",
      "1\n",
      "NaN\n",
      "2\n",
      "NaN\n",
      "3\n",
      "NaN\n"
     ]
    },
    {
     "data": {
      "text/plain": [
       "[{'number_value': 44.1,\n",
       "  'scale': '',\n",
       "  'metadata': ['2019', 'Years Ended September 30,', 'Other']},\n",
       " {'number_value': 56.7,\n",
       "  'scale': '',\n",
       "  'metadata': ['2018', 'Years Ended September 30,', 'Other']},\n",
       " {'number_value': 70.8,\n",
       "  'scale': '',\n",
       "  'metadata': ['2017', 'Years Ended September 30,', 'Other']}]"
      ]
     },
     "execution_count": 71,
     "metadata": {},
     "output_type": "execute_result"
    }
   ],
   "source": [
    "table = [['', '', 'Years Ended September 30,', ''],\n",
    " ['', '2019', '2018', '2017'],\n",
    " ['Fixed Price', '$  1,452.4', '$  1,146.2', '$  1,036.9'],\n",
    " ['Other', '44.1', '56.7', '70.8'],\n",
    " ['Total sales', '$1,496.5', '$1,202.9', '$1,107.7']]\n",
    "\n",
    "table_convert.convert_table(table)\n"
   ]
  },
  {
   "cell_type": "code",
   "execution_count": 52,
   "id": "0b9d308d-d1dd-47ed-8a35-997c745305d2",
   "metadata": {},
   "outputs": [
    {
     "data": {
      "text/plain": [
       "[{'number_value': 4.0,\n",
       "  'scale': '%',\n",
       "  'metadata': ['2019', 'September 30,', 'Domestic', 'Discount rate']},\n",
       " {'number_value': 3.75,\n",
       "  'scale': '%',\n",
       "  'metadata': ['2018', 'September 30,', 'Domestic', 'Discount rate']},\n",
       " {'number_value': 1.9,\n",
       "  'scale': '%',\n",
       "  'metadata': ['2019', 'September 30,', 'International', 'Discount rate']},\n",
       " {'number_value': 2.8,\n",
       "  'scale': '%',\n",
       "  'metadata': ['2018', 'September 30,', 'International', 'Discount rate']},\n",
       " {'number_value': 3.4,\n",
       "  'scale': '%',\n",
       "  'metadata': ['2019',\n",
       "   'September 30,',\n",
       "   'International',\n",
       "   'Expected return on plan assets']},\n",
       " {'number_value': 3.7,\n",
       "  'scale': '%',\n",
       "  'metadata': ['2018',\n",
       "   'September 30,',\n",
       "   'International',\n",
       "   'Expected return on plan assets']}]"
      ]
     },
     "execution_count": 52,
     "metadata": {},
     "output_type": "execute_result"
    }
   ],
   "source": [
    "table_convert.convert_table(table)"
   ]
  },
  {
   "cell_type": "code",
   "execution_count": 64,
   "id": "785d1927-4d43-4601-8588-3991e0e92754",
   "metadata": {},
   "outputs": [
    {
     "data": {
      "text/plain": [
       "[['', '', 'Years Ended September 30,', ''],\n",
       " ['', '2019', '2018', '2017'],\n",
       " ['Fixed Price', '$  1,452.4', '$  1,146.2', '$  1,036.9'],\n",
       " ['Other', '44.1', '56.7', '70.8'],\n",
       " ['Total sales', '$1,496.5', '$1,202.9', '$1,107.7']]"
      ]
     },
     "execution_count": 64,
     "metadata": {},
     "output_type": "execute_result"
    }
   ],
   "source": [
    "table"
   ]
  },
  {
   "cell_type": "code",
   "execution_count": 51,
   "id": "ab595524-d59e-40ec-be50-3f9f106951da",
   "metadata": {},
   "outputs": [
    {
     "data": {
      "text/plain": [
       "([['', 'Domestic', 'Domestic', 'International', 'International'],\n",
       "  ['', 'September 30,', 'September 30,', 'September 30,', 'September 30,'],\n",
       "  ['', '2019', '2018', '2019', '2018'],\n",
       "  ['Discount rate', '4.00%', '3.75%', '1.90%', '2.80%'],\n",
       "  ['Expected return on plan assets', '', '', '3.40%', '3.70%'],\n",
       "  ['Rate of compensation increase', '', '', '- - %', '- - %']],\n",
       " 1,\n",
       " 3)"
      ]
     },
     "execution_count": 51,
     "metadata": {},
     "output_type": "execute_result"
    }
   ],
   "source": [
    "table = [['', 'Domestic', '', 'International', ''],\n",
    "['', 'September 30,', '', 'September 30,', ''],\n",
    "['', '2019', '2018', '2019', '2018'],\n",
    "['Discount rate', '4.00%', '3.75%', '1.90%', '2.80%'],\n",
    "['Expected return on plan assets', '', '', '3.40%', '3.70%'],\n",
    "['Rate of compensation increase', '', '', '- - %', '- - %']]\n",
    "table_convert.fill_table_headers(table)"
   ]
  },
  {
   "cell_type": "code",
   "execution_count": 76,
   "id": "fcef5828-38bc-451f-a410-c288c3d34a07",
   "metadata": {},
   "outputs": [],
   "source": [
    "table_convert.extract_number(\"Revenue is $1.2m this year.\")"
   ]
  },
  {
   "cell_type": "code",
   "execution_count": 93,
   "id": "76f3a5fb-7cf0-481b-90d1-5e65f8bafeb2",
   "metadata": {},
   "outputs": [
    {
     "name": "stdout",
     "output_type": "stream",
     "text": [
      "(1234567.89, 'm')\n",
      "(25500.75, '%k')\n",
      "(-1500.25, 'k')\n",
      "(3200000.5, 'm')\n",
      "None\n"
     ]
    }
   ],
   "source": [
    "print(extract_number(\"Revenue is $1,234,567.89m this year.\"))\n",
    "# Output: (1234567890.0, \"m\")\n",
    "\n",
    "print(extract_number(\"Profit: 25,500.75k%\"))  \n",
    "# Output: (25500750.0, \"k%\")\n",
    "\n",
    "print(extract_number(\"Loss: -1,500.25k\"))  \n",
    "# Output: (-1500250.0, \"k\")\n",
    "\n",
    "print(extract_number(\"Gain: +3,200,000.50m\"))  \n",
    "# Output: (3200000500.0, \"m\")\n",
    "\n",
    "print(extract_number(\"Invalid string\"))  \n",
    "# Output: None\n",
    "\n"
   ]
  },
  {
   "cell_type": "code",
   "execution_count": 92,
   "id": "ce380694-f559-4c03-a1a4-f61f7e11d14e",
   "metadata": {},
   "outputs": [],
   "source": [
    "import re\n",
    "from typing import Optional, Tuple\n",
    "\n",
    "def extract_number(input_str: str) -> Optional[Tuple[float, str]]:\n",
    "    \"\"\"\n",
    "    Extracts a numeric value from a string and returns a tuple (number, other_characters).\n",
    "    If no number is found, returns None.\n",
    "    \n",
    "    Handles integers, floats, percentages, currency, thousand separators, and scale units like 'm' (million) or 'k' (thousand).\n",
    "    \n",
    "    Args:\n",
    "        input_str (str): The input string.\n",
    "    \n",
    "    Returns:\n",
    "        Optional[Tuple[float, str]]: A tuple with the number and the other characters,\n",
    "        or None if no number is found.\n",
    "    \"\"\"\n",
    "    # Define a regex pattern for matching numbers\n",
    "    pattern = r\"\"\"\n",
    "        (?P<number>\n",
    "            [-+]?                        # Optional sign\n",
    "            (?:\n",
    "                \\d{1,3}(?:,\\d{3})*       # Integer with thousand separators\n",
    "                (?:\\.\\d+)?               # Optional decimal part\n",
    "                |\n",
    "                \\d+\\.\\d+                 # Decimal number without thousand separators\n",
    "            )\n",
    "        )\n",
    "        (?P<scale>[kKmM]?)               # Optional scale: k (thousand), m (million)\n",
    "        (?P<percent>\\s*%?)               # Optional percentage symbol\n",
    "    \"\"\"\n",
    "    \n",
    "    # Compile the regex with the verbose flag\n",
    "    regex = re.compile(pattern, re.VERBOSE)\n",
    "    \n",
    "    match = regex.search(input_str)\n",
    "    if not match:\n",
    "        return None\n",
    "    \n",
    "    number_str = match.group(\"number\").replace(',', '')  # Remove commas from the number\n",
    "    scale = match.group(\"scale\") or ''\n",
    "    percent = match.group(\"percent\") or ''\n",
    "    \n",
    "    try:\n",
    "        number = float(number_str)\n",
    "    except ValueError:\n",
    "        return None\n",
    "    \n",
    "    # Adjust number based on scale\n",
    "    #scale = scale.lower()\n",
    "    #if scale == 'k':\n",
    "    #    number *= 1_000\n",
    "    #elif scale == 'm':\n",
    "    #    number *= 1_000_000\n",
    "\n",
    "    # Construct the other_characters string\n",
    "    other_characters = f\"{percent}{scale}\".strip()\n",
    "    \n",
    "    return number, other_characters\n"
   ]
  },
  {
   "cell_type": "code",
   "execution_count": null,
   "id": "f92a011c-a5f3-4ec0-bb70-955dbdf62dd8",
   "metadata": {},
   "outputs": [],
   "source": []
  }
 ],
 "metadata": {
  "kernelspec": {
   "display_name": "Python [conda env:arpad_tab]",
   "language": "python",
   "name": "conda-env-arpad_tab-py"
  },
  "language_info": {
   "codemirror_mode": {
    "name": "ipython",
    "version": 3
   },
   "file_extension": ".py",
   "mimetype": "text/x-python",
   "name": "python",
   "nbconvert_exporter": "python",
   "pygments_lexer": "ipython3",
   "version": "3.10.15"
  }
 },
 "nbformat": 4,
 "nbformat_minor": 5
}
