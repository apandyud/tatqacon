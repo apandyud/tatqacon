{
 "cells": [
  {
   "cell_type": "markdown",
   "id": "7a26f6af-b19e-4d8a-b8f2-c79db46538a6",
   "metadata": {},
   "source": [
    "##### import pandas as pd\n",
    "import pyreadstat\n",
    "from langchain_chroma import Chroma\n",
    "from langchain_openai import OpenAIEmbeddings\n",
    "import utils\n",
    "from langchain_community.vectorstores import FAISS\n",
    "from langchain_core.documents import Document\n",
    "import numpy as np\n",
    "from progress.bar import Bar\n",
    "%load_ext autoreload\n",
    "%autoreload 2"
   ]
  },
  {
   "cell_type": "code",
   "execution_count": 3,
   "id": "54fedcd9-8514-4d99-afec-c31de369e605",
   "metadata": {},
   "outputs": [],
   "source": [
    "#one prompt for all tipes of code\n",
    "import tatqa_utils\n",
    "import pandas as pd"
   ]
  },
  {
   "cell_type": "code",
   "execution_count": 5,
   "id": "19a89adc-80ad-44a9-aee0-7089f8758874",
   "metadata": {},
   "outputs": [],
   "source": [
    "import os\n",
    "with open('dataset_raw/openai.api.key', 'r') as filek: \n",
    "    openai_key = filek.read()\n",
    "os.environ[\"OPENAI_API_KEY\"] =  openai_key "
   ]
  },
  {
   "cell_type": "code",
   "execution_count": 7,
   "id": "564ca558-edb5-4fa8-be4b-5d2472e2a133",
   "metadata": {},
   "outputs": [],
   "source": [
    "from langchain.globals import set_llm_cache\n",
    "from langchain_openai import ChatOpenAI\n",
    "from langchain_community.cache import SQLiteCache\n",
    "\n",
    "llm = ChatOpenAI(temperature=0)\n",
    "set_llm_cache(SQLiteCache(database_path=\".langchain.db\"))"
   ]
  },
  {
   "cell_type": "code",
   "execution_count": 8,
   "id": "2da9be6b-88ea-4b8a-aad1-fa4014ee57d2",
   "metadata": {},
   "outputs": [],
   "source": [
    "df = pd.read_json('0')"
   ]
  },
  {
   "cell_type": "code",
   "execution_count": null,
   "id": "c7d5dbaa-d123-4a71-a0c5-7c6952714155",
   "metadata": {},
   "outputs": [],
   "source": [
    "def eval_res(res):\n",
    "    good_type = 0\n",
    "    for i in res:\n",
    "       \n",
    "       \n",
    "        if (i[\"raw\"][\"answer_type\"] == \"arithmetic\" and  i[\"answer2\"] == \"YES\") or (i[\"raw\"][\"answer_type\"] != \"arithmetic\" and  i[\"answer2\"] == \"NO\"):\n",
    "            good_type = good_type+1\n",
    "        else:\n",
    "            print(\"**\", end=\"\")        \n",
    "            print(i[\"raw\"][\"answer_type\"],\"\\t\",i[\"answer2\"],\"\\t\", i[\"raw\"][\"answer_from\"], \"\\t\",i[\"answer\"],\"\\t\", i[\"question\"])    \n",
    "   \n",
    "    print(good_type, len(res), good_type / len(res))\n",
    "eval_res(res)\n"
   ]
  },
  {
   "cell_type": "code",
   "execution_count": 9,
   "id": "b694284f-ee71-45ce-82cc-e29981646e96",
   "metadata": {},
   "outputs": [
    {
     "name": "stdout",
     "output_type": "stream",
     "text": [
      "Consider the following text and table as context. To answer the following question, is data from text, table, or both required? TEXT: Sales by Contract Type: Substantially all of our contracts are fixed-price type contracts. Sales included in Other contract types represent cost plus and time and material type contracts.;On a fixed-price type contract, we agree to perform the contractual statement of work for a predetermined sales price. On a cost-plus type contract, we are paid our allowable incurred costs plus a profit which can be fixed or variable depending on the contract’s fee arrangement up to predetermined funding levels determined by the customer. On a time-and-material type contract, we are paid on the basis of direct labor hours expended at specified fixed-price hourly rates (that include wages, overhead, allowable general and administrative expenses and profit) and materials at cost. The table below presents total net sales disaggregated by contract type (in millions): TABLE: [['', '', 'Years Ended September 30,', ''], ['', '2019', '2018', '2017'], ['Fixed Price', '$  1,452.4', '$  1,146.2', '$  1,036.9'], ['Other', '44.1', '56.7', '70.8'], ['Total sales', '$1,496.5', '$1,202.9', '$1,107.7']] QUESTION: What is the company paid on a cost-plus type contract? Please answer with one word: TEXT, TABLE or BOTH. \n"
     ]
    }
   ],
   "source": [
    "table = df.loc(0)[0][\"table\"][\"table\"]\n",
    "text = \";\".join([p[\"text\"] for p in df.loc(0)[0][\"paragraphs\"]])\n",
    "question = df.loc(0)[0][\"questions\"][0][\"question\"]\n",
    "prompt = 4,\n",
    "print(prompt)"
   ]
  },
  {
   "cell_type": "code",
   "execution_count": 16,
   "id": "93016355-a275-4431-ad16-d9f068bd009b",
   "metadata": {
    "scrolled": true
   },
   "outputs": [
    {
     "name": "stdout",
     "output_type": "stream",
     "text": [
      "**span \t YES \t text \t TEXT \t What is the company paid on a cost-plus type contract?\n",
      "**span \t YES \t table-text \t TABLE \t What is the amount of total sales in 2019?\n",
      "**span \t YES \t table-text \t TABLE \t In which year is the amount of total sales the largest?\n",
      "**multi-span \t YES \t table-text \t TABLE \t What are the types of Solutions segments in the table?\n",
      "**span \t YES \t text \t BOTH \t How is the discount rate for domestic plans determined?\n",
      "**span \t YES \t text \t TEXT \t How is the discount rate for international plans determined?\n",
      "**span \t YES \t text \t TEXT \t How often does the company review the actuarial assumptions which the periodic benefit cost and the actuarial present value of projected benefit obligations are based on?\n",
      "**multi-span \t YES \t table \t TABLE \t What financial items are listed in the table?\n",
      "**span \t YES \t text \t TEXT \t Which countries does the group operate defined benefit schemes in?\n",
      "**arithmetic \t NO \t table \t TABLE \t What is the 2019 average defined contribution schemes?\n",
      "**arithmetic \t NO \t table \t TABLE \t What is the 2019 average defined benefit schemes?\n",
      "**multi-span \t YES \t table \t TABLE \t What was the operating loss carryforward amount in 2019 and 2018 respectively?\n",
      "**multi-span \t YES \t table-text \t TABLE \t What was the net deferred tax asset before valuation allowance amount in 2019 and 2018 respectively?\n",
      "**multi-span \t YES \t table \t TABLE \t What was the net deferred tax asset amount in 2019 and 2018 respectively?\n",
      "**arithmetic \t NO \t table-text \t TABLE \t What is the percentage change in the valuation allowance from 2018 to 2019?\n",
      "15 30 0.5\n"
     ]
    }
   ],
   "source": [
    "res = []\n",
    "for idx,row in df.head().iterrows():\n",
    "    table = row[\"table\"][\"table\"]\n",
    "    text = \";\".join([p[\"text\"] for p in row[\"paragraphs\"]])\n",
    "    for q in row[\"questions\"]:\n",
    "        question = q[\"question\"]\n",
    "        prompt1 = f\"Consider the following text and table as context. To answer the following question, is data from text, table, or both required? TEXT: {text} TABLE: {table} QUESTION: {question} Please answer with one word: TEXT, TABLE or BOTH. \"\n",
    "        answer = llm.invoke(prompt1).content\n",
    "        prompt2 = f\"Consider the following text and table as context. To answer the following question, is some arithmetic calculation required on data? TEXT: {text} TABLE: {table} QUESTION: {question} Please answer with one word: YES or NO.\"\n",
    "        answer2 = llm.invoke(prompt2).content\n",
    "        res.append({'raw': q, \"question\":question, \"prompt\": prompt, \"answer\": answer, \"prompt2\": prompt2, \"answer2\": answer2})\n",
    "eval_res(res)\n",
    ","
   ]
  },
  {
   "cell_type": "code",
   "execution_count": 15,
   "id": "b4d0f9a3-0641-45f1-bcf1-0c22c6cc3c17",
   "metadata": {},
   "outputs": [
    {
     "name": "stdout",
     "output_type": "stream",
     "text": [
      "**span \t YES \t text \t TEXT \t What is the company paid on a cost-plus type contract?\n",
      "**span \t YES \t text \t BOTH \t How is the discount rate for domestic plans determined?\n",
      "**span \t YES \t text \t TEXT \t How is the discount rate for international plans determined?\n",
      "**span \t YES \t text \t TEXT \t How often does the company review the actuarial assumptions which the periodic benefit cost and the actuarial present value of projected benefit obligations are based on?\n",
      "**arithmetic \t NO \t table \t TABLE \t What is the year on year percentage change in domestic discount rate between 2018 and 2019?\n",
      "**arithmetic \t NO \t table \t TABLE \t What is the year on year percentage change in international expected return on plan assets between 2018 and 2019?\n",
      "**span \t YES \t text \t TEXT \t Which countries does the group operate defined benefit schemes in?\n",
      "**arithmetic \t NO \t table \t TABLE \t What is the 2019 average defined contribution schemes?\n",
      "**arithmetic \t NO \t table \t TABLE \t What is the 2019 average defined benefit schemes?\n",
      "**arithmetic \t NO \t table \t TABLE \t What is the difference between 2019 average defined contribution schemes and 2019 average defined benefit schemes?\n",
      "**multi-span \t YES \t table \t TABLE \t What was the operating loss carryforward amount in 2019 and 2018 respectively?\n",
      "**multi-span \t YES \t table-text \t TABLE \t What was the net deferred tax asset before valuation allowance amount in 2019 and 2018 respectively?\n",
      "**multi-span \t YES \t table \t TABLE \t What was the net deferred tax asset amount in 2019 and 2018 respectively?\n",
      "**arithmetic \t NO \t table \t TABLE \t What is the percentage change in the operating loss carryforward from 2018 to 2019?\n",
      "16 30 0.5333333333333333\n"
     ]
    }
   ],
   "source": [
    "res = []\n",
    "for idx,row in df.head().iterrows():\n",
    "    table = row[\"table\"][\"table\"]\n",
    "    text = \";\".join([p[\"text\"] for p in row[\"paragraphs\"]])\n",
    "    for q in row[\"questions\"]:\n",
    "        question = q[\"question\"]\n",
    "        prompt2 = f\"Consider the following TEXT as context. To answer the QUESTION question, is some arithmetic calculation required on data? TEXT: {text} QUESTION: {question} Please answer with one word: YES or NO.\"\n",
    "        answer2 = llm.invoke(prompt2).content\n",
    "        res.append({'raw': q, \"question\":question, \"prompt\": prompt, \"answer\": answer, \"prompt2\": prompt2, \"answer2\": answer2})\n",
    "eval_res(res)"
   ]
  },
  {
   "cell_type": "code",
   "execution_count": null,
   "id": "eae9ab5a-b8d9-4a52-9b8b-48bf7d2b0bac",
   "metadata": {},
   "outputs": [],
   "source": [
    "def eval_res(res):\n",
    "    good_type = 0\n",
    "    for i in res:\n",
    "       \n",
    "       \n",
    "        if (i[\"raw\"][\"answer_type\"] == \"arithmetic\" and  i[\"answer2\"] == \"YES\") or (i[\"raw\"][\"answer_type\"] != \"arithmetic\" and  i[\"answer2\"] == \"NO\"):\n",
    "            good_type = good_type+1\n",
    "        else:\n",
    "            print(\"**\", end=\"\")        \n",
    "            print(i[\"raw\"][\"answer_type\"],\"\\t\",i[\"answer2\"],\"\\t\", i[\"raw\"][\"answer_from\"], \"\\t\",i[\"answer\"],\"\\t\", i[\"question\"])\n",
    "   \n",
    "    print(good_type, len(res), good_type / len(res))\n",
    "eval_res(res)"
   ]
  },
  {
   "cell_type": "code",
   "execution_count": 20,
   "id": "8ba4dd6a-eb17-48d0-bf32-0ba3bfd891c5",
   "metadata": {},
   "outputs": [
    {
     "name": "stdout",
     "output_type": "stream",
     "text": [
      "**span \t YES \t text \t TABLE \t What is the company paid on a cost-plus type contract?\n",
      "**span \t YES \t table-text \t TABLE \t What is the amount of total sales in 2019?\n",
      "**span \t YES \t table-text \t TABLE \t In which year is the amount of total sales the largest?\n",
      "**multi-span \t YES \t table-text \t TABLE \t In which years was for the net sales by segment and industry end market calculated?\n",
      "**span \t YES \t table \t TABLE \t In which year was the amount for Sensors the largest?\n",
      "**span \t YES \t text \t TABLE \t How is the discount rate for domestic plans determined?\n",
      "**span \t YES \t text \t TABLE \t How is the discount rate for international plans determined?\n",
      "**span \t YES \t text \t TABLE \t How often does the company review the actuarial assumptions which the periodic benefit cost and the actuarial present value of projected benefit obligations are based on?\n",
      "**multi-span \t YES \t table \t TABLE \t What financial items are listed in the table?\n",
      "**span \t YES \t text \t TABLE \t Which countries does the group operate defined benefit schemes in?\n",
      "**span \t YES \t text \t TABLE \t Which countries does the group operate defined benefit indemnity plans in?\n",
      "**arithmetic \t NO \t table \t TABLE \t What is the 2019 average defined benefit schemes?\n",
      "**multi-span \t YES \t table \t TABLE \t What was the operating loss carryforward amount in 2019 and 2018 respectively?\n",
      "**multi-span \t YES \t table-text \t TABLE \t What was the net deferred tax asset before valuation allowance amount in 2019 and 2018 respectively?\n",
      "**multi-span \t YES \t table \t TABLE \t What was the net deferred tax asset amount in 2019 and 2018 respectively?\n",
      "15 30 0.5\n"
     ]
    }
   ],
   "source": [
    "res = []\n",
    "for idx,row in df.head().iterrows():\n",
    "    table = row[\"table\"][\"table\"]\n",
    "    text = \";\".join([p[\"text\"] for p in row[\"paragraphs\"]])\n",
    "    for q in row[\"questions\"]:\n",
    "        question = q[\"question\"]\n",
    "        prompt2 = f\"To answer the following question, is some arithmetic calculation required on data? QUESTION: {question} Please answer with one word: YES or NO.\"\n",
    "        answer2 = llm.invoke(prompt2).content\n",
    "        res.append({'raw': q, \"question\":question, \"prompt\": prompt, \"answer\": answer, \"prompt2\": prompt2, \"answer2\": answer2})\n",
    "eval_res(res)"
   ]
  },
  {
   "cell_type": "code",
   "execution_count": 23,
   "id": "457cb2ad-6155-453b-82fb-5c187e7bf8c6",
   "metadata": {},
   "outputs": [
    {
     "name": "stdout",
     "output_type": "stream",
     "text": [
      "**span \t YES \t text \t TABLE \t What is the company paid on a cost-plus type contract?\n",
      "**span \t YES \t table-text \t TABLE \t What is the amount of total sales in 2019?\n",
      "**arithmetic \t NO \t table \t TABLE \t What is the 2019 average defined benefit schemes?\n",
      "**multi-span \t YES \t table \t TABLE \t What was the operating loss carryforward amount in 2019 and 2018 respectively?\n",
      "**multi-span \t YES \t table-text \t TABLE \t What was the net deferred tax asset before valuation allowance amount in 2019 and 2018 respectively?\n",
      "**multi-span \t YES \t table \t TABLE \t What was the net deferred tax asset amount in 2019 and 2018 respectively?\n",
      "24 30 0.8\n"
     ]
    }
   ],
   "source": [
    "res = []\n",
    "for idx,row in df.head().iterrows():\n",
    "    table = row[\"table\"][\"table\"]\n",
    "    text = \";\".join([p[\"text\"] for p in row[\"paragraphs\"]])\n",
    "    for q in row[\"questions\"]:\n",
    "        question = q[\"question\"]\n",
    "        #prompt2 = f\"To answer the following question, is some arithmetic calculation required on data? QUESTION: {question} Please answer with one word: YES or NO.\"\n",
    "        prompt2 = f\"To answer the following question, is arithmetic calculation required on data? Please answer with one word: YES or NO. QUESTION: {question}\"\n",
    "        answer2 = llm.invoke(prompt2).content\n",
    "        res.append({'raw': q, \"question\":question, \"prompt\": prompt, \"answer\": answer, \"prompt2\": prompt2, \"answer2\": answer2})\n",
    "eval_res(res)\n"
   ]
  },
  {
   "cell_type": "code",
   "execution_count": 24,
   "id": "6640cb29-9c65-4c7c-8b33-5fc4dcbdcc7f",
   "metadata": {},
   "outputs": [
    {
     "name": "stdout",
     "output_type": "stream",
     "text": [
      "**span \t YES \t text \t TABLE \t What is the company paid on a cost-plus type contract?\n",
      "**span \t YES \t table-text \t TABLE \t What is the amount of total sales in 2019?\n",
      "**span \t YES \t table-text \t TABLE \t In which year is the amount of total sales the largest?\n",
      "**span \t YES \t table \t TABLE \t In which year was the amount for Sensors the largest?\n",
      "**multi-span \t YES \t table \t TABLE \t What was the operating loss carryforward amount in 2019 and 2018 respectively?\n",
      "**multi-span \t YES \t table-text \t TABLE \t What was the net deferred tax asset before valuation allowance amount in 2019 and 2018 respectively?\n",
      "**multi-span \t YES \t table \t TABLE \t What was the net deferred tax asset amount in 2019 and 2018 respectively?\n",
      "23 30 0.7666666666666667\n"
     ]
    }
   ],
   "source": [
    "res = []\n",
    "for idx,row in df.head().iterrows():\n",
    "    table = row[\"table\"][\"table\"]\n",
    "    text = \";\".join([p[\"text\"] for p in row[\"paragraphs\"]])\n",
    "    for q in row[\"questions\"]:\n",
    "        question = q[\"question\"]\n",
    "        #prompt2 = f\"To answer the following question, is some arithmetic calculation required on data? QUESTION: {question} Please answer with one word: YES or NO.\"\n",
    "        prompt2 = f\"To answer the following question, is some arithmetic calculation required on data? Please answer with one word: YES or NO. QUESTION: {question}\"\n",
    "        answer2 = llm.invoke(prompt2).content\n",
    "        res.append({'raw': q, \"question\":question, \"prompt\": prompt, \"answer\": answer, \"prompt2\": prompt2, \"answer2\": answer2})\n",
    "eval_res(res)"
   ]
  },
  {
   "cell_type": "code",
   "execution_count": null,
   "id": "328ac9f5-5806-4586-8ec7-aa124c7803f7",
   "metadata": {},
   "outputs": [],
   "source": [
    "res = []\n",
    "for idx,row in df.head().iterrows():\n",
    "    table = row[\"table\"][\"table\"]\n",
    "    text = \";\".join([p[\"text\"] for p in row[\"paragraphs\"]])\n",
    "    for q in row[\"questions\"]:\n",
    "        question = q[\"question\"]\n",
    "        #prompt2 = f\"To answer the following question, is some arithmetic calculation required on data? QUESTION: {question} Please answer with one word: YES or NO.\"\n",
    "        prompt2 = f\"To answer the following question, is some arithmetic calculation required on data? Please answer with one word: YES or NO. QUESTION: {question}\"\n",
    "        answer2 = llm.invoke(prompt2).content\n",
    "        res.append({'raw': q, \"question\":question, \"prompt\": prompt, \"answer\": answer, \"prompt2\": prompt2, \"answer2\": answer2})\n",
    "eval_res(res)"
   ]
  },
  {
   "cell_type": "code",
   "execution_count": 31,
   "id": "70551a3e-35fb-48b8-8ab7-d2c7b3a7e7da",
   "metadata": {},
   "outputs": [
    {
     "name": "stdout",
     "output_type": "stream",
     "text": [
      "**span \t NO \t text \t TABLE \t What is the company paid on a cost-plus type contract?\n",
      "**span \t YES \t table-text \t TABLE \t What is the amount of total sales in 2019?\n",
      "**multi-span \t NO \t text \t TABLE \t What are the contract types?\n",
      "**span \t NO \t table-text \t TABLE \t In which year is the amount of total sales the largest?\n",
      "**arithmetic \t NO \t table-text \t TABLE \t What is the change in Other in 2019 from 2018?\n",
      "**arithmetic \t NO \t table-text \t TABLE \t What is the percentage change in Other in 2019 from 2018?\n",
      "**span \t NO \t text \t TABLE \t How is industry end market information presented?\n",
      "**multi-span \t NO \t table-text \t TABLE \t In which years was for the net sales by segment and industry end market calculated?\n",
      "**multi-span \t YES \t table-text \t TABLE \t What are the types of Solutions segments in the table?\n",
      "**span \t NO \t table \t TABLE \t In which year was the amount for Sensors the largest?\n",
      "**arithmetic \t NO \t table \t TABLE \t What was the change in the amount for Appliances in 2019 from 2018?\n",
      "**arithmetic \t NO \t table \t TABLE \t What was the percentage change in the amount for Appliances in 2019 from 2018?\n",
      "**span \t YES \t text \t TABLE \t How is the discount rate for domestic plans determined?\n",
      "**span \t YES \t text \t TABLE \t How is the discount rate for international plans determined?\n",
      "**span \t YES \t text \t TABLE \t How often does the company review the actuarial assumptions which the periodic benefit cost and the actuarial present value of projected benefit obligations are based on?\n",
      "**arithmetic \t NO \t table \t TABLE \t What is the year on year percentage change in domestic discount rate between 2018 and 2019?\n",
      "**arithmetic \t NO \t table \t TABLE \t What is the year on year percentage change in international expected return on plan assets between 2018 and 2019?\n",
      "**multi-span \t NO \t table \t TABLE \t What financial items are listed in the table?\n",
      "**span \t YES \t text \t TABLE \t Which countries does the group operate defined benefit schemes in?\n",
      "**span \t NO \t text \t TABLE \t Which countries does the group operate defined benefit indemnity plans in?\n",
      "**arithmetic \t NO \t table \t TABLE \t What is the 2019 average defined contribution schemes?\n",
      "**arithmetic \t NO \t table \t TABLE \t What is the 2019 average defined benefit schemes?\n",
      "**arithmetic \t NO \t table \t TABLE \t What is the difference between 2019 average defined contribution schemes and 2019 average defined benefit schemes?\n",
      "**multi-span \t YES \t table \t TABLE \t What was the operating loss carryforward amount in 2019 and 2018 respectively?\n",
      "**multi-span \t NO \t table-text \t TABLE \t What was the net deferred tax asset before valuation allowance amount in 2019 and 2018 respectively?\n",
      "**multi-span \t YES \t table \t TABLE \t What was the net deferred tax asset amount in 2019 and 2018 respectively?\n",
      "**arithmetic \t NO \t table \t TABLE \t What is the percentage change in the operating loss carryforward from 2018 to 2019?\n",
      "**arithmetic \t NO \t table-text \t TABLE \t What is the percentage change in the valuation allowance from 2018 to 2019?\n",
      "**arithmetic \t NO \t table \t TABLE \t What is the percentage change in the net deferred tax asset from 2018 to 2019?\n",
      "1 30 0.03333333333333333\n"
     ]
    }
   ],
   "source": [
    "res = []\n",
    "for idx,row in df.head().iterrows():\n",
    "    table = row[\"table\"][\"table\"]\n",
    "    text = \";\".join([p[\"text\"] for p in row[\"paragraphs\"]])\n",
    "    for q in row[\"questions\"]:\n",
    "        question = q[\"question\"]\n",
    "        prompt2 = f\"Consider the following text and table as context. To answer the following question, is some arithmetic calculation required on data, or can it be found in context without calculation? Please answer with one word: YES or NOTREQ. TEXT: {text} TABLE: {table} QUESTION: {question}\"\n",
    "        answer2 = llm.invoke(prompt2).content\n",
    "        res.append({'raw': q, \"question\":question, \"prompt\": prompt, \"answer\": answer, \"prompt2\": prompt2, \"answer2\": answer2})\n",
    "eval_res(res)\n"
   ]
  },
  {
   "cell_type": "code",
   "execution_count": null,
   "id": "2807f02a-84f6-41d7-9693-e681a66536cd",
   "metadata": {},
   "outputs": [],
   "source": [
    "# eval át lett írva NOTREQ-re"
   ]
  },
  {
   "cell_type": "code",
   "execution_count": 34,
   "id": "6dcc5c96-f5e4-44fc-91dd-f8cc0888db48",
   "metadata": {},
   "outputs": [
    {
     "name": "stdout",
     "output_type": "stream",
     "text": [
      "**span \t YES \t table-text \t TABLE \t What is the amount of total sales in 2019?\n",
      "**span \t YES \t table-text \t TABLE \t In which year is the amount of total sales the largest?\n",
      "**span \t YES \t text \t TABLE \t How often does the company review the actuarial assumptions which the periodic benefit cost and the actuarial present value of projected benefit obligations are based on?\n",
      "**arithmetic \t NOTREQ \t table \t TABLE \t What is the 2019 average defined contribution schemes?\n",
      "**arithmetic \t NOTREQ \t table \t TABLE \t What is the 2019 average defined benefit schemes?\n",
      "**multi-span \t YES \t table \t TABLE \t What was the operating loss carryforward amount in 2019 and 2018 respectively?\n",
      "**multi-span \t YES \t table-text \t TABLE \t What was the net deferred tax asset before valuation allowance amount in 2019 and 2018 respectively?\n",
      "**multi-span \t YES \t table \t TABLE \t What was the net deferred tax asset amount in 2019 and 2018 respectively?\n",
      "22 30 0.7333333333333333\n"
     ]
    }
   ],
   "source": [
    "res = []\n",
    "for idx,row in df.head().iterrows():\n",
    "    table = row[\"table\"][\"table\"]\n",
    "    text = \";\".join([p[\"text\"] for p in row[\"paragraphs\"]])\n",
    "    for q in row[\"questions\"]:\n",
    "        question = q[\"question\"]\n",
    "        prompt2 = f\"Consider the following text and table as context. To answer the following question, is some arithmetic calculation required on data, or can it be found in context without calculation? Please answer with one word: YES or NOTREQ. TEXT: {text} TABLE: {table} QUESTION: {question}\"\n",
    "        answer2 = llm.invoke(prompt2).content\n",
    "        res.append({'raw': q, \"question\":question, \"prompt\": prompt, \"answer\": answer, \"prompt2\": prompt2, \"answer2\": answer2})\n",
    "eval_res(res)\n"
   ]
  },
  {
   "cell_type": "code",
   "execution_count": 37,
   "id": "602b60b6-188d-404a-8c67-199c33da68b5",
   "metadata": {},
   "outputs": [
    {
     "name": "stdout",
     "output_type": "stream",
     "text": [
      "**4960801d-277d-4f79-8eca-c4d0200fa9d6 span \t YES \t table-text \t TABLE \t What is the amount of total sales in 2019?\n",
      "**f4142349-eb72-49eb-9a76-f3ccb1010cbc span \t YES \t table-text \t TABLE \t In which year is the amount of total sales the largest?\n",
      "**0f032004-ec01-40a0-831b-aac3f7e1b5c7 span \t YES \t text \t TABLE \t How often does the company review the actuarial assumptions which the periodic benefit cost and the actuarial present value of projected benefit obligations are based on?\n",
      "**a0414f81-8dc2-44b2-a441-2c9d9c805c4d arithmetic \t NOTREQ \t table \t TABLE \t What is the 2019 average defined contribution schemes?\n",
      "**bf7abd62-d9cd-48d2-8826-1457684019a3 arithmetic \t NOTREQ \t table \t TABLE \t What is the 2019 average defined benefit schemes?\n",
      "**c3993366-da98-42f2-a5b2-3de28c4d0e10 multi-span \t YES \t table \t TABLE \t What was the operating loss carryforward amount in 2019 and 2018 respectively?\n",
      "**5c7d8918-6083-4ac1-a0eb-137a114a7cd7 multi-span \t YES \t table-text \t TABLE \t What was the net deferred tax asset before valuation allowance amount in 2019 and 2018 respectively?\n",
      "**55cba0fe-5e0a-45b5-af6b-97a6e77f81e2 multi-span \t YES \t table \t TABLE \t What was the net deferred tax asset amount in 2019 and 2018 respectively?\n",
      "22 30 0.7333333333333333\n"
     ]
    }
   ],
   "source": [
    "def eval_res(res):\n",
    "    good_type = 0\n",
    "    for i in res:\n",
    "       \n",
    "       \n",
    "        if (i[\"raw\"][\"answer_type\"] == \"arithmetic\" and  i[\"answer2\"] == \"YES\") or (i[\"raw\"][\"answer_type\"] != \"arithmetic\" and  i[\"answer2\"] == \"NOTREQ\"):\n",
    "            good_type = good_type+1\n",
    "        else:\n",
    "            print(\"**\", end=\"\")        \n",
    "            print(i[\"raw\"]['uid'],i[\"raw\"][\"answer_type\"],\"\\t\",i[\"answer2\"],\"\\t\", i[\"raw\"][\"answer_from\"], \"\\t\",i[\"answer\"],\"\\t\", i[\"question\"])\n",
    "   \n",
    "    print(good_type, len(res), good_type / len(res))\n",
    "eval_res(res)"
   ]
  },
  {
   "cell_type": "code",
   "execution_count": null,
   "id": "a505d890-f580-44ef-9954-09180382d14d",
   "metadata": {},
   "outputs": [],
   "source": []
  }
 ],
 "metadata": {
  "kernelspec": {
   "display_name": "Python [conda env:arpad_tab]",
   "language": "python",
   "name": "conda-env-arpad_tab-py"
  },
  "language_info": {
   "codemirror_mode": {
    "name": "ipython",
    "version": 3
   },
   "file_extension": ".py",
   "mimetype": "text/x-python",
   "name": "python",
   "nbconvert_exporter": "python",
   "pygments_lexer": "ipython3",
   "version": "3.10.15"
  }
 },
 "nbformat": 4,
 "nbformat_minor": 5
}
